{
 "cells": [
  {
   "cell_type": "markdown",
   "metadata": {},
   "source": [
    "<img src=\"Archivos/miia.jpg\" width=800x>\n",
    "\n",
    "# Laboratorio 1\n",
    "\n",
    "## Desarrollo de una herramienta analítica usando solo Python\n",
    "\n",
    "Este laboratorio busca evaluar las habilidades relacionadas con la primera parte del curso, correspondiente a las primeras tres semanas. Este enunciado estará disponible desde la semana 2 y deberá entregarse al final de la semana 4 en el enlace correspondiente. Su desarrollo corresponde al 30% de la calificación total del curso.\n",
    "\n",
    "Esta actividad responde directamente al segundo objetivo del curso:\n",
    "* Implementar una herramienta analítica que permita responder una pregunta de negocio para un problema sencillo de analítica de datos, utilizando únicamente algorítmica básica en Python.\n",
    "\n",
    "Al desarrollar este laboratorio pondrás a prueba tus habilidades para: \n",
    "1. Leer datos desde archivos.\n",
    "2. Almacenar datos en  estructuras de Python.\n",
    "3. Crear y llamar funciones correctamente.\n",
    "4. Implementar condicionales diferenciando *if*, *elif* y *else*\n",
    "5. Implementar ciclos diferenciando el propósito de *for* y *while*\n",
    "6. Importar paquetes y utilizar sus funciones.\n",
    "\n",
    "**NOTAS:**\n",
    "- Te recomendamos leer por completo el enunciado del laboratorio antes de comenzar, de forma que tengas claro el propósito completo de la actividad, y puedas desarrollar tu solución apuntando a él desde el comienzo.\n"
   ]
  },
  {
   "cell_type": "markdown",
   "metadata": {},
   "source": [
    "## Contexto: exploración del potencial para asignar becas Uniandes\n",
    "La Universidad de los Andes se ha caracterizado por su compromiso con la generación de impacto en la sociedad a través de diferentes programas de becas. Programas como Quiero Estudiar, o Ser Pilo Paga, entre otros, han sido revolucionarios, al permitir que estudiantes de bajos recursos puedan acceder a una de las universidades privadas más importantes del país.\n",
    "\n",
    "Actualmente, la Universidad quiere evaluar el potencial impacto que tendrían algunos programas de *acción afirmativa* para asignación de becas, con base en información demográfica que ha obtenido a través de encuestas. Se cuenta con información respecto a la edad, género, estado civil, estrato socio-económico, región de proveniencia, desempeño académico y nivel de escolaridad de las personas que han respondido encuestas. Los encargados de diseñar el programa saben que utilizar criterios basados en este tipo de variables es un tema sensible, pero es necesario si se quieren focalizar las oportunidades en poblaciones menos representadas.\n",
    "\n",
    "El objetivo de este laboratorio es crear una herramienta computacional que permita a un tomador de decisiones explorar qué efecto podría tener el uso de diferentes reglas para seleccionar la población que sería beneficiaria de las becas. Puntualmente, se espera que, dadas unas reglas de selección (ej.: pertenecer a cierta región, rango de edad, etc.), la herramienta ofrezca información sobre la población potencialmente beneficiada, de forma que exista un sustento al momento de definir las reglas de selección."
   ]
  },
  {
   "cell_type": "markdown",
   "metadata": {},
   "source": [
    "## 1. Obtención e inspección de archivos\n",
    "\n",
    "Los datos de encuestas fueron obtenidos como parte de un trabajo de campo, y por limitaciones tecnológicas, solo se cuenta con la información en archivos de texto plano. Cada archivo corresponde a una de las variables antes mencionadas y se puede garantizar que todos relacionan a las personas encuestadas en el mismo orden (i.e., la primera línea de todos los archivos corresponde a datos de la primera persona encuestada, la segunda línea a la segunda persona, etc.).\n",
    "\n",
    "Los archivos con los que se cuenta son:\n",
    "* *edades.txt*: un archivo ordenado con las edades de cada persona de la población encuestada \n",
    "* *género.txt*: un archivo ordenado con el género de cada persona de la población encuestada \n",
    "* *estado_civil.txt*: un archivo ordenado con el estado civil de cada persona de la población encuestada \n",
    "* *escolaridad.txt*: un archivo ordenado con el nivel de escolaridad de cada persona de la población encuestada \n",
    "* *estrato.txt*: un archivo ordenado con el estrato socio-económico de cada persona de la población encuestada\n",
    "* *region.txt*: un archivo ordenado con la región de proveniencia de cada persona de la población encuestada"
   ]
  },
  {
   "cell_type": "markdown",
   "metadata": {},
   "source": [
    "**Misión 1**\n",
    "\n",
    "Poner en variables de Python la información que está en los archivos listados arriba.\n",
    "\n",
    "* *Versión base*: escribe línea a línea el código necesario para poner en variables de Python la información de cada uno de los archivos.\n",
    "\n",
    "* *Milla extra*: escribe una función que sea capaz de hacer lo anterior para un archivo y úsala en un ciclo para automatizar la lectura de los diferentes archivos."
   ]
  },
  {
   "cell_type": "code",
   "execution_count": 19,
   "metadata": {},
   "outputs": [],
   "source": [
    "# código\n",
    "\n",
    "def lectura(listado):\n",
    "    direccion = \"./Archivos/\"+listado+\".txt\"\n",
    "    with open(direccion, mode = \"r\", encoding=\"UTF-8\") as f:\n",
    "        lineas = f.read().splitlines()\n",
    "    return lineas\n",
    "\n",
    "archivos = (\"id\",\"edad\", \"escolaridad\", \"estado_civil\", \"estrato\", \"genero\", \"promedio\", \"region\")\n",
    "listas = (list(range(1,500)),lectura(\"edad\"),lectura(\"escolaridad\"),lectura(\"estado_civil\"),lectura(\"estrato\"),lectura(\"genero\"),lectura(\"promedio\"),lectura(\"region\"))\n",
    "\n",
    "for i in archivos:\n",
    "    poblacion = dict(zip(archivos,listas))"
   ]
  },
  {
   "cell_type": "markdown",
   "metadata": {},
   "source": [
    "**Misión 2**\n",
    "\n",
    "Reportar las principales características en los datos.\n",
    "* *Versión base*: utilizar métricas básicas como conteos o promedios por categorías en los datos.\n",
    "* *Milla extra*: utilizar visualizaciones simples como diagramas de barras, de pastel u otros."
   ]
  },
  {
   "cell_type": "code",
   "execution_count": 20,
   "metadata": {},
   "outputs": [
    {
     "data": {
      "text/plain": [
       "[18.59485133040864, 0.9762868430947945, 1.1159169144698902]"
      ]
     },
     "execution_count": 20,
     "metadata": {},
     "output_type": "execute_result"
    }
   ],
   "source": [
    "# código\n",
    "\n",
    "# importación de paquetes necesarios\n",
    "\n",
    "import numpy as np\n",
    "import matplotlib.mlab as mlab\n",
    "import matplotlib.pyplot as plt\n",
    "\n",
    "\n",
    "### función que calcula la mediana de una lista de datos numéricos\n",
    "\n",
    "numericos = (\"edad\", \"estrato\", \"promedio\")\n",
    "\n",
    "def mediana(lista):\n",
    "    res = [np.median(np.array([float(i) for i in poblacion.get(j)]).astype(np.float)) for j in lista]\n",
    "    return res\n",
    "\n",
    "mediana(numericos)\n",
    "# [49.0, 2.0, 2.7]\n",
    "# La mediana de la edad es 49 años, la mediana del estrato es 2, y la mediana del promedio es 2.7\n",
    "\n",
    "#'''\n",
    "#función que visualiza las características de una población dada\n",
    "#(nota que la variable 'poblacion' es local; podemos pasar cualquier población a la función)\n",
    "#'''\n",
    "\n",
    "def desvest(lista):\n",
    "    res = [np.std(np.array([float(i) for i in poblacion.get(j)]).astype(np.float)) for j in lista]\n",
    "    return res\n",
    "\n",
    "desvest(numericos)\n",
    "\n",
    "# [18.59485133040864, 0.9762868430947945, 1.1159169144698902]\n",
    "# La desviacion estandar de la edad son 19 años, estrato 1 unidad, y promedio 1 punto. "
   ]
  },
  {
   "cell_type": "code",
   "execution_count": 1386,
   "metadata": {},
   "outputs": [
    {
     "data": {
      "image/png": "[encoded data removed]",
      "text/plain": [
       "<Figure size 1080x360 with 3 Axes>"
      ]
     },
     "metadata": {
      "needs_background": "light"
     },
     "output_type": "display_data"
    }
   ],
   "source": [
    "# Visualizaciones datos numericos:\n",
    "\n",
    "plt.figure(figsize=(15, 5))\n",
    "\n",
    "plt.subplot(131)\n",
    "box1 = plt.boxplot(np.array([float(i) for i in poblacion.get(\"edad\")]).astype(np.int), patch_artist = True)\n",
    "plt.setp(box1[\"boxes\"], facecolor = \"purple\")\n",
    "plt.xticks([1], [\"Edad\"])\n",
    "\n",
    "plt.subplot(132)\n",
    "box2 = plt.boxplot(np.array([float(i) for i in poblacion.get(\"estrato\")]).astype(np.int), patch_artist = True)\n",
    "plt.setp(box2[\"boxes\"], facecolor = \"cyan\")\n",
    "plt.xticks([1], [\"Estrato\"])\n",
    "\n",
    "plt.subplot(133)\n",
    "box3 = plt.boxplot(np.array([float(i) for i in poblacion.get(\"promedio\")]).astype(np.int), patch_artist = True)\n",
    "plt.setp(box3[\"boxes\"], facecolor = \"gray\")\n",
    "plt.xticks([1], [\"Promedio\"])\n",
    "\n",
    "plt.suptitle('Boxplot de Datos Numéricos')\n",
    "plt.show()"
   ]
  },
  {
   "cell_type": "code",
   "execution_count": 1613,
   "metadata": {},
   "outputs": [
    {
     "name": "stdout",
     "output_type": "stream",
     "text": [
      "Valores: ['Amazonia' 'Andina' 'Caribe' 'Orinoquia' 'Pacifica']\n",
      "Frecuencia de los valores: [ 15. 142. 193.  33. 117.]\n"
     ]
    },
    {
     "data": {
      "image/png": "[encoded data removed]",
      "text/plain": [
       "<Figure size 360x216 with 1 Axes>"
      ]
     },
     "metadata": {
      "needs_background": "light"
     },
     "output_type": "display_data"
    },
    {
     "data": {
      "image/png": "[encoded data removed]",
      "text/plain": [
       "<Figure size 432x288 with 1 Axes>"
      ]
     },
     "metadata": {},
     "output_type": "display_data"
    }
   ],
   "source": [
    "# Visualización datos categóricos:\n",
    "\n",
    "# Mayoría mujeres (50.2%), seguido de hombres (40.8%)\n",
    "# Generos mayormente casados (39.8%), soltero (29.6%), divorciado (27.4%)\n",
    "# Escolaridad gran mayoría secundaria (68.6%), profesional (23.4%)\n",
    "# Region mayoritariamente Caribe (38.6%), Andina (28.6%), Pacifica (23.4%)\n",
    "\n",
    "# cambiar variable de datos para ver el resto de datos categoricos\n",
    "datos = poblacion.get(\"region\")\n",
    "organizados = np.sort(np.unique(datos))\n",
    "frecuencia = np.zeros(len(organizados))\n",
    "indice = 0 \n",
    "for i in organizados:\n",
    "    contador = 0\n",
    "    for j in range(0,len(datos)):\n",
    "        if(datos[j] == i):\n",
    "            contador += 1\n",
    "    frecuencia[indice] = contador\n",
    "    indice += 1\n",
    "\n",
    "print('Valores:', organizados)\n",
    "print('Frecuencia de los valores:', frecuencia)\n",
    "\n",
    "plt.figure(figsize=(5,3))\n",
    "plt.xticks(np.arange(len(organizados)), organizados)\n",
    "plt.suptitle('Distribución de población por característica')    \n",
    "plt.xlabel(\"Valores\",fontsize = 10) \n",
    "plt.ylabel(\"Frecuencia\", fontsize = 10)\n",
    "plt.setp(plt.bar(np.arange(len(organizados)), frecuencia), facecolor = \"orchid\")\n",
    "\n",
    "colors = [\"purple\",\"cyan\",\"gray\",\"orchid\",\"khaki\"]\n",
    "fig1, ax1 = plt.subplots(figsize=(6,4))\n",
    "plt.suptitle('% distribución de población por característica')    \n",
    "ax1.pie(frecuencia, labels=organizados ,autopct='%.1f%%', startangle=90, colors = colors)\n",
    "plt.show()"
   ]
  },
  {
   "cell_type": "markdown",
   "metadata": {},
   "source": [
    "## 2. Abordaje de la pregunta de negocio\n",
    "\n",
    "El comité encargado de diseñar el programa de becas ha tenido dificultades para llegar a acuerdos. Algunos piensan que el criterio principal de selección debería ser respecto a lo económico y académico, sin importar otras características personales, mientras que otros piensan que considerar estas características es, de hecho, parte del espíritu del programa.\n",
    "\n",
    "* El primer grupo sugiere que se deben tomar en orden ascendente los estratos y elegir, en cada uno de ellos, al 2% de personas con promedio académico superior en esa sub-población, hasta que se agoten las becas disponibles. En caso de quedar becas disponibles al final del proceso, se repite el mismo esquema, considerando que ya no se tienen en cuenta las personas que hayan sido elegidas en rondas anteriores.\n",
    "\n",
    "* El segundo grupo sugiere que los recibidores de becas deben estar igualmente distribuidos entre las diferentes regiones y generos, considerando, por supuesto, que para cada una de esas sub-poblaciones, las personas elegidas sean las de mejores promedios académicos.\n",
    "\n",
    "Dado que las diferencias entre estos grupos obedecen a su entendimiento particular del problema, el presidente del comité propone utilizar los datos disponibles de las encuestas, sugiriendo que se analice qué características tendría la población de elegidos bajo cada uno de los dos criterios expuestos."
   ]
  },
  {
   "cell_type": "markdown",
   "metadata": {},
   "source": [
    "**Misión 3**\n",
    "\n",
    "Defina la pregunta de negocio y la pregunta de *analytics* para esta situación."
   ]
  },
  {
   "cell_type": "code",
   "execution_count": 1740,
   "metadata": {},
   "outputs": [
    {
     "data": {
      "text/plain": [
       "'¿Está siendo equitativa la distribución de becas al aplicar porciones simples sobre conjuntos de información de la población, tales como estrato, región y género, para el impacto con la elegibilidad de personas con potencial y vulnerabilidad?'"
      ]
     },
     "execution_count": 1740,
     "metadata": {},
     "output_type": "execute_result"
    }
   ],
   "source": [
    "# respuesta en texto (solo leeremos los primeros 300 caracteres de la respuesta)\n",
    "\n",
    "pregunta_negocio = '¿Está siendo equitativa la distribución de becas al aplicar porciones simples sobre conjuntos de información de la población, tales como estrato, región y género, para el impacto con la elegibilidad de personas con potencial y vulnerabilidad?'\n",
    "pregunta_negocio"
   ]
  },
  {
   "cell_type": "code",
   "execution_count": 1738,
   "metadata": {},
   "outputs": [
    {
     "data": {
      "text/plain": [
       "'¿Qué tipo de datos sobre las características de la población se deben tratar como representativos, y cuál debe ser su segmentación, para que en la asociación entre ellos, se logre un equilibrio de participación de estudiantes elegibles como becados, que garanticen principios de acción afirmativa?'"
      ]
     },
     "execution_count": 1738,
     "metadata": {},
     "output_type": "execute_result"
    }
   ],
   "source": [
    "pregunta_analytics = '¿Qué tipo de datos sobre las características de la población se deben tratar como representativos, y cuál debe ser su segmentación, para que en la asociación entre ellos, se logre un equilibrio de participación de estudiantes elegibles como becados, que garanticen principios de acción afirmativa?'\n",
    "pregunta_analytics"
   ]
  },
  {
   "cell_type": "markdown",
   "metadata": {},
   "source": [
    "**Misión 4**\n",
    "\n",
    "Desarrollar un algoritmo que permita conocer la población que sería becada según los criterios propuestos por el *primer grupo* mencionado arriba."
   ]
  },
  {
   "cell_type": "code",
   "execution_count": 721,
   "metadata": {},
   "outputs": [],
   "source": [
    "# código\n",
    "\n",
    "porcentaje = 0.02\n",
    "becas = 10\n",
    "\n",
    "# Para este algoritmo, se partirá de la base de tener 10 becas disponibles, que representa el 2% del total de la población\n",
    "\n",
    "# Calculo de frecuencia de cada sub-grupo\n",
    "\n",
    "datos = poblacion.get(\"estrato\")\n",
    "organizados = np.sort(np.unique(datos))\n",
    "frecuencia = np.zeros(len(organizados))\n",
    "indice = 0 \n",
    "for i in organizados:\n",
    "    contador = 0\n",
    "    for j in range(0,len(datos)):\n",
    "        if(datos[j] == i):\n",
    "            contador += 1\n",
    "    frecuencia[indice] = contador\n",
    "    indice += 1\n",
    "\n",
    "# Primer asignación de cada sub grupo con porcentaje, redondeado al menor:\n",
    "\n",
    "asig1 = np.floor(np.multiply(frecuencia,porcentaje)).astype(np.int)\n",
    "frec1 = np.subtract(frecuencia.astype(np.int),asig1)\n",
    "\n",
    "# Si quedan becas disponibles, seguir asignando:\n",
    "if (becas - sum(asig1)) > 0:\n",
    "    asig2 = np.floor(np.multiply(frec1,porcentaje)).astype(np.int)\n",
    "\n",
    "# Si se están asignando más becas de las que quedaron disponibles luego de la primera asignación:\n",
    "if (becas - sum(asig1)) < sum(asig2):\n",
    "    porcentaje2 = np.array([1,0,0,0,0])\n",
    "    asig2 = np.floor(np.multiply(asig2,porcentaje2)).astype(np.int)\n",
    "\n",
    "# Si se completa la asignación de las becas faltantes:\n",
    "    if (becas - sum(asig1)) == sum(asig2):\n",
    "        becas_asig = np.add(asig1,asig2)\n",
    "    else:\n",
    "        print(\"No se pueden asignar más o menos becas, la política del 2% de la población es fundamental\")\n",
    "estratos = np.array([1,2,3,4,5])"
   ]
  },
  {
   "cell_type": "code",
   "execution_count": 928,
   "metadata": {},
   "outputs": [
    {
     "name": "stdout",
     "output_type": "stream",
     "text": [
      "Valores: [1 2 3 4 5]\n",
      "Frecuencia de los valores: [4 3 3 0 0]\n"
     ]
    },
    {
     "data": {
      "text/plain": [
       "[None, None, None, None, None]"
      ]
     },
     "execution_count": 928,
     "metadata": {},
     "output_type": "execute_result"
    },
    {
     "data": {
      "image/png": "[encoded data removed]",
      "text/plain": [
       "<Figure size 432x288 with 1 Axes>"
      ]
     },
     "metadata": {
      "needs_background": "light"
     },
     "output_type": "display_data"
    }
   ],
   "source": [
    "# Sugerencia primer grupo: \n",
    "\n",
    "print('Valores:', estratos)\n",
    "print('Frecuencia de los valores:', becas_asig)\n",
    "\n",
    "plt.suptitle('Becas asignadas por estrato: 2% población')\n",
    "plt.xlabel(\"Estratos\",fontsize = 10) \n",
    "plt.ylabel(\"Becas asignadas\", fontsize = 10)\n",
    "plt.setp(plt.bar(estratos, becas_asig), facecolor = \"orchid\")\n",
    "\n",
    "# Se quedan los estratos 4 y 5 sin asignación, al tener menor población, el 2% no alcanza a ser representativo\n"
   ]
  },
  {
   "cell_type": "code",
   "execution_count": 723,
   "metadata": {},
   "outputs": [
    {
     "name": "stdout",
     "output_type": "stream",
     "text": [
      "Los encuestados elegidos para el estrato 1  son: [376, 162, 363, 283] con promedios:  [5.0, 4.9, 4.9, 4.8]\n",
      "Los encuestados elegidos para el estrato 2  son: [243, 7, 207] con promedios:  [5.0, 4.9, 4.9]\n",
      "Los encuestados elegidos para el estrato 3  son: [60, 471, 109] con promedios:  [4.9, 4.9, 4.7]\n",
      "Los encuestados elegidos para el estrato 4  son: [] con promedios:  []\n",
      "Los encuestados elegidos para el estrato 5  son: [] con promedios:  []\n"
     ]
    },
    {
     "data": {
      "text/plain": [
       "(None, None, None, None, None)"
      ]
     },
     "execution_count": 723,
     "metadata": {},
     "output_type": "execute_result"
    }
   ],
   "source": [
    "# Las personas que se seleccionan por estrato son:\n",
    "\n",
    "id_m1 = np.array(range(0,500))\n",
    "estrato = np.array(lectura(\"estrato\"))\n",
    "promedio = np.array(lectura(\"promedio\"))\n",
    "\n",
    "# crear diccionarios con estratos y promedio con el index\n",
    "for i in id_m1:\n",
    "    estratos_m1 = dict(zip(id_m1,estrato.astype(np.int)))\n",
    "    promedio_m1 = dict(zip(estratos_m1,promedio.astype(np.float)))\n",
    "    \n",
    "# filtro de indices del estrato 1\n",
    "\n",
    "def becados_estrato(estr):\n",
    "    estrato_1 = dict()\n",
    "    for (key, value) in estratos_m1.items():\n",
    "        if value == estr:\n",
    "            estrato_1[key] = value\n",
    "            postulados_e1 = estrato_1.keys()\n",
    "            \n",
    "            promedio_1 = dict()\n",
    "            for (key, value) in promedio_m1.items(): \n",
    "                if key in postulados_e1:\n",
    "                    promedio_1[key] = value\n",
    "                    \n",
    "                    sorted_e1 = dict(sorted(promedio_1.items(),key = lambda item: item[1],reverse=True))\n",
    "\n",
    "    return print(\"Los encuestados elegidos para el estrato\",estr,\" son:\",list(sorted_e1.keys())[0:becas_asig[estr-1]], \"con promedios: \",list(sorted_e1.values())[0:becas_asig[estr-1]])\n",
    "\n",
    "becados_estrato(1), becados_estrato(2), becados_estrato(3), becados_estrato(4), becados_estrato(5)\n",
    "\n",
    "# En estratos 4 y 5 también hay estudiantes con promedios de 4.8 que deberían ser considerados, \n",
    "# así como dentro de los estratos 1 al 3 hay más estudiantes con promedios de 4.8 y 4.9, que se quedan \"por fuera\"\n",
    "# de la selección, y se privilegia sólo por el orden de aparición en el listado (no es un criterio \"justo\")"
   ]
  },
  {
   "cell_type": "markdown",
   "metadata": {},
   "source": [
    "**Misión 5**\n",
    "\n",
    "Desarrollar un algoritmo que permita conocer la población que sería becada según los criterios propuestos por el *segundo grupo* mencionado arriba."
   ]
  },
  {
   "cell_type": "code",
   "execution_count": 695,
   "metadata": {},
   "outputs": [],
   "source": [
    "# código\n",
    "\n",
    "# Al tener 5 regiones con 4 diferentes tipos de generos, se elige partir del supuesto de tener sólo 20 becas\n",
    "# para los mejores promedios de estas sub-poblaciones.\n",
    "\n",
    "becas_2 = 20\n",
    "\n",
    "# Calculo de frecuencia de cada sub-grupo\n",
    "genero = poblacion.get(\"genero\")\n",
    "region = poblacion.get(\"region\")\n",
    "\n",
    "dictreg = dict(zip(id_m1, region))\n",
    "dictgen = dict(zip(id_m1, genero))\n",
    "\n",
    "def crg(regi, gen):\n",
    "    try:\n",
    "        gen_1 = dict()\n",
    "    \n",
    "        for (key, value) in dictreg.items():\n",
    "            if value == regi:\n",
    "                gen_1[key] = value\n",
    "                reg_1 = gen_1.keys()\n",
    "            \n",
    "                gen_2 = dict()\n",
    "                for (key, value) in dictgen.items(): \n",
    "                    if key in reg_1:\n",
    "                        gen_2[key] = value\n",
    "                    \n",
    "                        gen_region = dict()\n",
    "                        for (key, value) in gen_2.items():\n",
    "                            if value == gen:\n",
    "                                gen_region[key] = value\n",
    "                                conteogenreg = gen_region.keys()\n",
    "                                freq = len(conteogenreg)\n",
    "        return freq\n",
    "    except:\n",
    "        freq = 0\n",
    "        return freq\n",
    "    \n",
    "    return freq\n",
    "\n",
    "# Frecuencias para Andina - genero\n",
    "subgrupos = ['AmM', 'AmF', 'AmO', 'AmNB', 'AM', 'AF', 'AO', 'ANB', 'CM', 'CF', 'CO', 'CNB', 'OM', 'OF', 'OO', 'ONB', 'PM', 'PF', 'PO', 'PNB']\n",
    "subgrupos_v = [crg(\"Amazonia\", \"masculino\"), crg(\"Amazonia\", \"femenino\"), crg(\"Amazonia\",\"otro\"), crg(\"Amazonia\",\"no binario\"), \n",
    "              crg(\"Andina\", \"masculino\"), crg(\"Andina\", \"femenino\"), crg(\"Andina\",\"otro\"), crg(\"Andina\",\"no binario\"),\n",
    "              crg(\"Caribe\", \"masculino\"), crg(\"Caribe\", \"femenino\"), crg(\"Caribe\",\"otro\"), crg(\"Caribe\",\"no binario\"),\n",
    "              crg(\"Orinoquia\", \"masculino\"), crg(\"Orinoquia\", \"femenino\"), crg(\"Orinoquia\",\"otro\"), crg(\"Orinoquia\",\"no binario\"),\n",
    "              crg(\"Pacifica\", \"masculino\"), crg(\"Pacifica\", \"femenino\"), crg(\"Pacifica\",\"otro\"), crg(\"Pacifica\",\"no binario\")]"
   ]
  },
  {
   "cell_type": "code",
   "execution_count": 929,
   "metadata": {},
   "outputs": [
    {
     "name": "stdout",
     "output_type": "stream",
     "text": [
      "Valores: ['AmM', 'AmF', 'AmO', 'AmNB', 'AM', 'AF', 'AO', 'ANB', 'CM', 'CF', 'CO', 'CNB', 'OM', 'OF', 'OO', 'ONB', 'PM', 'PF', 'PO', 'PNB']\n",
      "Frecuencia de los valores: [6, 5, 2, 2, 68, 61, 1, 12, 70, 107, 2, 14, 16, 16, 1, 0, 44, 62, 0, 11]\n"
     ]
    },
    {
     "data": {
      "text/plain": [
       "[None,\n",
       " None,\n",
       " None,\n",
       " None,\n",
       " None,\n",
       " None,\n",
       " None,\n",
       " None,\n",
       " None,\n",
       " None,\n",
       " None,\n",
       " None,\n",
       " None,\n",
       " None,\n",
       " None,\n",
       " None,\n",
       " None,\n",
       " None,\n",
       " None,\n",
       " None]"
      ]
     },
     "execution_count": 929,
     "metadata": {},
     "output_type": "execute_result"
    },
    {
     "data": {
      "image/png": "[encoded data removed]",
      "text/plain": [
       "<Figure size 1080x216 with 1 Axes>"
      ]
     },
     "metadata": {
      "needs_background": "light"
     },
     "output_type": "display_data"
    }
   ],
   "source": [
    "print('Valores:', subgrupos)\n",
    "print('Frecuencia de los valores:', subgrupos_v)\n",
    "\n",
    "plt.figure(figsize=(15,3))\n",
    "plt.xticks(np.arange(len(subgrupos)), subgrupos)\n",
    "plt.suptitle('Distribución de población por region-genero')    \n",
    "plt.xlabel(\"Abreviados: Región - Género\",fontsize = 10) \n",
    "plt.ylabel(\"Frecuencia\", fontsize = 10)\n",
    "plt.setp(plt.bar(np.arange(len(subgrupos)), subgrupos_v), facecolor = \"orchid\")\n",
    "\n",
    "# Regiones abreviadas: Am = Amazonia, A = Andina, C = Caribe, O = Orinoquia, P = Pacifica\n",
    "# Géneros abreviados: M = masculino, F = femenino, O = otro, NB = no binario\n",
    "\n",
    "# Los subgrupos no son equilibrados, por lo que se partirá del supuesto de asignar por lo menos 1 beca por subgrupo."
   ]
  },
  {
   "cell_type": "code",
   "execution_count": 690,
   "metadata": {},
   "outputs": [],
   "source": [
    "# Las personas que se seleccionan por subgrupo son:\n",
    "\n",
    "m5 = np.array([id_m1,lectura(\"region\"),lectura(\"genero\"),lectura(\"promedio\")]).T\n",
    "\n",
    "def becados_regxgen(reg_select,gen_select):\n",
    "    \n",
    "    try:\n",
    "        filtro_1 = m5[(m5[:,1]==reg_select) & (m5[:,2]==gen_select)] \n",
    "        prom_1 = filtro_1[:,3] \n",
    "        prom_max = max(prom_1)\n",
    "        filtro_1 = m5[(m5[:,1]==reg_select) & (m5[:,2]==gen_select)& (m5[:,3]==prom_max)] \n",
    "        return print(\"El encuestado elegido para la region\",filtro_1[:,1],\"es:\", filtro_1[:,0], \"con promedio: \",filtro_1[:,3])\n",
    "    except:\n",
    "        return print(\"Algún parámetro está mal escrito ó no hace parte de los listados analizados\")"
   ]
  },
  {
   "cell_type": "code",
   "execution_count": 698,
   "metadata": {},
   "outputs": [
    {
     "name": "stdout",
     "output_type": "stream",
     "text": [
      "El encuestado elegido para la region ['Amazonia'] es: ['49'] con promedio:  ['4.5']\n",
      "El encuestado elegido para la region ['Andina'] es: ['162'] con promedio:  ['4.9']\n",
      "El encuestado elegido para la region ['Caribe'] es: ['491'] con promedio:  ['4.9']\n",
      "El encuestado elegido para la region ['Orinoquia'] es: ['422'] con promedio:  ['4.2']\n",
      "El encuestado elegido para la region ['Pacifica'] es: ['376'] con promedio:  ['5.0']\n"
     ]
    },
    {
     "data": {
      "text/plain": [
       "(None, None, None, None, None)"
      ]
     },
     "execution_count": 698,
     "metadata": {},
     "output_type": "execute_result"
    }
   ],
   "source": [
    "# Personas escogidas género masculino por region:\n",
    "becados_regxgen(\"Amazonia\",\"masculino\"), becados_regxgen(\"Andina\",\"masculino\"), becados_regxgen(\"Caribe\",\"masculino\"), becados_regxgen(\"Orinoquia\",\"masculino\"), becados_regxgen(\"Pacifica\",\"masculino\")\n",
    "\n",
    "# Regiones Amazonia y Orinoquia con umbral de promedio más bajo (política inclusión por region-género)        "
   ]
  },
  {
   "cell_type": "code",
   "execution_count": 692,
   "metadata": {},
   "outputs": [
    {
     "name": "stdout",
     "output_type": "stream",
     "text": [
      "El encuestado elegido para la region ['Amazonia'] es: ['478'] con promedio:  ['4.6']\n",
      "El encuestado elegido para la region ['Andina' 'Andina'] es: ['7' '207'] con promedio:  ['4.9' '4.9']\n",
      "El encuestado elegido para la region ['Caribe'] es: ['243'] con promedio:  ['5.0']\n",
      "El encuestado elegido para la region ['Orinoquia'] es: ['113'] con promedio:  ['3.9']\n",
      "El encuestado elegido para la region ['Pacifica'] es: ['363'] con promedio:  ['4.9']\n"
     ]
    },
    {
     "data": {
      "text/plain": [
       "(None, None, None, None, None)"
      ]
     },
     "execution_count": 692,
     "metadata": {},
     "output_type": "execute_result"
    }
   ],
   "source": [
    "# Personas escogidas género femenino por region:\n",
    "becados_regxgen(\"Amazonia\",\"femenino\"), becados_regxgen(\"Andina\",\"femenino\"), becados_regxgen(\"Caribe\",\"femenino\"), becados_regxgen(\"Orinoquia\",\"femenino\"), becados_regxgen(\"Pacifica\",\"femenino\")\n",
    "\n",
    "# En la región Andina hay un empate, por lo que se debería escoger con otro tipo de criterio, más allá de la secuencia de encuesta\n"
   ]
  },
  {
   "cell_type": "code",
   "execution_count": 693,
   "metadata": {},
   "outputs": [
    {
     "name": "stdout",
     "output_type": "stream",
     "text": [
      "El encuestado elegido para la region ['Amazonia'] es: ['195'] con promedio:  ['3.1']\n",
      "El encuestado elegido para la region ['Andina'] es: ['373'] con promedio:  ['2.4']\n",
      "El encuestado elegido para la region ['Caribe'] es: ['136'] con promedio:  ['3.6']\n",
      "El encuestado elegido para la region ['Orinoquia'] es: ['4'] con promedio:  ['2.1']\n",
      "Algún parámetro está mal escrito ó no hace parte de los listados analizados\n"
     ]
    },
    {
     "data": {
      "text/plain": [
       "(None, None, None, None, None)"
      ]
     },
     "execution_count": 693,
     "metadata": {},
     "output_type": "execute_result"
    }
   ],
   "source": [
    "# Personas escogidas género otro por region:\n",
    "becados_regxgen(\"Amazonia\",\"otro\"), becados_regxgen(\"Andina\",\"otro\"), becados_regxgen(\"Caribe\",\"otro\"), becados_regxgen(\"Orinoquia\",\"otro\"), becados_regxgen(\"Pacifica\",\"otro\")\n",
    "\n",
    "# En la región Pacifica no hay personas elegibles para el tipo \"otro\"\n",
    "# Con esta característica de género, el umbral de promedio cae hasta promedios de bajo nivel por debajo de 3.6\n",
    "# No debería ser considerada esta característica de la población, el umbral no es equiparable, y el rendimiento\n",
    "# académico posiblemente pueda ser inferior lo que haga no sostenible la beca hasta la culminación del programa."
   ]
  },
  {
   "cell_type": "code",
   "execution_count": 694,
   "metadata": {},
   "outputs": [
    {
     "name": "stdout",
     "output_type": "stream",
     "text": [
      "El encuestado elegido para la region ['Amazonia'] es: ['375'] con promedio:  ['1.5']\n",
      "El encuestado elegido para la region ['Andina' 'Andina'] es: ['259' '283'] con promedio:  ['4.8' '4.8']\n",
      "El encuestado elegido para la region ['Caribe'] es: ['22'] con promedio:  ['4.3']\n",
      "Algún parámetro está mal escrito ó no hace parte de los listados analizados\n",
      "El encuestado elegido para la region ['Pacifica'] es: ['361'] con promedio:  ['4.0']\n"
     ]
    },
    {
     "data": {
      "text/plain": [
       "(None, None, None, None, None)"
      ]
     },
     "execution_count": 694,
     "metadata": {},
     "output_type": "execute_result"
    }
   ],
   "source": [
    "# Personas escogidas género otro por region:\n",
    "becados_regxgen(\"Amazonia\",\"no binario\"), becados_regxgen(\"Andina\",\"no binario\"), becados_regxgen(\"Caribe\",\"no binario\"), becados_regxgen(\"Orinoquia\",\"no binario\"), becados_regxgen(\"Pacifica\",\"no binario\")\n",
    "\n",
    "# En la región Orinoquia no hay personas elegibles para el tipo \"no binario\"\n",
    "# Con esta característica de género, el umbral de promedio en Amazonia es muy inferior, puede no ser elegible.\n",
    "# Hay un empate nuevamente en la región Andina, para lo que se debe incluir otra característica para definir."
   ]
  },
  {
   "cell_type": "markdown",
   "metadata": {},
   "source": [
    "**Misión 6**\n",
    "\n",
    "Desarrollar un algoritmo, a partir de lo anterior, cuyo resultado permita al comité comparar fácilmente las características de las dos poblaciones hipotéticas que recibirían becas.\n",
    "\n",
    "*Ayuda*: considera utilizar tus implementaciones de la *Misión 2* para facilitar esta misión."
   ]
  },
  {
   "cell_type": "code",
   "execution_count": 956,
   "metadata": {},
   "outputs": [],
   "source": [
    "# código\n",
    "\n",
    "m6 = np.array([lectura(\"edad\"),lectura(\"genero\"),lectura(\"estado_civil\"),lectura(\"escolaridad\"),lectura(\"estrato\"),lectura(\"region\"),lectura(\"promedio\")]).T\n",
    "\n",
    "# Modificar codigo anterior para que imprima una sola lista con todos los becados del criterio 1\n",
    "\n",
    "def becados_estrato(estr):\n",
    "    estrato_1 = dict()\n",
    "    for (key, value) in estratos_m1.items():\n",
    "        if value == estr:\n",
    "            estrato_1[key] = value\n",
    "            postulados_e1 = estrato_1.keys()\n",
    "            \n",
    "            promedio_1 = dict()\n",
    "            for (key, value) in promedio_m1.items(): \n",
    "                if key in postulados_e1:\n",
    "                    promedio_1[key] = value\n",
    "                    \n",
    "                    sorted_e1 = dict(sorted(promedio_1.items(),key = lambda item: item[1],reverse=True))\n",
    "\n",
    "    return list(sorted_e1.keys())[0:becas_asig[estr-1]]\n",
    "\n",
    "becados_s1 = list(becados_estrato(1))+list(becados_estrato(2))+list(becados_estrato(3))"
   ]
  },
  {
   "cell_type": "code",
   "execution_count": 957,
   "metadata": {},
   "outputs": [],
   "source": [
    "# Modificar codigo anterior para que imprima una sola lista con todos los becados del criterio 2\n",
    "\n",
    "def becados_regxgen(reg_select,gen_select):\n",
    "    filtro_1 = m5[(m5[:,1]==reg_select) & (m5[:,2]==gen_select)] \n",
    "    prom_1 = filtro_1[:,3] \n",
    "    prom_max = max(prom_1)\n",
    "    filtro_1 = m5[(m5[:,1]==reg_select) & (m5[:,2]==gen_select)& (m5[:,3]==prom_max)] \n",
    "    return list(filtro_1.T[0].astype(int))\n",
    "\n",
    "becados_s2 = becados_regxgen(\"Amazonia\",\"masculino\") + becados_regxgen(\"Andina\",\"masculino\") + becados_regxgen(\"Caribe\",\"masculino\") + becados_regxgen(\"Orinoquia\",\"masculino\") + becados_regxgen(\"Pacifica\",\"masculino\") + becados_regxgen(\"Amazonia\",\"femenino\") + becados_regxgen(\"Andina\",\"femenino\") + becados_regxgen(\"Caribe\",\"femenino\") + becados_regxgen(\"Orinoquia\",\"femenino\") + becados_regxgen(\"Pacifica\",\"femenino\") + becados_regxgen(\"Amazonia\",\"otro\") + becados_regxgen(\"Andina\",\"otro\") + becados_regxgen(\"Caribe\",\"otro\") + becados_regxgen(\"Orinoquia\",\"otro\") + becados_regxgen(\"Amazonia\",\"no binario\") + becados_regxgen(\"Andina\",\"no binario\") + becados_regxgen(\"Caribe\",\"no binario\")+ becados_regxgen(\"Pacifica\",\"no binario\")"
   ]
  },
  {
   "cell_type": "code",
   "execution_count": 958,
   "metadata": {},
   "outputs": [],
   "source": [
    "# Orden: Edad,genero, estado civil, escolaridad, estrato, region\n",
    "\n",
    "def filtro_base(cual):\n",
    "    for i in id_m1:\n",
    "        total_datos = dict(zip(id_m1,m6))\n",
    "        tot_s1 = dict()\n",
    "        for (key, value) in total_datos.items():\n",
    "                if key in cual:\n",
    "                    tot_s1[key] = value\n",
    "    return tot_s1\n",
    "# filtro de un diccionario solo con los datos de los becados_s1\n",
    "tot_s1 = filtro_base(becados_s1)\n",
    "# filtro de un diccionario solo con los datos de los becados_s2\n",
    "tot_s2 = filtro_base(becados_s2)              "
   ]
  },
  {
   "cell_type": "code",
   "execution_count": 1004,
   "metadata": {},
   "outputs": [],
   "source": [
    "# Solo extraer género, región y promedio para comparar por frecuencias:\n",
    "\n",
    "subconj_s1 = np.array(list(tot_s1.values())).T\n",
    "subconj_s2 = np.array(list(tot_s2.values())).T\n",
    "\n",
    "gen_s1 = list(subconj_s1[1])\n",
    "reg_s1 = list(subconj_s1[5])\n",
    "prom_s1 = list(subconj_s1[6])\n",
    "prom_s1 = [float(i) for i in prom_s1]\n",
    "estr_s1 = list(subconj_s1[4])\n",
    "estr_s1 = [int(i) for i in estr_s1]\n",
    "\n",
    "gen_s2 = list(subconj_s2[1])\n",
    "reg_s2 = list(subconj_s2[5])\n",
    "prom_s2 = list(subconj_s2[6])\n",
    "prom_s2 = [float(i) for i in prom_s2]\n",
    "estr_s2 = list(subconj_s2[4])\n",
    "estr_s2 = [int(i) for i in estr_s2]\n",
    "\n",
    "def conteofr_s(listado):\n",
    "    organizados = np.sort(np.unique(listado))\n",
    "    frecuencia = np.zeros(len(organizados))\n",
    "    indice = 0 \n",
    "\n",
    "    for i in organizados:\n",
    "        contador = 0\n",
    "        for j in range(0,len(listado)):\n",
    "            if(listado[j] == i):\n",
    "                contador += 1\n",
    "        frecuencia[indice] = contador\n",
    "        indice += 1\n",
    "    return frecuencia.astype(int)\n",
    "\n",
    "generos_s1 = conteofr_s(gen_s1)\n",
    "regiones_s1 = conteofr_s(reg_s1)\n",
    "\n",
    "generos_s2 = conteofr_s(gen_s2)\n",
    "regiones_s2 = conteofr_s(reg_s2)\n"
   ]
  },
  {
   "cell_type": "code",
   "execution_count": 954,
   "metadata": {},
   "outputs": [
    {
     "data": {
      "image/png": "[encoded data removed]",
      "text/plain": [
       "<Figure size 720x720 with 2 Axes>"
      ]
     },
     "metadata": {},
     "output_type": "display_data"
    }
   ],
   "source": [
    "# Comparativo becas asignadas por genero:\n",
    "\n",
    "fig, (ax1,ax2) = plt.subplots(1,2,figsize=(10,10))\n",
    "ax1.pie(generos_s1, labels=np.sort(np.unique(gen_s1)) ,autopct='%.1f%%', startangle=90, colors = colors)\n",
    "ax2.pie(generos_s2, labels=np.sort(np.unique(gen_s2)) ,autopct='%.1f%%', startangle=90, colors = colors)\n",
    "plt.show()\n",
    "\n",
    "# Izq : criterio 1, Der: criterio 2\n",
    "\n",
    "# Bajo el criterio 2, es posible lograr igualdad de participación de géneros, sin embargo, hay unos de ellos\n",
    "# que por region no hacen parte de la población, por lo que para equiparar estos 2 faltantes, se compensó con\n",
    "# los mejores promedios de cada sub conjunto, en donde hubiese un empate, completando las becas a asignar.\n",
    "\n",
    "# Si sólo se mira desde esta característica, elegir por genero y region tiene un comportamiento de aparente \"equidad\""
   ]
  },
  {
   "cell_type": "code",
   "execution_count": 990,
   "metadata": {},
   "outputs": [
    {
     "data": {
      "image/png": "[encoded data removed]",
      "text/plain": [
       "<Figure size 720x720 with 2 Axes>"
      ]
     },
     "metadata": {},
     "output_type": "display_data"
    }
   ],
   "source": [
    "# Comparativo becas asignadas por región\n",
    "\n",
    "fig, (ax1,ax2) = plt.subplots(1,2,figsize=(10,10))\n",
    "ax1.pie(regiones_s1, labels=np.sort(np.unique(reg_s1)) ,autopct='%.1f%%', startangle=90, colors = colors)\n",
    "ax2.pie(regiones_s2, labels=np.sort(np.unique(reg_s2)) ,autopct='%.1f%%', startangle=90, colors = colors)\n",
    "plt.show()\n",
    "\n",
    "\n",
    "# Izq : criterio 1, Der: criterio 2\n",
    "\n",
    "# Bajo el criterio 2, es posible lograr igualdad de participación de regiones, donde por la falta de géneros en\n",
    "# 2 regiones (orinoquia,pacifica), la cuota se completa con la region andina, siendo una de las regiones con mayor\n",
    "# población a analizar.\n",
    "# Bajo el criterio 1, la elegibilidad por promedio descarta a regiones vulnerables en donde los promedios son bajos,\n",
    "# incluso por debajo del umbral de calificación de aprobación del grueso de las universidades (3.0-3.5)\n"
   ]
  },
  {
   "cell_type": "code",
   "execution_count": 1387,
   "metadata": {},
   "outputs": [
    {
     "data": {
      "image/png": "[encoded data removed]",
      "text/plain": [
       "<Figure size 1080x360 with 2 Axes>"
      ]
     },
     "metadata": {
      "needs_background": "light"
     },
     "output_type": "display_data"
    }
   ],
   "source": [
    "# Comparativo por promedio\n",
    "\n",
    "plt.figure(figsize=(15, 5))\n",
    "\n",
    "plt.subplot(131)\n",
    "plt.suptitle('Boxplot de promedio por becas asignadas')\n",
    "box1 = plt.boxplot(prom_s1, patch_artist = True)\n",
    "plt.setp(box1[\"boxes\"], facecolor = \"cyan\")\n",
    "plt.xticks([1], [\"Criterio 1\"])\n",
    "\n",
    "plt.subplot(132)\n",
    "plt.suptitle('Boxplot de promedio por becas asignadas: (Izq: criterio 2% con mejores promedios), (Der: criterio igualdad distribución regiones y géneros)')\n",
    "box2 = plt.boxplot(prom_s2, patch_artist = True)\n",
    "plt.setp(box2[\"boxes\"], facecolor = \"purple\")\n",
    "plt.xticks([1], [\"Criterio 2\"])\n",
    "\n",
    "plt.show()\n",
    "\n",
    "# En el criterio 1, se están eligiendo a los encuestados con mayores promedios registrados, siendo la distribución\n",
    "# desde 4.7 a 5.0, y con una mediana en 4.9\n",
    "\n",
    "# Cuando se toma en cuenta el criterio 2, ha pesar de haber mejor distribución por región y género, el rango de \n",
    "# promedios se extiende a recibir personas con promedios muy bajos (outliers)"
   ]
  },
  {
   "cell_type": "code",
   "execution_count": 1388,
   "metadata": {},
   "outputs": [
    {
     "data": {
      "image/png": "[encoded data removed]",
      "text/plain": [
       "<Figure size 1080x360 with 2 Axes>"
      ]
     },
     "metadata": {
      "needs_background": "light"
     },
     "output_type": "display_data"
    }
   ],
   "source": [
    "# Comparativo por promedio\n",
    "\n",
    "plt.figure(figsize=(15, 5))\n",
    "\n",
    "plt.subplot(131)\n",
    "plt.suptitle('Boxplot de promedio por becas asignadas')\n",
    "box1 = plt.boxplot(estr_s1, patch_artist = True)\n",
    "plt.setp(box1[\"boxes\"], facecolor = \"cyan\")\n",
    "plt.xticks([1], [\"Criterio 1\"])\n",
    "\n",
    "plt.subplot(132)\n",
    "plt.suptitle('Boxplot de estratos por becas asignadas: (Izq: criterio 2% con mejores promedios), (Der: criterio igualdad distribución regiones y géneros)')\n",
    "box2 = plt.boxplot(estr_s2, patch_artist = True)\n",
    "plt.setp(box2[\"boxes\"], facecolor = \"purple\")\n",
    "plt.xticks([1], [\"Criterio 2\"])\n",
    "\n",
    "plt.show()\n",
    "\n",
    "# A nivel de estratos, según el criterio 1, no se tienen en cuenta el 4 y 5 por su baja cantidad de participación\n",
    "# dentro de la población, mientras que en el segundo criterio, si bien se concentra en la población vulnerable de\n",
    "# estrato 1 y 2, hay apertura a estratos 4 y 5"
   ]
  },
  {
   "cell_type": "markdown",
   "metadata": {},
   "source": [
    "## 3. Desarrollo de una solución analítica\n",
    "\n",
    "Reconociendo la complejidad de este problema (que no permite reducirlo a una dicotomía) y viendo el potencial del análisis de datos para enriquecer la discusión y los insumos para tomar decisiones, el comité ha solicitado una herramienta analítica que les permita . Sus requerimientos son:\n",
    "\n",
    "* La herramienta debe permitir ingresar una política de selección de becados.\n",
    "    * Se debe poder elegir el rango de edad de los aspirantes.\n",
    "    * Se debe poder elegir qué proporción de las becas se asigna a cada género, a cada estrato, o a cada región (pero sólo debe elegirse uno de estos criterios).\n",
    "* La herramienta debe generar un resultado que permita al comité analizar las características de la población potencialmente elegida si se usara la política ingresada.\n",
    "\n",
    "**Misión 7**\n",
    "\n",
    "Desarrollar, a partir de lo construido hasta el momento, un algoritmo que permita cumplir con los requerimientos del comité."
   ]
  },
  {
   "cell_type": "code",
   "execution_count": 1664,
   "metadata": {},
   "outputs": [
    {
     "name": "stdout",
     "output_type": "stream",
     "text": [
      "Para los parámetros seleccionados, el total de becas a entregar es : 26\n"
     ]
    }
   ],
   "source": [
    "# código\n",
    "\n",
    "# Total becas a asignar por filtro de edad y genero:\n",
    "m7 = np.array([id_m1,lectura(\"edad\"),lectura(\"genero\"),lectura(\"estrato\"),lectura(\"region\"),lectura(\"promedio\")]).T\n",
    "\n",
    "def becados_m7(min_edad,max_edad,caracteristica, vector_genero):\n",
    "    \n",
    "    if min_edad < 18 or max_edad > 80:\n",
    "        a = print(\"Las edades elegidas no se pueden utilizar, mínima 18, máxima 80\")\n",
    "    else:\n",
    "        filtro_edad = m7[(m7[:,1].astype(int) >= min_edad) & (m7[:,1].astype(int) <= max_edad)]\n",
    "    \n",
    "    # si se elige la característica género:\n",
    "        if caracteristica == \"genero\":\n",
    "            filtro_genero = list(filtro_edad[:,2])\n",
    "            organizados = np.sort(np.unique(filtro_genero))\n",
    "            freq_genero = conteofr_s(filtro_genero) # función de misiones anteriores\n",
    "            vector_p = vector_genero[:-1] # le quito el último para dejar el vector de 4 (otras caract. con 5)\n",
    "            if sum(vector_p) < 1 or sum(vector_p) > 1:\n",
    "                a = print(\"Los porcentajes no están distribuidos correctamente, no suman 100%\")\n",
    "                \n",
    "            else:\n",
    "                tot_becas_caracteristica = np.floor(np.multiply(freq_genero,vector_p)).astype(int)\n",
    "                tot_becas_caracteristica = dict(zip(organizados,tot_becas_caracteristica))\n",
    "                \n",
    "    # Selección del listado que cumple con las caracteristicas:\n",
    "                def takelast(elem):\n",
    "                    return elem[5]\n",
    "\n",
    "                filtro_gen1 = list(filtro_edad[filtro_edad[:,2] == \"femenino\"])\n",
    "                filtro_gen1.sort(key=takelast, reverse = True)\n",
    "                filtro_gen2 = list(filtro_edad[filtro_edad[:,2] == \"masculino\"])\n",
    "                filtro_gen2.sort(key=takelast, reverse = True)\n",
    "                filtro_gen3 = list(filtro_edad[filtro_edad[:,2] == \"no binario\"])\n",
    "                filtro_gen3.sort(key=takelast, reverse = True)\n",
    "                filtro_gen4 = list(filtro_edad[filtro_edad[:,2] == \"otro\"])\n",
    "                filtro_gen4.sort(key=takelast, reverse = True)\n",
    "\n",
    "                a = filtro_gen1[0:tot_becas_caracteristica[\"femenino\"]]\n",
    "                b = filtro_gen2[0:tot_becas_caracteristica[\"masculino\"]]\n",
    "                c = filtro_gen3[0:tot_becas_caracteristica[\"no binario\"]]\n",
    "                d = filtro_gen4[0:tot_becas_caracteristica[\"otro\"]]\n",
    "                a += b+c+d\n",
    "\n",
    "    # si se elige la característica estrato:\n",
    "        elif caracteristica == \"estrato\":\n",
    "            filtro_estrato = list(filtro_edad[:,3])\n",
    "            organizados = np.sort(np.unique(filtro_estrato))\n",
    "            freq_estrato = conteofr_s(filtro_estrato) # función de misiones anteriores\n",
    "            vector_p = vector_genero\n",
    "            if sum(vector_p) < 1 or sum(vector_p) > 1:\n",
    "                a = print(\"Los porcentajes no están distribuidos correctamente, no suman 100%\")\n",
    "                \n",
    "            else:\n",
    "                tot_becas_caracteristica = np.floor(np.multiply(freq_estrato,vector_p)).astype(int)\n",
    "                tot_becas_caracteristica = dict(zip(organizados,tot_becas_caracteristica))\n",
    "                \n",
    "    # Selección del listado que cumple con las caracterísricas:\n",
    "    \n",
    "                def takelast(elem):\n",
    "                    return elem[5]\n",
    "\n",
    "                filtro_estr1 = list(filtro_edad[filtro_edad[:,3] == \"1\"])\n",
    "                filtro_estr1.sort(key=takelast, reverse = True)\n",
    "                filtro_estr2 = list(filtro_edad[filtro_edad[:,3] == \"2\"])\n",
    "                filtro_estr2.sort(key=takelast, reverse = True)\n",
    "                filtro_estr3 = list(filtro_edad[filtro_edad[:,3] == \"3\"])\n",
    "                filtro_estr3.sort(key=takelast, reverse = True)\n",
    "                filtro_estr4 = list(filtro_edad[filtro_edad[:,3] == \"4\"])\n",
    "                filtro_estr4.sort(key=takelast, reverse = True)\n",
    "                filtro_estr5 = list(filtro_edad[filtro_edad[:,3] == \"5\"])\n",
    "                filtro_estr5.sort(key=takelast, reverse = True)\n",
    "\n",
    "                a = filtro_estr1[0:tot_becas_caracteristica[\"1\"]]\n",
    "                b = filtro_estr2[0:tot_becas_caracteristica[\"2\"]]\n",
    "                c = filtro_estr3[0:tot_becas_caracteristica[\"3\"]]\n",
    "                d = filtro_estr4[0:tot_becas_caracteristica[\"4\"]]\n",
    "                e = filtro_estr4[0:tot_becas_caracteristica[\"5\"]]\n",
    "\n",
    "                a += b+c+d+e\n",
    "            \n",
    "    # si se elige la característica region:\n",
    "        elif caracteristica == \"region\":\n",
    "            filtro_region = list(filtro_edad[:,4])\n",
    "            organizados = np.sort(np.unique(filtro_region))\n",
    "            freq_region = conteofr_s(filtro_region) # función de misiones anteriores\n",
    "            vector_p = vector_genero\n",
    "            if sum(vector_p) < 1 or sum(vector_p) > 1:\n",
    "                a = print(\"Los porcentajes no están distribuidos correctamente, no suman 100%\")\n",
    "                \n",
    "            else:\n",
    "                tot_becas_caracteristica = np.floor(np.multiply(freq_region,vector_p)).astype(int)\n",
    "                tot_becas_caracteristica = dict(zip(organizados,tot_becas_caracteristica))\n",
    "                \n",
    "    # Selección del listado que cumple con las características:\n",
    "    \n",
    "                def takelast(elem):\n",
    "                    return elem[5]\n",
    "\n",
    "                filtro_reg1 = list(filtro_edad[filtro_edad[:,4] == \"Amazonia\"])\n",
    "                filtro_reg1.sort(key=takelast, reverse = True)\n",
    "                filtro_reg2 = list(filtro_edad[filtro_edad[:,4] == \"Andina\"])\n",
    "                filtro_reg2.sort(key=takelast, reverse = True)\n",
    "                filtro_reg3 = list(filtro_edad[filtro_edad[:,4] == \"Caribe\"])\n",
    "                filtro_reg3.sort(key=takelast, reverse = True)\n",
    "                filtro_reg4 = list(filtro_edad[filtro_edad[:,4] == \"Orinoquia\"])\n",
    "                filtro_reg4.sort(key=takelast, reverse = True)\n",
    "                filtro_reg5 = list(filtro_edad[filtro_edad[:,4] == \"Pacifica\"])\n",
    "                filtro_reg5.sort(key=takelast, reverse = True)\n",
    "\n",
    "                a = filtro_reg1[0:tot_becas_caracteristica[\"Amazonia\"]]\n",
    "                b = filtro_reg2[0:tot_becas_caracteristica[\"Andina\"]]\n",
    "                c = filtro_reg3[0:tot_becas_caracteristica[\"Caribe\"]]\n",
    "                d = filtro_reg4[0:tot_becas_caracteristica[\"Orinoquia\"]]\n",
    "                e = filtro_reg4[0:tot_becas_caracteristica[\"Pacifica\"]]\n",
    "\n",
    "                a += b+c+d+e\n",
    "                \n",
    "        else:\n",
    "            a = print(\"Se está eligiendo una característica que se sale de este modelo ó está mal escrita\")\n",
    "            \n",
    "    return a\n",
    "\n",
    "# Ingresar datos: min_edad (int) ,max_edad (int) ,caracteristica(str), vect_porcentajes (list)\n",
    "Datos_considerados = becados_m7(20,30,\"estrato\", [0.20, 0.45, 0.15, 0.20, 0.0])\n",
    "\n",
    "print(\"Para los parámetros seleccionados, el total de becas a entregar es :\", len(Datos_considerados))"
   ]
  },
  {
   "cell_type": "code",
   "execution_count": 1665,
   "metadata": {},
   "outputs": [],
   "source": [
    "edad_m7 = list((np.array(Datos_considerados)).T[1])\n",
    "edad_m7 = [int(x) for x in edad_m7]\n",
    "genero_m7 = list(np.array(Datos_considerados).T[2])\n",
    "estrato_m7 = list(np.array(Datos_considerados).T[3])\n",
    "estrato_m7 = [int(x) for x in estrato_m7]\n",
    "region_m7 = list(np.array(Datos_considerados).T[4])\n",
    "promedio_m7 = list(np.array(Datos_considerados).T[5])\n",
    "promedio_m7 = [float(x) for x in promedio_m7]"
   ]
  },
  {
   "cell_type": "code",
   "execution_count": 1666,
   "metadata": {},
   "outputs": [
    {
     "data": {
      "image/png": "[encoded data removed]",
      "text/plain": [
       "<Figure size 1080x360 with 3 Axes>"
      ]
     },
     "metadata": {
      "needs_background": "light"
     },
     "output_type": "display_data"
    }
   ],
   "source": [
    "# Descripción de la población: datos numéricos\n",
    "\n",
    "plt.figure(figsize=(15, 5))\n",
    "\n",
    "plt.subplot(131)\n",
    "box1 = plt.boxplot(edad_m7, patch_artist = True)\n",
    "plt.setp(box1[\"boxes\"], facecolor = \"cyan\")\n",
    "plt.xticks([1], [\"Edades\"])\n",
    "\n",
    "plt.subplot(132)\n",
    "box2 = plt.boxplot(estrato_m7, patch_artist = True)\n",
    "plt.setp(box2[\"boxes\"], facecolor = \"purple\")\n",
    "plt.xticks([1], [\"Estratos\"])\n",
    "\n",
    "plt.subplot(133)\n",
    "box3 = plt.boxplot(promedio_m7, patch_artist = True)\n",
    "plt.setp(box3[\"boxes\"], facecolor = \"gray\")\n",
    "plt.xticks([1], [\"Promedio\"])\n",
    "\n",
    "plt.suptitle('Boxplot de Datos Numéricos')\n",
    "plt.show()"
   ]
  },
  {
   "cell_type": "code",
   "execution_count": 1667,
   "metadata": {},
   "outputs": [
    {
     "data": {
      "image/png": "[encoded data removed]",
      "text/plain": [
       "<Figure size 720x720 with 2 Axes>"
      ]
     },
     "metadata": {},
     "output_type": "display_data"
    }
   ],
   "source": [
    "# Descripción de la población: datos categóricos\n",
    "\n",
    "fig, (ax1,ax2) = plt.subplots(1,2,figsize=(10,10))\n",
    "ax1.pie(conteofr_s(genero_m7), labels=np.sort(np.unique(genero_m7)) ,autopct='%.1f%%', startangle=90, colors = colors)\n",
    "ax2.pie(conteofr_s(region_m7), labels=np.sort(np.unique(region_m7)) ,autopct='%.1f%%', startangle=90, colors = colors)\n",
    "\n",
    "plt.show()\n"
   ]
  },
  {
   "cell_type": "markdown",
   "metadata": {},
   "source": [
    "**Misión 8**\n",
    "\n",
    "Proponer, con base en tu propio uso de la herramienta, una política de ingreso que consideres apropiada dado el contexto proporcionado. Si lo crees adecuado, explica, máximo 500 caracteres, las virtudes de tu propuesta (esto puede estar soportado en los datos, o no)."
   ]
  },
  {
   "cell_type": "code",
   "execution_count": 1710,
   "metadata": {},
   "outputs": [
    {
     "data": {
      "text/plain": [
       "'Luego de múltiples iteraciones, se sugiere entregar 26 becas (5% población), cumpliendo lo siguiente: objetivo de edades entre 20-30 años (subconjunto con los mejores promedios (min:2.9, máx:4.9, mediana:3.8); con una población donde mayoritariamente es estrato 2, objetivo estratos 1:20%,2:45%,3:15%,4:20%,5:0%. Lo anterior conlleva a una equidad entre hombres-mujeres, cuya diferencia poblacional era de 9.4 p.p., así como todas las regiones quedan representadas, destacando \"Pacifica\" con mayoría.'"
      ]
     },
     "execution_count": 1710,
     "metadata": {},
     "output_type": "execute_result"
    }
   ],
   "source": [
    "# respuesta en texto (solo leeremos los primeros 300 caracteres de la respuesta)\n",
    "\n",
    "respuesta = 'Luego de múltiples iteraciones, se sugiere entregar 26 becas (5% población), cumpliendo lo siguiente: objetivo de edades entre 20-30 años (subconjunto con los mejores promedios (min:2.9, máx:4.9, mediana:3.8); con una población donde mayoritariamente es estrato 2, objetivo estratos 1:20%,2:45%,3:15%,4:20%,5:0%. Lo anterior conlleva a una equidad entre hombres-mujeres, cuya diferencia poblacional era de 9.4 p.p., así como todas las regiones quedan representadas, destacando \"Pacifica\" con mayoría.'\n",
    "respuesta"
   ]
  },
  {
   "cell_type": "markdown",
   "metadata": {},
   "source": [
    "**Misión 9**\n",
    "\n",
    "Ejecutar el algoritmo desarrollado en la *Misión 7* sobre la política que sugieres proponer al comité. Explicar claramente tus conlusiones con el soporte de los resultados de la herramienta."
   ]
  },
  {
   "cell_type": "code",
   "execution_count": 1723,
   "metadata": {},
   "outputs": [
    {
     "data": {
      "text/plain": [
       "'Durante el ejercicio con múltiples iteraciones, se abordó inicialmente desde la edad, donde al aumentar el rango no sólo aumentaban las becas a asignar, sino disminuía el promedio mínimo, incluso por debajo de 2, por lo que considerando una sostenibilidad en el periodo académico y posiblemente la disminución de la deserción, se seleccionó el rango de edades que mejores estadísticas de promedio tuvieran; ahora bien, al evaluar características, se observó que asignar porcentajes por género para buscar la equidad, dejaba por fuera la participación de regiones vulnerables como Orinoquía, cuya población representaba sólo el 6.6%, y para ser representativa, tenían que asignarse hasta 73 becas para participar a lo sumo en un 3%, es decir, al rededor de 2 becas, participación que se alcanzó con 1 beca en 26 del modelo propuesto, con 64% menos becas asignadas; continuando con las regiones, aún asignando un 100% a la región \"Pacifica\", y con amplios rangos de edades hasta 50 años, al estar la gran mayoría de los datos fuera de los límites elegidos, y con el incremento de participación de las otras regiones en estos rangos de edades, no se podía llegar a la cuota, por lo que se prescindió de esta característica. Y por último, al poder seleccionar la participación de los estratos, habiendo identificado que el estrato 2 era la mediana y habia una fuerte participación de estratos 1 y 2, se asignaron porcentajes favoreciendo el 2, pero también incluyendo al 4 que en otros momentos quedaba aislado, entendiendo que en este estrato había oportunidad por los promedios. En suma, llegar a representar las regiones vulnerables, requiere una fuerte asociación del estrato, y bajar el umbral de los promedios, ya que ha pesar de haber escogido a los mejores, se marca la tendencia por región de Andina y Caribe al tener los mejores promedios, y Amazonía junto con Orinoquia con los promedios más bajos, lo cual repercutió en su participación por region, proponiendo entonces desde la Universidad (más allá de los resultados de este modelo), considerar un plan estratégico de educación de nivelación de estas poblaciones, para fortalecer su elegibilidad, así como ir más allá del valor numérico del promedio, entrando a una evaluación de competencias, para compensar los sesgos que esto supone.'"
      ]
     },
     "execution_count": 1723,
     "metadata": {},
     "output_type": "execute_result"
    }
   ],
   "source": [
    "# código\n",
    "\n",
    "conclusion = 'Durante el ejercicio con múltiples iteraciones, se abordó inicialmente desde la edad, donde al aumentar el rango no sólo aumentaban las becas a asignar, sino disminuía el promedio mínimo, incluso por debajo de 2, por lo que considerando una sostenibilidad en el periodo académico y posiblemente la disminución de la deserción, se seleccionó el rango de edades que mejores estadísticas de promedio tuvieran; ahora bien, al evaluar características, se observó que asignar porcentajes por género para buscar la equidad, dejaba por fuera la participación de regiones vulnerables como Orinoquía, cuya población representaba sólo el 6.6%, y para ser representativa, tenían que asignarse hasta 73 becas para participar a lo sumo en un 3%, es decir, al rededor de 2 becas, participación que se alcanzó con 1 beca en 26 del modelo propuesto, con 64% menos becas asignadas; continuando con las regiones, aún asignando un 100% a la región \"Pacifica\", y con amplios rangos de edades hasta 50 años, al estar la gran mayoría de los datos fuera de los límites elegidos, y con el incremento de participación de las otras regiones en estos rangos de edades, no se podía llegar a la cuota, por lo que se prescindió de esta característica. Y por último, al poder seleccionar la participación de los estratos, habiendo identificado que el estrato 2 era la mediana y habia una fuerte participación de estratos 1 y 2, se asignaron porcentajes favoreciendo el 2, pero también incluyendo al 4 que en otros momentos quedaba aislado, entendiendo que en este estrato había oportunidad por los promedios. En suma, llegar a representar las regiones vulnerables, requiere una fuerte asociación del estrato, y bajar el umbral de los promedios, ya que ha pesar de haber escogido a los mejores, se marca la tendencia por región de Andina y Caribe al tener los mejores promedios, y Amazonía junto con Orinoquia con los promedios más bajos, lo cual repercutió en su participación por region, proponiendo entonces desde la Universidad (más allá de los resultados de este modelo), considerar un plan estratégico de educación de nivelación de estas poblaciones, para fortalecer su elegibilidad, así como ir más allá del valor numérico del promedio, entrando a una evaluación de competencias, para compensar los sesgos que esto supone.'\n",
    "conclusion"
   ]
  },
  {
   "cell_type": "markdown",
   "metadata": {},
   "source": [
    "## Referencias\n",
    "* Discriminación Positiva<br> \n",
    "https://es.wikipedia.org/wiki/Discriminaci%C3%B3n_positiva\n",
    "* Análisis de formulación del programa “Ser Pilo Paga”<br>\n",
    "https://repository.urosario.edu.co/handle/10336/12526\n",
    "* La acción afirmativa en la Universidad de los Andes: El caso del programa \"Oportunidades para talentos nacionales\"<br> http://www.scielo.org.co/scielo.php?script=sci_arttext&pid=S0123-885X2004000300005\n",
    "* Acción afirmativa y equidad: un análisis desde la propuesta de Thomas Nagel<br>\n",
    "http://www.scielo.org.mx/scielo.php?script=sci_arttext&pid=S2007-24062016000200049"
   ]
  },
  {
   "cell_type": "markdown",
   "metadata": {},
   "source": [
    "## Créditos"
   ]
  },
  {
   "cell_type": "markdown",
   "metadata": {},
   "source": [
    "Camilo Gómez - 11/06/21<br>\n",
    "*Revisado*: 25/08/21"
   ]
  },
  {
   "cell_type": "code",
   "execution_count": null,
   "metadata": {},
   "outputs": [],
   "source": []
  }
 ],
 "metadata": {
  "kernelspec": {
   "display_name": "Python 3",
   "language": "python",
   "name": "python3"
  },
  "language_info": {
   "codemirror_mode": {
    "name": "ipython",
    "version": 3
   },
   "file_extension": ".py",
   "mimetype": "text/x-python",
   "name": "python",
   "nbconvert_exporter": "python",
   "pygments_lexer": "ipython3",
   "version": "3.7.4"
  }
 },
 "nbformat": 4,
 "nbformat_minor": 1
}
