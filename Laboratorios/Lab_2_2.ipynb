{
 "cells": [
  {
   "cell_type": "markdown",
   "metadata": {},
   "source": [
    "<img src=\"Archivos/miia.jpg\" width=800x>\n",
    "\n",
    "# Laboratorio 2\n",
    "\n",
    "## Hito: desarrollo de una herramienta analítica usando paquetes especializados para análisis de datos en Python\n",
    "\n",
    "Este laboratorio corresponde al 34% de la calificación total del curso y su entrega está planteada para el final de la semana 8. Su objetivo es poner en práctica las competencias adquiridas sobre el uso de los paquetes Pandas, Seaborn y Scikit Learn, entre otros, para hacer exploración, análisis descriptivo, y abordar preguntas de negocio para un caso basado en datos reales. \n",
    "\n",
    "Especificamente, al desarrollar este laboratorio pondrás a prueba tus habilidades para:\n",
    "\n",
    "1. Identificar y abordar una pregunta de negocio a partir de un contexto dado.\n",
    "2. Cargar datos desde archivos utilizando métodos de Pandas.\n",
    "3. Explorar, manejar, limpiar y agregar DataFrames.\n",
    "5. Implementar análisis combinando métricas descriptivas, visualización, filtrado y agrupación.\n",
    "6. Implementar análisis basado en modelos estadísticos o de machine learning.\n",
    "7. Utilizar paquetes como ipywidgets o panel para agregar interactividad a los análisis de manera sencilla.\n",
    "\n",
    "Te recomendamos leer por completo el enunciado del laboratorio antes de comenzar, de forma que tengas claro el propósito completo de la actividad, y puedas desarrollar tu solución apuntando a él en cada paso."
   ]
  },
  {
   "cell_type": "markdown",
   "metadata": {},
   "source": [
    "##  Contexto: *Desigualdad y factores de éxito en Pruebas \"Saber 11\" (Colombia)*\n",
    "\n",
    "El ICFES es el Instituto Colombiano para el Fomento de la Educación Superior y está adscrito al Ministerio de Educación a nivel nacional. Como parte de sus funciones, el ICFES administra las pruebas *Saber 11*, las cuales evalúan a todos los estudiantes del país al final de su educación secundaria. El examen contiene preguntas que evalúan una variedad de áreas del conocimiento (p.ej., matemáticas, ciencias naturales), y se lleva a cabo dos veces al año, respondiendo a los diferentes calendarios académicos que siguen las instituciones educativas. Al momento de inscribirse a las pruebas, los estudiantes deben llenar un formulario que recoge información socio-demográfica y relacionada con la institución a la que pertenecen, con el fin de obtener evidencia respecto al desempeño de los estudiantes en la prueba según sus condiciones particulares.\n",
    "\n",
    "<img src=\"Archivos/saberpro.png\" width=700x>\n",
    "\n",
    "Al igual que otros países de la región, Colombia tiene grandes retos en términos de desigualdad, particularmente en el contexto de educación primaria y secundaria. Por esta razón, para el Estado colombiano es muy valioso el amplio registro de datos que el ICFES genera alrededor de las Pruebas Saber 11, pues con ellos se pueden generar análisis sobre la calidad de la educación en el país y eventualmente dar lugar a recomendaciones sobre políticas públicas. En particular, la problemática a abordar en este caso de estudio es *desigualdad y factores de éxito en las pruebas Saber 11*. \n",
    "\n",
    "Los objetivos de este caso de estudio son:\n",
    "\n",
    "* Entender el contenido de los archivos de datos proporcionados sobre las pruebas Saber11, generar un reporte acerca de sus características principales, e identificar qué partes de dicho contenido serán relevantes para el análisis.\n",
    "* Identificar características de las variables de interés y relaciones entre ellas, por ejemplo, a través de agrupación, visualizaciones, y descriptivos en general.\n",
    "* Abordar preguntas de negocio relacionadas con la problemática planteada, particularmente con respecto a los factores que puedan incidir significativamente en el puntaje de una persona que presenta la prueba; especialmente aquellos que se relacionen con mal desempeño.\n",
    "* Generar una herramienta sencilla que permita a un usuario interactuar con alguno de los análisis realizados de forma relevante en el contexto del problema."
   ]
  },
  {
   "cell_type": "markdown",
   "metadata": {},
   "source": [
    "# 1. Entender el contenido de los archivos de datos\n",
    "\n",
    "Esta misión consiste en hacerse una idea general del contenido de los datos y seleccionar un segmento de ellos que tenga potencial para los análisis propuestos.\n",
    "\n",
    "Pautas generales:\n",
    "* Leer los archivos de datos y agregarlos según sea necesario.\n",
    "* Inspeccionar el archivo a partir de su encabezado, columnas, descripciones de las variables según su tipo (numéricas, categóricas).\n",
    "* Definir un sub-conjunto de variables (e.g., una lista) que puedan ser relevantes para la problemática de interés.\n",
    "\n",
    "Preguntas guía:\n",
    "* ¿Qué dimensiones tienen los datos?\n",
    "* ¿Con cuántos años y periodos de evaluación se cuenta?\n",
    "* ¿Cuáles variables pueden ser de interés para la problemática planteada?\n",
    "* ¿Qué porcentaje de datos faltantes o no válidos hay en las columnas de interés? ¿Podría eso afectar el análisis, y cómo abordarlo?\n",
    "\n",
    "Esta misión corresponde a trabajo interno del analista, por lo cual no tiene un entregable para el cliente. Como entregable, puedes generar un reporte básico sobre el contenido de los archivos de datos, ya sea a través de la impresión de mensajes, la presentación de tablas resumen, u otros."
   ]
  },
  {
   "cell_type": "markdown",
   "metadata": {},
   "source": [
    "#### a. Cargue de librerías"
   ]
  },
  {
   "cell_type": "code",
   "execution_count": 1,
   "metadata": {},
   "outputs": [
    {
     "name": "stderr",
     "output_type": "stream",
     "text": [
      "/Users/anamariaaramendiz/opt/anaconda3/lib/python3.7/site-packages/statsmodels/tools/_testing.py:19: FutureWarning: pandas.util.testing is deprecated. Use the functions in the public API at pandas.testing instead.\n",
      "  import pandas.util.testing as tm\n"
     ]
    },
    {
     "data": {
      "application/javascript": [
       "\n",
       "(function(root) {\n",
       "  function now() {\n",
       "    return new Date();\n",
       "  }\n",
       "\n",
       "  var force = true;\n",
       "\n",
       "  if (typeof root._bokeh_onload_callbacks === \"undefined\" || force === true) {\n",
       "    root._bokeh_onload_callbacks = [];\n",
       "    root._bokeh_is_loading = undefined;\n",
       "  }\n",
       "\n",
       "  if (typeof (root._bokeh_timeout) === \"undefined\" || force === true) {\n",
       "    root._bokeh_timeout = Date.now() + 5000;\n",
       "    root._bokeh_failed_load = false;\n",
       "  }\n",
       "\n",
       "  function run_callbacks() {\n",
       "    try {\n",
       "      root._bokeh_onload_callbacks.forEach(function(callback) {\n",
       "        if (callback != null)\n",
       "          callback();\n",
       "      });\n",
       "    } finally {\n",
       "      delete root._bokeh_onload_callbacks\n",
       "    }\n",
       "    console.debug(\"Bokeh: all callbacks have finished\");\n",
       "  }\n",
       "\n",
       "  function load_libs(css_urls, js_urls, js_modules, callback) {\n",
       "    if (css_urls == null) css_urls = [];\n",
       "    if (js_urls == null) js_urls = [];\n",
       "    if (js_modules == null) js_modules = [];\n",
       "\n",
       "    root._bokeh_onload_callbacks.push(callback);\n",
       "    if (root._bokeh_is_loading > 0) {\n",
       "      console.debug(\"Bokeh: BokehJS is being loaded, scheduling callback at\", now());\n",
       "      return null;\n",
       "    }\n",
       "    if (js_urls.length === 0 && js_modules.length === 0) {\n",
       "      run_callbacks();\n",
       "      return null;\n",
       "    }\n",
       "    console.debug(\"Bokeh: BokehJS not loaded, scheduling load and callback at\", now());\n",
       "    root._bokeh_is_loading = css_urls.length + js_urls.length + js_modules.length;\n",
       "\n",
       "    function on_load() {\n",
       "      root._bokeh_is_loading--;\n",
       "      if (root._bokeh_is_loading === 0) {\n",
       "        console.debug(\"Bokeh: all BokehJS libraries/stylesheets loaded\");\n",
       "        run_callbacks()\n",
       "      }\n",
       "    }\n",
       "\n",
       "    function on_error() {\n",
       "      console.error(\"failed to load \" + url);\n",
       "    }\n",
       "\n",
       "    for (var i = 0; i < css_urls.length; i++) {\n",
       "      var url = css_urls[i];\n",
       "      const element = document.createElement(\"link\");\n",
       "      element.onload = on_load;\n",
       "      element.onerror = on_error;\n",
       "      element.rel = \"stylesheet\";\n",
       "      element.type = \"text/css\";\n",
       "      element.href = url;\n",
       "      console.debug(\"Bokeh: injecting link tag for BokehJS stylesheet: \", url);\n",
       "      document.body.appendChild(element);\n",
       "    }\n",
       "\n",
       "    var skip = [];\n",
       "    if (window.requirejs) {\n",
       "      window.requirejs.config({'packages': {}, 'paths': {'plotly': 'https://cdn.plot.ly/plotly-latest.min'}, 'shim': {}});\n",
       "      \n",
       "      require([\"plotly\"], function(Plotly) {\n",
       "\t\n",
       "\twindow.Plotly = Plotly\n",
       "\t\n",
       "      })\n",
       "      \n",
       "    }\n",
       "    if (((window['Plotly'] !== undefined) && (!(window['Plotly'] instanceof HTMLElement))) || window.requirejs) {\n",
       "      var urls = ['https://cdn.plot.ly/plotly-latest.min.js'];\n",
       "      for (var i = 0; i < urls.length; i++) {\n",
       "        skip.push(urls[i])\n",
       "      }\n",
       "    }\n",
       "    for (var i = 0; i < js_urls.length; i++) {\n",
       "      var url = js_urls[i];\n",
       "      if (skip.indexOf(url) >= 0) { on_load(); continue; }\n",
       "      var element = document.createElement('script');\n",
       "      element.onload = on_load;\n",
       "      element.onerror = on_error;\n",
       "      element.async = false;\n",
       "      element.src = url;\n",
       "      console.debug(\"Bokeh: injecting script tag for BokehJS library: \", url);\n",
       "      document.head.appendChild(element);\n",
       "    }\n",
       "    for (var i = 0; i < js_modules.length; i++) {\n",
       "      var url = js_modules[i];\n",
       "      if (skip.indexOf(url) >= 0) { on_load(); continue; }\n",
       "      var element = document.createElement('script');\n",
       "      element.onload = on_load;\n",
       "      element.onerror = on_error;\n",
       "      element.async = false;\n",
       "      element.src = url;\n",
       "      element.type = \"module\";\n",
       "      console.debug(\"Bokeh: injecting script tag for BokehJS library: \", url);\n",
       "      document.head.appendChild(element);\n",
       "    }\n",
       "    if (!js_urls.length && !js_modules.length) {\n",
       "      on_load()\n",
       "    }\n",
       "  };\n",
       "\n",
       "  function inject_raw_css(css) {\n",
       "    const element = document.createElement(\"style\");\n",
       "    element.appendChild(document.createTextNode(css));\n",
       "    document.body.appendChild(element);\n",
       "  }\n",
       "\n",
       "  var js_urls = [\"https://code.jquery.com/jquery-3.5.1.min.js\", \"https://cdn.plot.ly/plotly-latest.min.js\", \"https://cdn.bokeh.org/bokeh/release/bokeh-2.4.2.min.js\", \"https://cdn.bokeh.org/bokeh/release/bokeh-gl-2.4.2.min.js\", \"https://cdn.bokeh.org/bokeh/release/bokeh-widgets-2.4.2.min.js\", \"https://cdn.bokeh.org/bokeh/release/bokeh-tables-2.4.2.min.js\", \"https://cdn.bokeh.org/bokeh/release/bokeh-mathjax-2.4.2.min.js\", \"https://unpkg.com/@holoviz/panel@0.12.5/dist/panel.min.js\"];\n",
       "  var js_modules = [];\n",
       "  var css_urls = [\"https://unpkg.com/@holoviz/panel@0.12.5/dist/css/alerts.css\", \"https://unpkg.com/@holoviz/panel@0.12.5/dist/css/card.css\", \"https://unpkg.com/@holoviz/panel@0.12.5/dist/css/widgets.css\", \"https://unpkg.com/@holoviz/panel@0.12.5/dist/css/markdown.css\", \"https://unpkg.com/@holoviz/panel@0.12.5/dist/css/json.css\", \"https://unpkg.com/@holoviz/panel@0.12.5/dist/css/loading.css\", \"https://unpkg.com/@holoviz/panel@0.12.5/dist/css/dataframe.css\"];\n",
       "  var inline_js = [\n",
       "    function(Bokeh) {\n",
       "      inject_raw_css(\"\\n    .bk.pn-loading.arcs:before {\\n      background-image: url(\\\"data:image/svg+xml;base64,PHN2ZyB4bWxucz0iaHR0cDovL3d3dy53My5vcmcvMjAwMC9zdmciIHhtbG5zOnhsaW5rPSJodHRwOi8vd3d3LnczLm9yZy8xOTk5L3hsaW5rIiBzdHlsZT0ibWFyZ2luOiBhdXRvOyBiYWNrZ3JvdW5kOiBub25lOyBkaXNwbGF5OiBibG9jazsgc2hhcGUtcmVuZGVyaW5nOiBhdXRvOyIgdmlld0JveD0iMCAwIDEwMCAxMDAiIHByZXNlcnZlQXNwZWN0UmF0aW89InhNaWRZTWlkIj4gIDxjaXJjbGUgY3g9IjUwIiBjeT0iNTAiIHI9IjMyIiBzdHJva2Utd2lkdGg9IjgiIHN0cm9rZT0iI2MzYzNjMyIgc3Ryb2tlLWRhc2hhcnJheT0iNTAuMjY1NDgyNDU3NDM2NjkgNTAuMjY1NDgyNDU3NDM2NjkiIGZpbGw9Im5vbmUiIHN0cm9rZS1saW5lY2FwPSJyb3VuZCI+ICAgIDxhbmltYXRlVHJhbnNmb3JtIGF0dHJpYnV0ZU5hbWU9InRyYW5zZm9ybSIgdHlwZT0icm90YXRlIiByZXBlYXRDb3VudD0iaW5kZWZpbml0ZSIgZHVyPSIxcyIga2V5VGltZXM9IjA7MSIgdmFsdWVzPSIwIDUwIDUwOzM2MCA1MCA1MCI+PC9hbmltYXRlVHJhbnNmb3JtPiAgPC9jaXJjbGU+PC9zdmc+\\\");\\n      max-height: 400px;\\n    }\\n    \");\n",
       "    },\n",
       "    function(Bokeh) {\n",
       "      Bokeh.set_log_level(\"info\");\n",
       "    },\n",
       "    function(Bokeh) {} // ensure no trailing comma for IE\n",
       "  ];\n",
       "\n",
       "  function run_inline_js() {\n",
       "    if ((root.Bokeh !== undefined) || (force === true)) {\n",
       "      for (var i = 0; i < inline_js.length; i++) {\n",
       "        inline_js[i].call(root, root.Bokeh);\n",
       "      }} else if (Date.now() < root._bokeh_timeout) {\n",
       "      setTimeout(run_inline_js, 100);\n",
       "    } else if (!root._bokeh_failed_load) {\n",
       "      console.log(\"Bokeh: BokehJS failed to load within specified timeout.\");\n",
       "      root._bokeh_failed_load = true;\n",
       "    }\n",
       "  }\n",
       "\n",
       "  if (root._bokeh_is_loading === 0) {\n",
       "    console.debug(\"Bokeh: BokehJS loaded, going straight to plotting\");\n",
       "    run_inline_js();\n",
       "  } else {\n",
       "    load_libs(css_urls, js_urls, js_modules, function() {\n",
       "      console.debug(\"Bokeh: BokehJS plotting callback run at\", now());\n",
       "      run_inline_js();\n",
       "    });\n",
       "  }\n",
       "}(window));"
      ],
      "application/vnd.holoviews_load.v0+json": "\n(function(root) {\n  function now() {\n    return new Date();\n  }\n\n  var force = true;\n\n  if (typeof root._bokeh_onload_callbacks === \"undefined\" || force === true) {\n    root._bokeh_onload_callbacks = [];\n    root._bokeh_is_loading = undefined;\n  }\n\n  if (typeof (root._bokeh_timeout) === \"undefined\" || force === true) {\n    root._bokeh_timeout = Date.now() + 5000;\n    root._bokeh_failed_load = false;\n  }\n\n  function run_callbacks() {\n    try {\n      root._bokeh_onload_callbacks.forEach(function(callback) {\n        if (callback != null)\n          callback();\n      });\n    } finally {\n      delete root._bokeh_onload_callbacks\n    }\n    console.debug(\"Bokeh: all callbacks have finished\");\n  }\n\n  function load_libs(css_urls, js_urls, js_modules, callback) {\n    if (css_urls == null) css_urls = [];\n    if (js_urls == null) js_urls = [];\n    if (js_modules == null) js_modules = [];\n\n    root._bokeh_onload_callbacks.push(callback);\n    if (root._bokeh_is_loading > 0) {\n      console.debug(\"Bokeh: BokehJS is being loaded, scheduling callback at\", now());\n      return null;\n    }\n    if (js_urls.length === 0 && js_modules.length === 0) {\n      run_callbacks();\n      return null;\n    }\n    console.debug(\"Bokeh: BokehJS not loaded, scheduling load and callback at\", now());\n    root._bokeh_is_loading = css_urls.length + js_urls.length + js_modules.length;\n\n    function on_load() {\n      root._bokeh_is_loading--;\n      if (root._bokeh_is_loading === 0) {\n        console.debug(\"Bokeh: all BokehJS libraries/stylesheets loaded\");\n        run_callbacks()\n      }\n    }\n\n    function on_error() {\n      console.error(\"failed to load \" + url);\n    }\n\n    for (var i = 0; i < css_urls.length; i++) {\n      var url = css_urls[i];\n      const element = document.createElement(\"link\");\n      element.onload = on_load;\n      element.onerror = on_error;\n      element.rel = \"stylesheet\";\n      element.type = \"text/css\";\n      element.href = url;\n      console.debug(\"Bokeh: injecting link tag for BokehJS stylesheet: \", url);\n      document.body.appendChild(element);\n    }\n\n    var skip = [];\n    if (window.requirejs) {\n      window.requirejs.config({'packages': {}, 'paths': {'plotly': 'https://cdn.plot.ly/plotly-latest.min'}, 'shim': {}});\n      \n      require([\"plotly\"], function(Plotly) {\n\t\n\twindow.Plotly = Plotly\n\t\n      })\n      \n    }\n    if (((window['Plotly'] !== undefined) && (!(window['Plotly'] instanceof HTMLElement))) || window.requirejs) {\n      var urls = ['https://cdn.plot.ly/plotly-latest.min.js'];\n      for (var i = 0; i < urls.length; i++) {\n        skip.push(urls[i])\n      }\n    }\n    for (var i = 0; i < js_urls.length; i++) {\n      var url = js_urls[i];\n      if (skip.indexOf(url) >= 0) { on_load(); continue; }\n      var element = document.createElement('script');\n      element.onload = on_load;\n      element.onerror = on_error;\n      element.async = false;\n      element.src = url;\n      console.debug(\"Bokeh: injecting script tag for BokehJS library: \", url);\n      document.head.appendChild(element);\n    }\n    for (var i = 0; i < js_modules.length; i++) {\n      var url = js_modules[i];\n      if (skip.indexOf(url) >= 0) { on_load(); continue; }\n      var element = document.createElement('script');\n      element.onload = on_load;\n      element.onerror = on_error;\n      element.async = false;\n      element.src = url;\n      element.type = \"module\";\n      console.debug(\"Bokeh: injecting script tag for BokehJS library: \", url);\n      document.head.appendChild(element);\n    }\n    if (!js_urls.length && !js_modules.length) {\n      on_load()\n    }\n  };\n\n  function inject_raw_css(css) {\n    const element = document.createElement(\"style\");\n    element.appendChild(document.createTextNode(css));\n    document.body.appendChild(element);\n  }\n\n  var js_urls = [\"https://code.jquery.com/jquery-3.5.1.min.js\", \"https://cdn.plot.ly/plotly-latest.min.js\", \"https://cdn.bokeh.org/bokeh/release/bokeh-2.4.2.min.js\", \"https://cdn.bokeh.org/bokeh/release/bokeh-gl-2.4.2.min.js\", \"https://cdn.bokeh.org/bokeh/release/bokeh-widgets-2.4.2.min.js\", \"https://cdn.bokeh.org/bokeh/release/bokeh-tables-2.4.2.min.js\", \"https://cdn.bokeh.org/bokeh/release/bokeh-mathjax-2.4.2.min.js\", \"https://unpkg.com/@holoviz/panel@0.12.5/dist/panel.min.js\"];\n  var js_modules = [];\n  var css_urls = [\"https://unpkg.com/@holoviz/panel@0.12.5/dist/css/alerts.css\", \"https://unpkg.com/@holoviz/panel@0.12.5/dist/css/card.css\", \"https://unpkg.com/@holoviz/panel@0.12.5/dist/css/widgets.css\", \"https://unpkg.com/@holoviz/panel@0.12.5/dist/css/markdown.css\", \"https://unpkg.com/@holoviz/panel@0.12.5/dist/css/json.css\", \"https://unpkg.com/@holoviz/panel@0.12.5/dist/css/loading.css\", \"https://unpkg.com/@holoviz/panel@0.12.5/dist/css/dataframe.css\"];\n  var inline_js = [\n    function(Bokeh) {\n      inject_raw_css(\"\\n    .bk.pn-loading.arcs:before {\\n      background-image: url(\\\"data:image/svg+xml;base64,PHN2ZyB4bWxucz0iaHR0cDovL3d3dy53My5vcmcvMjAwMC9zdmciIHhtbG5zOnhsaW5rPSJodHRwOi8vd3d3LnczLm9yZy8xOTk5L3hsaW5rIiBzdHlsZT0ibWFyZ2luOiBhdXRvOyBiYWNrZ3JvdW5kOiBub25lOyBkaXNwbGF5OiBibG9jazsgc2hhcGUtcmVuZGVyaW5nOiBhdXRvOyIgdmlld0JveD0iMCAwIDEwMCAxMDAiIHByZXNlcnZlQXNwZWN0UmF0aW89InhNaWRZTWlkIj4gIDxjaXJjbGUgY3g9IjUwIiBjeT0iNTAiIHI9IjMyIiBzdHJva2Utd2lkdGg9IjgiIHN0cm9rZT0iI2MzYzNjMyIgc3Ryb2tlLWRhc2hhcnJheT0iNTAuMjY1NDgyNDU3NDM2NjkgNTAuMjY1NDgyNDU3NDM2NjkiIGZpbGw9Im5vbmUiIHN0cm9rZS1saW5lY2FwPSJyb3VuZCI+ICAgIDxhbmltYXRlVHJhbnNmb3JtIGF0dHJpYnV0ZU5hbWU9InRyYW5zZm9ybSIgdHlwZT0icm90YXRlIiByZXBlYXRDb3VudD0iaW5kZWZpbml0ZSIgZHVyPSIxcyIga2V5VGltZXM9IjA7MSIgdmFsdWVzPSIwIDUwIDUwOzM2MCA1MCA1MCI+PC9hbmltYXRlVHJhbnNmb3JtPiAgPC9jaXJjbGU+PC9zdmc+\\\");\\n      max-height: 400px;\\n    }\\n    \");\n    },\n    function(Bokeh) {\n      Bokeh.set_log_level(\"info\");\n    },\n    function(Bokeh) {} // ensure no trailing comma for IE\n  ];\n\n  function run_inline_js() {\n    if ((root.Bokeh !== undefined) || (force === true)) {\n      for (var i = 0; i < inline_js.length; i++) {\n        inline_js[i].call(root, root.Bokeh);\n      }} else if (Date.now() < root._bokeh_timeout) {\n      setTimeout(run_inline_js, 100);\n    } else if (!root._bokeh_failed_load) {\n      console.log(\"Bokeh: BokehJS failed to load within specified timeout.\");\n      root._bokeh_failed_load = true;\n    }\n  }\n\n  if (root._bokeh_is_loading === 0) {\n    console.debug(\"Bokeh: BokehJS loaded, going straight to plotting\");\n    run_inline_js();\n  } else {\n    load_libs(css_urls, js_urls, js_modules, function() {\n      console.debug(\"Bokeh: BokehJS plotting callback run at\", now());\n      run_inline_js();\n    });\n  }\n}(window));"
     },
     "metadata": {},
     "output_type": "display_data"
    },
    {
     "data": {
      "application/javascript": [
       "\n",
       "if ((window.PyViz === undefined) || (window.PyViz instanceof HTMLElement)) {\n",
       "  window.PyViz = {comms: {}, comm_status:{}, kernels:{}, receivers: {}, plot_index: []}\n",
       "}\n",
       "\n",
       "\n",
       "    function JupyterCommManager() {\n",
       "    }\n",
       "\n",
       "    JupyterCommManager.prototype.register_target = function(plot_id, comm_id, msg_handler) {\n",
       "      if (window.comm_manager || ((window.Jupyter !== undefined) && (Jupyter.notebook.kernel != null))) {\n",
       "        var comm_manager = window.comm_manager || Jupyter.notebook.kernel.comm_manager;\n",
       "        comm_manager.register_target(comm_id, function(comm) {\n",
       "          comm.on_msg(msg_handler);\n",
       "        });\n",
       "      } else if ((plot_id in window.PyViz.kernels) && (window.PyViz.kernels[plot_id])) {\n",
       "        window.PyViz.kernels[plot_id].registerCommTarget(comm_id, function(comm) {\n",
       "          comm.onMsg = msg_handler;\n",
       "        });\n",
       "      } else if (typeof google != 'undefined' && google.colab.kernel != null) {\n",
       "        google.colab.kernel.comms.registerTarget(comm_id, (comm) => {\n",
       "          var messages = comm.messages[Symbol.asyncIterator]();\n",
       "          function processIteratorResult(result) {\n",
       "            var message = result.value;\n",
       "            console.log(message)\n",
       "            var content = {data: message.data, comm_id};\n",
       "            var buffers = []\n",
       "            for (var buffer of message.buffers || []) {\n",
       "              buffers.push(new DataView(buffer))\n",
       "            }\n",
       "            var metadata = message.metadata || {};\n",
       "            var msg = {content, buffers, metadata}\n",
       "            msg_handler(msg);\n",
       "            return messages.next().then(processIteratorResult);\n",
       "          }\n",
       "          return messages.next().then(processIteratorResult);\n",
       "        })\n",
       "      }\n",
       "    }\n",
       "\n",
       "    JupyterCommManager.prototype.get_client_comm = function(plot_id, comm_id, msg_handler) {\n",
       "      if (comm_id in window.PyViz.comms) {\n",
       "        return window.PyViz.comms[comm_id];\n",
       "      } else if (window.comm_manager || ((window.Jupyter !== undefined) && (Jupyter.notebook.kernel != null))) {\n",
       "        var comm_manager = window.comm_manager || Jupyter.notebook.kernel.comm_manager;\n",
       "        var comm = comm_manager.new_comm(comm_id, {}, {}, {}, comm_id);\n",
       "        if (msg_handler) {\n",
       "          comm.on_msg(msg_handler);\n",
       "        }\n",
       "      } else if ((plot_id in window.PyViz.kernels) && (window.PyViz.kernels[plot_id])) {\n",
       "        var comm = window.PyViz.kernels[plot_id].connectToComm(comm_id);\n",
       "        comm.open();\n",
       "        if (msg_handler) {\n",
       "          comm.onMsg = msg_handler;\n",
       "        }\n",
       "      } else if (typeof google != 'undefined' && google.colab.kernel != null) {\n",
       "        var comm_promise = google.colab.kernel.comms.open(comm_id)\n",
       "        comm_promise.then((comm) => {\n",
       "          window.PyViz.comms[comm_id] = comm;\n",
       "          if (msg_handler) {\n",
       "            var messages = comm.messages[Symbol.asyncIterator]();\n",
       "            function processIteratorResult(result) {\n",
       "              var message = result.value;\n",
       "              var content = {data: message.data};\n",
       "              var metadata = message.metadata || {comm_id};\n",
       "              var msg = {content, metadata}\n",
       "              msg_handler(msg);\n",
       "              return messages.next().then(processIteratorResult);\n",
       "            }\n",
       "            return messages.next().then(processIteratorResult);\n",
       "          }\n",
       "        }) \n",
       "        var sendClosure = (data, metadata, buffers, disposeOnDone) => {\n",
       "          return comm_promise.then((comm) => {\n",
       "            comm.send(data, metadata, buffers, disposeOnDone);\n",
       "          });\n",
       "        };\n",
       "        var comm = {\n",
       "          send: sendClosure\n",
       "        };\n",
       "      }\n",
       "      window.PyViz.comms[comm_id] = comm;\n",
       "      return comm;\n",
       "    }\n",
       "    window.PyViz.comm_manager = new JupyterCommManager();\n",
       "    \n",
       "\n",
       "\n",
       "var JS_MIME_TYPE = 'application/javascript';\n",
       "var HTML_MIME_TYPE = 'text/html';\n",
       "var EXEC_MIME_TYPE = 'application/vnd.holoviews_exec.v0+json';\n",
       "var CLASS_NAME = 'output';\n",
       "\n",
       "/**\n",
       " * Render data to the DOM node\n",
       " */\n",
       "function render(props, node) {\n",
       "  var div = document.createElement(\"div\");\n",
       "  var script = document.createElement(\"script\");\n",
       "  node.appendChild(div);\n",
       "  node.appendChild(script);\n",
       "}\n",
       "\n",
       "/**\n",
       " * Handle when a new output is added\n",
       " */\n",
       "function handle_add_output(event, handle) {\n",
       "  var output_area = handle.output_area;\n",
       "  var output = handle.output;\n",
       "  if ((output.data == undefined) || (!output.data.hasOwnProperty(EXEC_MIME_TYPE))) {\n",
       "    return\n",
       "  }\n",
       "  var id = output.metadata[EXEC_MIME_TYPE][\"id\"];\n",
       "  var toinsert = output_area.element.find(\".\" + CLASS_NAME.split(' ')[0]);\n",
       "  if (id !== undefined) {\n",
       "    var nchildren = toinsert.length;\n",
       "    var html_node = toinsert[nchildren-1].children[0];\n",
       "    html_node.innerHTML = output.data[HTML_MIME_TYPE];\n",
       "    var scripts = [];\n",
       "    var nodelist = html_node.querySelectorAll(\"script\");\n",
       "    for (var i in nodelist) {\n",
       "      if (nodelist.hasOwnProperty(i)) {\n",
       "        scripts.push(nodelist[i])\n",
       "      }\n",
       "    }\n",
       "\n",
       "    scripts.forEach( function (oldScript) {\n",
       "      var newScript = document.createElement(\"script\");\n",
       "      var attrs = [];\n",
       "      var nodemap = oldScript.attributes;\n",
       "      for (var j in nodemap) {\n",
       "        if (nodemap.hasOwnProperty(j)) {\n",
       "          attrs.push(nodemap[j])\n",
       "        }\n",
       "      }\n",
       "      attrs.forEach(function(attr) { newScript.setAttribute(attr.name, attr.value) });\n",
       "      newScript.appendChild(document.createTextNode(oldScript.innerHTML));\n",
       "      oldScript.parentNode.replaceChild(newScript, oldScript);\n",
       "    });\n",
       "    if (JS_MIME_TYPE in output.data) {\n",
       "      toinsert[nchildren-1].children[1].textContent = output.data[JS_MIME_TYPE];\n",
       "    }\n",
       "    output_area._hv_plot_id = id;\n",
       "    if ((window.Bokeh !== undefined) && (id in Bokeh.index)) {\n",
       "      window.PyViz.plot_index[id] = Bokeh.index[id];\n",
       "    } else {\n",
       "      window.PyViz.plot_index[id] = null;\n",
       "    }\n",
       "  } else if (output.metadata[EXEC_MIME_TYPE][\"server_id\"] !== undefined) {\n",
       "    var bk_div = document.createElement(\"div\");\n",
       "    bk_div.innerHTML = output.data[HTML_MIME_TYPE];\n",
       "    var script_attrs = bk_div.children[0].attributes;\n",
       "    for (var i = 0; i < script_attrs.length; i++) {\n",
       "      toinsert[toinsert.length - 1].childNodes[1].setAttribute(script_attrs[i].name, script_attrs[i].value);\n",
       "    }\n",
       "    // store reference to server id on output_area\n",
       "    output_area._bokeh_server_id = output.metadata[EXEC_MIME_TYPE][\"server_id\"];\n",
       "  }\n",
       "}\n",
       "\n",
       "/**\n",
       " * Handle when an output is cleared or removed\n",
       " */\n",
       "function handle_clear_output(event, handle) {\n",
       "  var id = handle.cell.output_area._hv_plot_id;\n",
       "  var server_id = handle.cell.output_area._bokeh_server_id;\n",
       "  if (((id === undefined) || !(id in PyViz.plot_index)) && (server_id !== undefined)) { return; }\n",
       "  var comm = window.PyViz.comm_manager.get_client_comm(\"hv-extension-comm\", \"hv-extension-comm\", function () {});\n",
       "  if (server_id !== null) {\n",
       "    comm.send({event_type: 'server_delete', 'id': server_id});\n",
       "    return;\n",
       "  } else if (comm !== null) {\n",
       "    comm.send({event_type: 'delete', 'id': id});\n",
       "  }\n",
       "  delete PyViz.plot_index[id];\n",
       "  if ((window.Bokeh !== undefined) & (id in window.Bokeh.index)) {\n",
       "    var doc = window.Bokeh.index[id].model.document\n",
       "    doc.clear();\n",
       "    const i = window.Bokeh.documents.indexOf(doc);\n",
       "    if (i > -1) {\n",
       "      window.Bokeh.documents.splice(i, 1);\n",
       "    }\n",
       "  }\n",
       "}\n",
       "\n",
       "/**\n",
       " * Handle kernel restart event\n",
       " */\n",
       "function handle_kernel_cleanup(event, handle) {\n",
       "  delete PyViz.comms[\"hv-extension-comm\"];\n",
       "  window.PyViz.plot_index = {}\n",
       "}\n",
       "\n",
       "/**\n",
       " * Handle update_display_data messages\n",
       " */\n",
       "function handle_update_output(event, handle) {\n",
       "  handle_clear_output(event, {cell: {output_area: handle.output_area}})\n",
       "  handle_add_output(event, handle)\n",
       "}\n",
       "\n",
       "function register_renderer(events, OutputArea) {\n",
       "  function append_mime(data, metadata, element) {\n",
       "    // create a DOM node to render to\n",
       "    var toinsert = this.create_output_subarea(\n",
       "    metadata,\n",
       "    CLASS_NAME,\n",
       "    EXEC_MIME_TYPE\n",
       "    );\n",
       "    this.keyboard_manager.register_events(toinsert);\n",
       "    // Render to node\n",
       "    var props = {data: data, metadata: metadata[EXEC_MIME_TYPE]};\n",
       "    render(props, toinsert[0]);\n",
       "    element.append(toinsert);\n",
       "    return toinsert\n",
       "  }\n",
       "\n",
       "  events.on('output_added.OutputArea', handle_add_output);\n",
       "  events.on('output_updated.OutputArea', handle_update_output);\n",
       "  events.on('clear_output.CodeCell', handle_clear_output);\n",
       "  events.on('delete.Cell', handle_clear_output);\n",
       "  events.on('kernel_ready.Kernel', handle_kernel_cleanup);\n",
       "\n",
       "  OutputArea.prototype.register_mime_type(EXEC_MIME_TYPE, append_mime, {\n",
       "    safe: true,\n",
       "    index: 0\n",
       "  });\n",
       "}\n",
       "\n",
       "if (window.Jupyter !== undefined) {\n",
       "  try {\n",
       "    var events = require('base/js/events');\n",
       "    var OutputArea = require('notebook/js/outputarea').OutputArea;\n",
       "    if (OutputArea.prototype.mime_types().indexOf(EXEC_MIME_TYPE) == -1) {\n",
       "      register_renderer(events, OutputArea);\n",
       "    }\n",
       "  } catch(err) {\n",
       "  }\n",
       "}\n"
      ],
      "application/vnd.holoviews_load.v0+json": "\nif ((window.PyViz === undefined) || (window.PyViz instanceof HTMLElement)) {\n  window.PyViz = {comms: {}, comm_status:{}, kernels:{}, receivers: {}, plot_index: []}\n}\n\n\n    function JupyterCommManager() {\n    }\n\n    JupyterCommManager.prototype.register_target = function(plot_id, comm_id, msg_handler) {\n      if (window.comm_manager || ((window.Jupyter !== undefined) && (Jupyter.notebook.kernel != null))) {\n        var comm_manager = window.comm_manager || Jupyter.notebook.kernel.comm_manager;\n        comm_manager.register_target(comm_id, function(comm) {\n          comm.on_msg(msg_handler);\n        });\n      } else if ((plot_id in window.PyViz.kernels) && (window.PyViz.kernels[plot_id])) {\n        window.PyViz.kernels[plot_id].registerCommTarget(comm_id, function(comm) {\n          comm.onMsg = msg_handler;\n        });\n      } else if (typeof google != 'undefined' && google.colab.kernel != null) {\n        google.colab.kernel.comms.registerTarget(comm_id, (comm) => {\n          var messages = comm.messages[Symbol.asyncIterator]();\n          function processIteratorResult(result) {\n            var message = result.value;\n            console.log(message)\n            var content = {data: message.data, comm_id};\n            var buffers = []\n            for (var buffer of message.buffers || []) {\n              buffers.push(new DataView(buffer))\n            }\n            var metadata = message.metadata || {};\n            var msg = {content, buffers, metadata}\n            msg_handler(msg);\n            return messages.next().then(processIteratorResult);\n          }\n          return messages.next().then(processIteratorResult);\n        })\n      }\n    }\n\n    JupyterCommManager.prototype.get_client_comm = function(plot_id, comm_id, msg_handler) {\n      if (comm_id in window.PyViz.comms) {\n        return window.PyViz.comms[comm_id];\n      } else if (window.comm_manager || ((window.Jupyter !== undefined) && (Jupyter.notebook.kernel != null))) {\n        var comm_manager = window.comm_manager || Jupyter.notebook.kernel.comm_manager;\n        var comm = comm_manager.new_comm(comm_id, {}, {}, {}, comm_id);\n        if (msg_handler) {\n          comm.on_msg(msg_handler);\n        }\n      } else if ((plot_id in window.PyViz.kernels) && (window.PyViz.kernels[plot_id])) {\n        var comm = window.PyViz.kernels[plot_id].connectToComm(comm_id);\n        comm.open();\n        if (msg_handler) {\n          comm.onMsg = msg_handler;\n        }\n      } else if (typeof google != 'undefined' && google.colab.kernel != null) {\n        var comm_promise = google.colab.kernel.comms.open(comm_id)\n        comm_promise.then((comm) => {\n          window.PyViz.comms[comm_id] = comm;\n          if (msg_handler) {\n            var messages = comm.messages[Symbol.asyncIterator]();\n            function processIteratorResult(result) {\n              var message = result.value;\n              var content = {data: message.data};\n              var metadata = message.metadata || {comm_id};\n              var msg = {content, metadata}\n              msg_handler(msg);\n              return messages.next().then(processIteratorResult);\n            }\n            return messages.next().then(processIteratorResult);\n          }\n        }) \n        var sendClosure = (data, metadata, buffers, disposeOnDone) => {\n          return comm_promise.then((comm) => {\n            comm.send(data, metadata, buffers, disposeOnDone);\n          });\n        };\n        var comm = {\n          send: sendClosure\n        };\n      }\n      window.PyViz.comms[comm_id] = comm;\n      return comm;\n    }\n    window.PyViz.comm_manager = new JupyterCommManager();\n    \n\n\nvar JS_MIME_TYPE = 'application/javascript';\nvar HTML_MIME_TYPE = 'text/html';\nvar EXEC_MIME_TYPE = 'application/vnd.holoviews_exec.v0+json';\nvar CLASS_NAME = 'output';\n\n/**\n * Render data to the DOM node\n */\nfunction render(props, node) {\n  var div = document.createElement(\"div\");\n  var script = document.createElement(\"script\");\n  node.appendChild(div);\n  node.appendChild(script);\n}\n\n/**\n * Handle when a new output is added\n */\nfunction handle_add_output(event, handle) {\n  var output_area = handle.output_area;\n  var output = handle.output;\n  if ((output.data == undefined) || (!output.data.hasOwnProperty(EXEC_MIME_TYPE))) {\n    return\n  }\n  var id = output.metadata[EXEC_MIME_TYPE][\"id\"];\n  var toinsert = output_area.element.find(\".\" + CLASS_NAME.split(' ')[0]);\n  if (id !== undefined) {\n    var nchildren = toinsert.length;\n    var html_node = toinsert[nchildren-1].children[0];\n    html_node.innerHTML = output.data[HTML_MIME_TYPE];\n    var scripts = [];\n    var nodelist = html_node.querySelectorAll(\"script\");\n    for (var i in nodelist) {\n      if (nodelist.hasOwnProperty(i)) {\n        scripts.push(nodelist[i])\n      }\n    }\n\n    scripts.forEach( function (oldScript) {\n      var newScript = document.createElement(\"script\");\n      var attrs = [];\n      var nodemap = oldScript.attributes;\n      for (var j in nodemap) {\n        if (nodemap.hasOwnProperty(j)) {\n          attrs.push(nodemap[j])\n        }\n      }\n      attrs.forEach(function(attr) { newScript.setAttribute(attr.name, attr.value) });\n      newScript.appendChild(document.createTextNode(oldScript.innerHTML));\n      oldScript.parentNode.replaceChild(newScript, oldScript);\n    });\n    if (JS_MIME_TYPE in output.data) {\n      toinsert[nchildren-1].children[1].textContent = output.data[JS_MIME_TYPE];\n    }\n    output_area._hv_plot_id = id;\n    if ((window.Bokeh !== undefined) && (id in Bokeh.index)) {\n      window.PyViz.plot_index[id] = Bokeh.index[id];\n    } else {\n      window.PyViz.plot_index[id] = null;\n    }\n  } else if (output.metadata[EXEC_MIME_TYPE][\"server_id\"] !== undefined) {\n    var bk_div = document.createElement(\"div\");\n    bk_div.innerHTML = output.data[HTML_MIME_TYPE];\n    var script_attrs = bk_div.children[0].attributes;\n    for (var i = 0; i < script_attrs.length; i++) {\n      toinsert[toinsert.length - 1].childNodes[1].setAttribute(script_attrs[i].name, script_attrs[i].value);\n    }\n    // store reference to server id on output_area\n    output_area._bokeh_server_id = output.metadata[EXEC_MIME_TYPE][\"server_id\"];\n  }\n}\n\n/**\n * Handle when an output is cleared or removed\n */\nfunction handle_clear_output(event, handle) {\n  var id = handle.cell.output_area._hv_plot_id;\n  var server_id = handle.cell.output_area._bokeh_server_id;\n  if (((id === undefined) || !(id in PyViz.plot_index)) && (server_id !== undefined)) { return; }\n  var comm = window.PyViz.comm_manager.get_client_comm(\"hv-extension-comm\", \"hv-extension-comm\", function () {});\n  if (server_id !== null) {\n    comm.send({event_type: 'server_delete', 'id': server_id});\n    return;\n  } else if (comm !== null) {\n    comm.send({event_type: 'delete', 'id': id});\n  }\n  delete PyViz.plot_index[id];\n  if ((window.Bokeh !== undefined) & (id in window.Bokeh.index)) {\n    var doc = window.Bokeh.index[id].model.document\n    doc.clear();\n    const i = window.Bokeh.documents.indexOf(doc);\n    if (i > -1) {\n      window.Bokeh.documents.splice(i, 1);\n    }\n  }\n}\n\n/**\n * Handle kernel restart event\n */\nfunction handle_kernel_cleanup(event, handle) {\n  delete PyViz.comms[\"hv-extension-comm\"];\n  window.PyViz.plot_index = {}\n}\n\n/**\n * Handle update_display_data messages\n */\nfunction handle_update_output(event, handle) {\n  handle_clear_output(event, {cell: {output_area: handle.output_area}})\n  handle_add_output(event, handle)\n}\n\nfunction register_renderer(events, OutputArea) {\n  function append_mime(data, metadata, element) {\n    // create a DOM node to render to\n    var toinsert = this.create_output_subarea(\n    metadata,\n    CLASS_NAME,\n    EXEC_MIME_TYPE\n    );\n    this.keyboard_manager.register_events(toinsert);\n    // Render to node\n    var props = {data: data, metadata: metadata[EXEC_MIME_TYPE]};\n    render(props, toinsert[0]);\n    element.append(toinsert);\n    return toinsert\n  }\n\n  events.on('output_added.OutputArea', handle_add_output);\n  events.on('output_updated.OutputArea', handle_update_output);\n  events.on('clear_output.CodeCell', handle_clear_output);\n  events.on('delete.Cell', handle_clear_output);\n  events.on('kernel_ready.Kernel', handle_kernel_cleanup);\n\n  OutputArea.prototype.register_mime_type(EXEC_MIME_TYPE, append_mime, {\n    safe: true,\n    index: 0\n  });\n}\n\nif (window.Jupyter !== undefined) {\n  try {\n    var events = require('base/js/events');\n    var OutputArea = require('notebook/js/outputarea').OutputArea;\n    if (OutputArea.prototype.mime_types().indexOf(EXEC_MIME_TYPE) == -1) {\n      register_renderer(events, OutputArea);\n    }\n  } catch(err) {\n  }\n}\n"
     },
     "metadata": {},
     "output_type": "display_data"
    },
    {
     "data": {
      "text/html": [
       "<style>.container { width:100% !important; }</style>"
      ],
      "text/plain": [
       "<IPython.core.display.HTML object>"
      ]
     },
     "metadata": {},
     "output_type": "display_data"
    }
   ],
   "source": [
    "import numpy as np\n",
    "import pandas as pd\n",
    "import unidecode\n",
    "import re\n",
    "from unicodedata import normalize\n",
    "\n",
    "import seaborn as sns\n",
    "import matplotlib.pyplot as plt\n",
    "import matplotlib\n",
    "import plotly.graph_objects as go\n",
    "from sklearn.model_selection import train_test_split\n",
    "from sklearn.linear_model import LinearRegression\n",
    "from sklearn.linear_model import LogisticRegression\n",
    "from sklearn import datasets, linear_model\n",
    "from sklearn.metrics import r2_score\n",
    "from sklearn.feature_selection import SelectKBest\n",
    "from sklearn import feature_selection\n",
    "import ipywidgets as widgets\n",
    "from ipywidgets import interactive\n",
    "from datetime import datetime\n",
    "from datetime import date\n",
    "\n",
    "import panel as pn\n",
    "pn.extension('plotly')\n",
    "\n",
    "# Display más grande\n",
    "from IPython.core.display import display, HTML\n",
    "display(HTML(\"<style>.container { width:100% !important; }</style>\"))"
   ]
  },
  {
   "cell_type": "markdown",
   "metadata": {},
   "source": [
    "#### b. Cargue de base de datos\n",
    "\n",
    "Se descargaron las bases de datos correspondientes a los periodos: 2019 (01 y 02), 2020 (01 y 02), teniendo en cuenta que el 2019 fue un año regular, y el 2020 con los efectos de la pandemia, pueden mostrar particularidades sobre el rendimiento, dado el cambio en el sistema de evaluación y educación (migración virtual y desigualdades evidenciadas por la falta de recursos).\n",
    "\n",
    "(esto puede tomar un par de minutos)"
   ]
  },
  {
   "cell_type": "code",
   "execution_count": 2,
   "metadata": {},
   "outputs": [],
   "source": [
    "def cargue(año):\n",
    "    direccion = \"./Archivos/\" + año + \".TXT\"\n",
    "    base = pd.read_csv(direccion, sep = \"¬\", engine = \"python\", encoding = \"\")\n",
    "    return base\n",
    "    \n",
    "S_20191 = cargue(\"SB11_20191\")\n",
    "S_20192 = cargue(\"SB11_20192\")\n",
    "S_20201 = cargue(\"SB11_20201\")\n",
    "S_20202 = cargue(\"SB11_20202\")\n"
   ]
  },
  {
   "cell_type": "markdown",
   "metadata": {},
   "source": [
    "#### c. Inspección de los archivos\n",
    "\n",
    "- Dimensión de los archivos: los datos del 2019 tienen 1 columna más que los del 2020 (ESTU_ETNIA), y los del segundo corte del año (20XX-2), superan los 500K registros, mientras que los del primer corte (20XX-1) son menos de 22K registros."
   ]
  },
  {
   "cell_type": "code",
   "execution_count": 3,
   "metadata": {},
   "outputs": [
    {
     "name": "stdout",
     "output_type": "stream",
     "text": [
      "Archivo 2019-1 : 21,083 filas y 82 columnas\n",
      "Archivo 2019-2 : 546,212 filas y 82 columnas\n",
      "Archivo 2020-1 : 15,435 filas y 81 columnas\n",
      "Archivo 2020-2 : 504,872 filas y 81 columnas\n",
      "La columna que no está en el 2020 es: Index(['ESTU_ETNIA'], dtype='object')\n"
     ]
    }
   ],
   "source": [
    "def dimension(base,nombre):\n",
    "    return print(\"Archivo\",nombre,\": {:,.0f} filas\".format(base.shape[0]), \"y\",base.shape[1], \"columnas\")\n",
    "\n",
    "dimension(S_20191,\"2019-1\")\n",
    "dimension(S_20192,\"2019-2\")\n",
    "dimension(S_20201,\"2020-1\")\n",
    "dimension(S_20202,\"2020-2\")\n",
    "print(\"La columna que no está en el 2020 es:\",S_20191.columns.difference(S_20201.columns))"
   ]
  },
  {
   "cell_type": "markdown",
   "metadata": {},
   "source": [
    "- Datos faltantes: se aprecia que el total de datos faltantes por cada base de datos, varían entre el 1.27% al 3.59%, por lo que remover estos datos, no representa mayor impacto sobre el total. De igual forma, el total de columnas con faltantes va desde un 42% al 49% del total de las columnas."
   ]
  },
  {
   "cell_type": "code",
   "execution_count": 4,
   "metadata": {},
   "outputs": [
    {
     "name": "stdout",
     "output_type": "stream",
     "text": [
      "Archivo 2019-1  : 35 columnas con NA's equivalente al 42.68% del total de columnas. El total de faltantes es: 55,525 es decir, el 3.21% del total de datos\n",
      "Archivo 2019-2  : 38 columnas con NA's equivalente al 46.34% del total de columnas. El total de faltantes es: 1,241,400 es decir, el 2.77% del total de datos\n",
      "Archivo 2020-1  : 37 columnas con NA's equivalente al 45.68% del total de columnas. El total de faltantes es: 44,850 es decir, el 3.59% del total de datos\n",
      "Archivo 2020-2  : 40 columnas con NA's equivalente al 49.38% del total de columnas. El total de faltantes es: 519,164 es decir, el 1.27% del total de datos\n"
     ]
    }
   ],
   "source": [
    "def info_faltantes(base, nombre):\n",
    "    return print(\"Archivo\",nombre,\" : {:,.0f} columnas con NA's\".format(len(base.columns[base.isnull().any()])), \"equivalente al {:,.2%}\".format(len(base.columns[base.isnull().any()])/len(base.columns)),\"del total de columnas. El total de faltantes es: {:,.0f}\".format(base.isna().sum().sum()), \"es decir, el {:,.2%}\".format(base.isna().sum().sum()/(base.shape[0]*base.shape[1])), \"del total de datos\")\n",
    "\n",
    "info_faltantes(S_20191,\"2019-1\")\n",
    "info_faltantes(S_20192,\"2019-2\")\n",
    "info_faltantes(S_20201,\"2020-1\")\n",
    "info_faltantes(S_20202,\"2020-2\")\n"
   ]
  },
  {
   "cell_type": "markdown",
   "metadata": {},
   "source": [
    "#### d. Columnas a considerar\n",
    "\n",
    "16 columnas mixtas (categóricas y numéricas), siendo:\n",
    "\n",
    "- Categóricas: fecha de nacimiento (para tener la edad), periodo (sirve para identificar el periodo cuando se unan las bases), id del estudiante (para identificar duplicados y reconocer individualmente los registros, departamento de residencia, estrato (posiblemente relacionado con acceso a mejor educación), familia tiene internet (importante con la llegada de la pandemia, facilidad de acceso a la información), familia tiene consola de juegos (posible tiempo no dedicado al estudio), número de libros leídos (posible propensión al estudio), situación económica (posibilidad de recursos tanto de acceso a la educación, como materiales, e incluso alimentación que puede influenciar desarrollo del cerebro), dedicación a lectura diaria y dedicación a internet, naturaleza del colegio (entendiendo que la educación pública está sujeta a paros y demás), carácter del colegio (enfoque académico o práctico que puede tener una orientación que afecte el resultado), ubicación (intuyendo las dificultades de acceso a la educación en zona rural y su calidad).\n",
    "    \n",
    "- Numéricas: puntaje global, que para los efectos de esta revisión, se acota en el total."
   ]
  },
  {
   "cell_type": "code",
   "execution_count": 5,
   "metadata": {},
   "outputs": [],
   "source": [
    "def filtro_columnas(base):\n",
    "    return base[[\"ESTU_FECHANACIMIENTO\",\"PERIODO\",\"ESTU_CONSECUTIVO\",\"ESTU_DEPTO_RESIDE\",\"FAMI_ESTRATOVIVIENDA\",\"FAMI_TIENEINTERNET\",\n",
    "                   \"FAMI_TIENECOMPUTADOR\",\"FAMI_TIENECONSOLAVIDEOJUEGOS\",\"FAMI_NUMLIBROS\",\"FAMI_SITUACIONECONOMICA\",\n",
    "                   \"ESTU_DEDICACIONLECTURADIARIA\",\"ESTU_DEDICACIONINTERNET\",\"COLE_NATURALEZA\",\"COLE_CARACTER\",\n",
    "                   \"COLE_AREA_UBICACION\", \"PUNT_GLOBAL\"]]\n",
    "\n",
    "F_20191 = filtro_columnas(S_20191)\n",
    "F_20192 = filtro_columnas(S_20192)\n",
    "F_20201 = filtro_columnas(S_20201)\n",
    "F_20202 = filtro_columnas(S_20202)"
   ]
  },
  {
   "cell_type": "markdown",
   "metadata": {},
   "source": [
    "Comprobación de filtro de columnas:"
   ]
  },
  {
   "cell_type": "code",
   "execution_count": 6,
   "metadata": {},
   "outputs": [
    {
     "name": "stdout",
     "output_type": "stream",
     "text": [
      "Archivo 2019-1 : 21,083 filas y 16 columnas\n",
      "Archivo 2019-2 : 546,212 filas y 16 columnas\n",
      "Archivo 2020-1 : 15,435 filas y 16 columnas\n",
      "Archivo 2020-2 : 504,872 filas y 16 columnas\n"
     ]
    }
   ],
   "source": [
    "dimension(F_20191,\"2019-1\")\n",
    "dimension(F_20192,\"2019-2\")\n",
    "dimension(F_20201,\"2020-1\")\n",
    "dimension(F_20202,\"2020-2\")"
   ]
  },
  {
   "cell_type": "markdown",
   "metadata": {},
   "source": [
    "#### e. Unión de las bases de datos"
   ]
  },
  {
   "cell_type": "code",
   "execution_count": 7,
   "metadata": {},
   "outputs": [],
   "source": [
    "bases = [F_20191, F_20192, F_20201, F_20202]\n",
    "saber_t = pd.DataFrame()\n",
    "for df in bases:\n",
    "    saber_t = saber_t.append(df)    "
   ]
  },
  {
   "cell_type": "code",
   "execution_count": 8,
   "metadata": {},
   "outputs": [
    {
     "name": "stdout",
     "output_type": "stream",
     "text": [
      "Archivo base a trabajar : 1,087,602 filas y 16 columnas\n"
     ]
    }
   ],
   "source": [
    "dimension(saber_t,\"base a trabajar\")"
   ]
  },
  {
   "cell_type": "code",
   "execution_count": 9,
   "metadata": {},
   "outputs": [
    {
     "data": {
      "text/html": [
       "<div>\n",
       "<style scoped>\n",
       "    .dataframe tbody tr th:only-of-type {\n",
       "        vertical-align: middle;\n",
       "    }\n",
       "\n",
       "    .dataframe tbody tr th {\n",
       "        vertical-align: top;\n",
       "    }\n",
       "\n",
       "    .dataframe thead th {\n",
       "        text-align: right;\n",
       "    }\n",
       "</style>\n",
       "<table border=\"1\" class=\"dataframe\">\n",
       "  <thead>\n",
       "    <tr style=\"text-align: right;\">\n",
       "      <th></th>\n",
       "      <th>ESTU_FECHANACIMIENTO</th>\n",
       "      <th>PERIODO</th>\n",
       "      <th>ESTU_CONSECUTIVO</th>\n",
       "      <th>ESTU_DEPTO_RESIDE</th>\n",
       "      <th>FAMI_ESTRATOVIVIENDA</th>\n",
       "      <th>FAMI_TIENEINTERNET</th>\n",
       "      <th>FAMI_TIENECOMPUTADOR</th>\n",
       "      <th>FAMI_TIENECONSOLAVIDEOJUEGOS</th>\n",
       "      <th>FAMI_NUMLIBROS</th>\n",
       "      <th>FAMI_SITUACIONECONOMICA</th>\n",
       "      <th>ESTU_DEDICACIONLECTURADIARIA</th>\n",
       "      <th>ESTU_DEDICACIONINTERNET</th>\n",
       "      <th>COLE_NATURALEZA</th>\n",
       "      <th>COLE_CARACTER</th>\n",
       "      <th>COLE_AREA_UBICACION</th>\n",
       "      <th>PUNT_GLOBAL</th>\n",
       "    </tr>\n",
       "  </thead>\n",
       "  <tbody>\n",
       "    <tr>\n",
       "      <th>0</th>\n",
       "      <td>07/12/2000</td>\n",
       "      <td>20191</td>\n",
       "      <td>SB11201910008548</td>\n",
       "      <td>VALLE</td>\n",
       "      <td>Estrato 4</td>\n",
       "      <td>Si</td>\n",
       "      <td>Si</td>\n",
       "      <td>No</td>\n",
       "      <td>0 A 10 LIBROS</td>\n",
       "      <td>Mejor</td>\n",
       "      <td>Entre 1 y 2 horas</td>\n",
       "      <td>Entre 1 y 3 horas</td>\n",
       "      <td>OFICIAL</td>\n",
       "      <td>TÉCNICO/ACADÉMICO</td>\n",
       "      <td>URBANO</td>\n",
       "      <td>235</td>\n",
       "    </tr>\n",
       "    <tr>\n",
       "      <th>1</th>\n",
       "      <td>23/03/1998</td>\n",
       "      <td>20191</td>\n",
       "      <td>SB11201910004475</td>\n",
       "      <td>VALLE</td>\n",
       "      <td>Estrato 3</td>\n",
       "      <td>Si</td>\n",
       "      <td>No</td>\n",
       "      <td>No</td>\n",
       "      <td>11 A 25 LIBROS</td>\n",
       "      <td>Mejor</td>\n",
       "      <td>No leo por entretenimiento</td>\n",
       "      <td>Entre 1 y 3 horas</td>\n",
       "      <td>OFICIAL</td>\n",
       "      <td>TÉCNICO/ACADÉMICO</td>\n",
       "      <td>URBANO</td>\n",
       "      <td>217</td>\n",
       "    </tr>\n",
       "    <tr>\n",
       "      <th>2</th>\n",
       "      <td>22/03/2001</td>\n",
       "      <td>20191</td>\n",
       "      <td>SB11201910011427</td>\n",
       "      <td>VALLE</td>\n",
       "      <td>Estrato 2</td>\n",
       "      <td>Si</td>\n",
       "      <td>No</td>\n",
       "      <td>Si</td>\n",
       "      <td>0 A 10 LIBROS</td>\n",
       "      <td>Igual</td>\n",
       "      <td>No leo por entretenimiento</td>\n",
       "      <td>30 minutos o menos</td>\n",
       "      <td>OFICIAL</td>\n",
       "      <td>TÉCNICO/ACADÉMICO</td>\n",
       "      <td>URBANO</td>\n",
       "      <td>246</td>\n",
       "    </tr>\n",
       "    <tr>\n",
       "      <th>3</th>\n",
       "      <td>16/06/1994</td>\n",
       "      <td>20191</td>\n",
       "      <td>SB11201910041975</td>\n",
       "      <td>VALLE</td>\n",
       "      <td>Estrato 2</td>\n",
       "      <td>Si</td>\n",
       "      <td>Si</td>\n",
       "      <td>No</td>\n",
       "      <td>0 A 10 LIBROS</td>\n",
       "      <td>Igual</td>\n",
       "      <td>No leo por entretenimiento</td>\n",
       "      <td>Más de 3 horas</td>\n",
       "      <td>OFICIAL</td>\n",
       "      <td>TÉCNICO/ACADÉMICO</td>\n",
       "      <td>URBANO</td>\n",
       "      <td>255</td>\n",
       "    </tr>\n",
       "    <tr>\n",
       "      <th>4</th>\n",
       "      <td>21/09/2000</td>\n",
       "      <td>20191</td>\n",
       "      <td>SB11201910014490</td>\n",
       "      <td>BOGOTA</td>\n",
       "      <td>Estrato 6</td>\n",
       "      <td>Si</td>\n",
       "      <td>Si</td>\n",
       "      <td>Si</td>\n",
       "      <td>MÁS DE 100 LIBROS</td>\n",
       "      <td>Igual</td>\n",
       "      <td>Entre 1 y 2 horas</td>\n",
       "      <td>Entre 1 y 3 horas</td>\n",
       "      <td>NO OFICIAL</td>\n",
       "      <td>ACADÉMICO</td>\n",
       "      <td>URBANO</td>\n",
       "      <td>280</td>\n",
       "    </tr>\n",
       "  </tbody>\n",
       "</table>\n",
       "</div>"
      ],
      "text/plain": [
       "  ESTU_FECHANACIMIENTO  PERIODO  ESTU_CONSECUTIVO ESTU_DEPTO_RESIDE  \\\n",
       "0           07/12/2000    20191  SB11201910008548             VALLE   \n",
       "1           23/03/1998    20191  SB11201910004475             VALLE   \n",
       "2           22/03/2001    20191  SB11201910011427             VALLE   \n",
       "3           16/06/1994    20191  SB11201910041975             VALLE   \n",
       "4           21/09/2000    20191  SB11201910014490            BOGOTA   \n",
       "\n",
       "  FAMI_ESTRATOVIVIENDA FAMI_TIENEINTERNET FAMI_TIENECOMPUTADOR  \\\n",
       "0            Estrato 4                 Si                   Si   \n",
       "1            Estrato 3                 Si                   No   \n",
       "2            Estrato 2                 Si                   No   \n",
       "3            Estrato 2                 Si                   Si   \n",
       "4            Estrato 6                 Si                   Si   \n",
       "\n",
       "  FAMI_TIENECONSOLAVIDEOJUEGOS     FAMI_NUMLIBROS FAMI_SITUACIONECONOMICA  \\\n",
       "0                           No      0 A 10 LIBROS                   Mejor   \n",
       "1                           No     11 A 25 LIBROS                   Mejor   \n",
       "2                           Si      0 A 10 LIBROS                   Igual   \n",
       "3                           No      0 A 10 LIBROS                   Igual   \n",
       "4                           Si  MÁS DE 100 LIBROS                   Igual   \n",
       "\n",
       "  ESTU_DEDICACIONLECTURADIARIA ESTU_DEDICACIONINTERNET COLE_NATURALEZA  \\\n",
       "0            Entre 1 y 2 horas       Entre 1 y 3 horas         OFICIAL   \n",
       "1   No leo por entretenimiento       Entre 1 y 3 horas         OFICIAL   \n",
       "2   No leo por entretenimiento      30 minutos o menos         OFICIAL   \n",
       "3   No leo por entretenimiento          Más de 3 horas         OFICIAL   \n",
       "4            Entre 1 y 2 horas       Entre 1 y 3 horas      NO OFICIAL   \n",
       "\n",
       "       COLE_CARACTER COLE_AREA_UBICACION  PUNT_GLOBAL  \n",
       "0  TÉCNICO/ACADÉMICO              URBANO          235  \n",
       "1  TÉCNICO/ACADÉMICO              URBANO          217  \n",
       "2  TÉCNICO/ACADÉMICO              URBANO          246  \n",
       "3  TÉCNICO/ACADÉMICO              URBANO          255  \n",
       "4          ACADÉMICO              URBANO          280  "
      ]
     },
     "execution_count": 9,
     "metadata": {},
     "output_type": "execute_result"
    }
   ],
   "source": [
    "saber_t.head()"
   ]
  },
  {
   "cell_type": "markdown",
   "metadata": {},
   "source": [
    "- Con la nueva base, se evalúan los faltantes de nuevo, ya que varias columnas fueron removidas. Se encuentra que 10 de las 15 columnas presentan faltantes, y que el total de faltantes llega al 2.36% del total de datos de la base."
   ]
  },
  {
   "cell_type": "code",
   "execution_count": 10,
   "metadata": {},
   "outputs": [
    {
     "name": "stdout",
     "output_type": "stream",
     "text": [
      "Archivo base a trabajar  : 10 columnas con NA's equivalente al 62.50% del total de columnas. El total de faltantes es: 410,199 es decir, el 2.36% del total de datos\n"
     ]
    }
   ],
   "source": [
    "info_faltantes(saber_t, \"base a trabajar\")"
   ]
  },
  {
   "cell_type": "markdown",
   "metadata": {},
   "source": [
    "Se procede a eliminar los faltantes de la base, que representan menos del 3% del total de los datos a disposición."
   ]
  },
  {
   "cell_type": "code",
   "execution_count": 11,
   "metadata": {},
   "outputs": [],
   "source": [
    "def remover(base):\n",
    "    return base.dropna()\n",
    "\n",
    "saber = remover(saber_t)"
   ]
  },
  {
   "cell_type": "code",
   "execution_count": 12,
   "metadata": {},
   "outputs": [
    {
     "name": "stdout",
     "output_type": "stream",
     "text": [
      "Archivo base final : 957,658 filas y 16 columnas\n"
     ]
    }
   ],
   "source": [
    "dimension(saber,\"base final\")"
   ]
  },
  {
   "cell_type": "code",
   "execution_count": 13,
   "metadata": {},
   "outputs": [
    {
     "name": "stdout",
     "output_type": "stream",
     "text": [
      "Archivo base final  : 0 columnas con NA's equivalente al 0.00% del total de columnas. El total de faltantes es: 0 es decir, el 0.00% del total de datos\n"
     ]
    }
   ],
   "source": [
    "info_faltantes(saber, \"base final\")"
   ]
  },
  {
   "cell_type": "code",
   "execution_count": 14,
   "metadata": {},
   "outputs": [
    {
     "data": {
      "text/html": [
       "<div>\n",
       "<style scoped>\n",
       "    .dataframe tbody tr th:only-of-type {\n",
       "        vertical-align: middle;\n",
       "    }\n",
       "\n",
       "    .dataframe tbody tr th {\n",
       "        vertical-align: top;\n",
       "    }\n",
       "\n",
       "    .dataframe thead th {\n",
       "        text-align: right;\n",
       "    }\n",
       "</style>\n",
       "<table border=\"1\" class=\"dataframe\">\n",
       "  <thead>\n",
       "    <tr style=\"text-align: right;\">\n",
       "      <th></th>\n",
       "      <th>ESTU_FECHANACIMIENTO</th>\n",
       "      <th>PERIODO</th>\n",
       "      <th>ESTU_CONSECUTIVO</th>\n",
       "      <th>ESTU_DEPTO_RESIDE</th>\n",
       "      <th>FAMI_ESTRATOVIVIENDA</th>\n",
       "      <th>FAMI_TIENEINTERNET</th>\n",
       "      <th>FAMI_TIENECOMPUTADOR</th>\n",
       "      <th>FAMI_TIENECONSOLAVIDEOJUEGOS</th>\n",
       "      <th>FAMI_NUMLIBROS</th>\n",
       "      <th>FAMI_SITUACIONECONOMICA</th>\n",
       "      <th>ESTU_DEDICACIONLECTURADIARIA</th>\n",
       "      <th>ESTU_DEDICACIONINTERNET</th>\n",
       "      <th>COLE_NATURALEZA</th>\n",
       "      <th>COLE_CARACTER</th>\n",
       "      <th>COLE_AREA_UBICACION</th>\n",
       "      <th>PUNT_GLOBAL</th>\n",
       "    </tr>\n",
       "  </thead>\n",
       "  <tbody>\n",
       "    <tr>\n",
       "      <th>0</th>\n",
       "      <td>07/12/2000</td>\n",
       "      <td>20191</td>\n",
       "      <td>SB11201910008548</td>\n",
       "      <td>VALLE</td>\n",
       "      <td>Estrato 4</td>\n",
       "      <td>Si</td>\n",
       "      <td>Si</td>\n",
       "      <td>No</td>\n",
       "      <td>0 A 10 LIBROS</td>\n",
       "      <td>Mejor</td>\n",
       "      <td>Entre 1 y 2 horas</td>\n",
       "      <td>Entre 1 y 3 horas</td>\n",
       "      <td>OFICIAL</td>\n",
       "      <td>TÉCNICO/ACADÉMICO</td>\n",
       "      <td>URBANO</td>\n",
       "      <td>235</td>\n",
       "    </tr>\n",
       "    <tr>\n",
       "      <th>1</th>\n",
       "      <td>23/03/1998</td>\n",
       "      <td>20191</td>\n",
       "      <td>SB11201910004475</td>\n",
       "      <td>VALLE</td>\n",
       "      <td>Estrato 3</td>\n",
       "      <td>Si</td>\n",
       "      <td>No</td>\n",
       "      <td>No</td>\n",
       "      <td>11 A 25 LIBROS</td>\n",
       "      <td>Mejor</td>\n",
       "      <td>No leo por entretenimiento</td>\n",
       "      <td>Entre 1 y 3 horas</td>\n",
       "      <td>OFICIAL</td>\n",
       "      <td>TÉCNICO/ACADÉMICO</td>\n",
       "      <td>URBANO</td>\n",
       "      <td>217</td>\n",
       "    </tr>\n",
       "    <tr>\n",
       "      <th>2</th>\n",
       "      <td>22/03/2001</td>\n",
       "      <td>20191</td>\n",
       "      <td>SB11201910011427</td>\n",
       "      <td>VALLE</td>\n",
       "      <td>Estrato 2</td>\n",
       "      <td>Si</td>\n",
       "      <td>No</td>\n",
       "      <td>Si</td>\n",
       "      <td>0 A 10 LIBROS</td>\n",
       "      <td>Igual</td>\n",
       "      <td>No leo por entretenimiento</td>\n",
       "      <td>30 minutos o menos</td>\n",
       "      <td>OFICIAL</td>\n",
       "      <td>TÉCNICO/ACADÉMICO</td>\n",
       "      <td>URBANO</td>\n",
       "      <td>246</td>\n",
       "    </tr>\n",
       "    <tr>\n",
       "      <th>3</th>\n",
       "      <td>16/06/1994</td>\n",
       "      <td>20191</td>\n",
       "      <td>SB11201910041975</td>\n",
       "      <td>VALLE</td>\n",
       "      <td>Estrato 2</td>\n",
       "      <td>Si</td>\n",
       "      <td>Si</td>\n",
       "      <td>No</td>\n",
       "      <td>0 A 10 LIBROS</td>\n",
       "      <td>Igual</td>\n",
       "      <td>No leo por entretenimiento</td>\n",
       "      <td>Más de 3 horas</td>\n",
       "      <td>OFICIAL</td>\n",
       "      <td>TÉCNICO/ACADÉMICO</td>\n",
       "      <td>URBANO</td>\n",
       "      <td>255</td>\n",
       "    </tr>\n",
       "    <tr>\n",
       "      <th>4</th>\n",
       "      <td>21/09/2000</td>\n",
       "      <td>20191</td>\n",
       "      <td>SB11201910014490</td>\n",
       "      <td>BOGOTA</td>\n",
       "      <td>Estrato 6</td>\n",
       "      <td>Si</td>\n",
       "      <td>Si</td>\n",
       "      <td>Si</td>\n",
       "      <td>MÁS DE 100 LIBROS</td>\n",
       "      <td>Igual</td>\n",
       "      <td>Entre 1 y 2 horas</td>\n",
       "      <td>Entre 1 y 3 horas</td>\n",
       "      <td>NO OFICIAL</td>\n",
       "      <td>ACADÉMICO</td>\n",
       "      <td>URBANO</td>\n",
       "      <td>280</td>\n",
       "    </tr>\n",
       "  </tbody>\n",
       "</table>\n",
       "</div>"
      ],
      "text/plain": [
       "  ESTU_FECHANACIMIENTO  PERIODO  ESTU_CONSECUTIVO ESTU_DEPTO_RESIDE  \\\n",
       "0           07/12/2000    20191  SB11201910008548             VALLE   \n",
       "1           23/03/1998    20191  SB11201910004475             VALLE   \n",
       "2           22/03/2001    20191  SB11201910011427             VALLE   \n",
       "3           16/06/1994    20191  SB11201910041975             VALLE   \n",
       "4           21/09/2000    20191  SB11201910014490            BOGOTA   \n",
       "\n",
       "  FAMI_ESTRATOVIVIENDA FAMI_TIENEINTERNET FAMI_TIENECOMPUTADOR  \\\n",
       "0            Estrato 4                 Si                   Si   \n",
       "1            Estrato 3                 Si                   No   \n",
       "2            Estrato 2                 Si                   No   \n",
       "3            Estrato 2                 Si                   Si   \n",
       "4            Estrato 6                 Si                   Si   \n",
       "\n",
       "  FAMI_TIENECONSOLAVIDEOJUEGOS     FAMI_NUMLIBROS FAMI_SITUACIONECONOMICA  \\\n",
       "0                           No      0 A 10 LIBROS                   Mejor   \n",
       "1                           No     11 A 25 LIBROS                   Mejor   \n",
       "2                           Si      0 A 10 LIBROS                   Igual   \n",
       "3                           No      0 A 10 LIBROS                   Igual   \n",
       "4                           Si  MÁS DE 100 LIBROS                   Igual   \n",
       "\n",
       "  ESTU_DEDICACIONLECTURADIARIA ESTU_DEDICACIONINTERNET COLE_NATURALEZA  \\\n",
       "0            Entre 1 y 2 horas       Entre 1 y 3 horas         OFICIAL   \n",
       "1   No leo por entretenimiento       Entre 1 y 3 horas         OFICIAL   \n",
       "2   No leo por entretenimiento      30 minutos o menos         OFICIAL   \n",
       "3   No leo por entretenimiento          Más de 3 horas         OFICIAL   \n",
       "4            Entre 1 y 2 horas       Entre 1 y 3 horas      NO OFICIAL   \n",
       "\n",
       "       COLE_CARACTER COLE_AREA_UBICACION  PUNT_GLOBAL  \n",
       "0  TÉCNICO/ACADÉMICO              URBANO          235  \n",
       "1  TÉCNICO/ACADÉMICO              URBANO          217  \n",
       "2  TÉCNICO/ACADÉMICO              URBANO          246  \n",
       "3  TÉCNICO/ACADÉMICO              URBANO          255  \n",
       "4          ACADÉMICO              URBANO          280  "
      ]
     },
     "execution_count": 14,
     "metadata": {},
     "output_type": "execute_result"
    }
   ],
   "source": [
    "saber.head()"
   ]
  },
  {
   "cell_type": "markdown",
   "metadata": {},
   "source": [
    "#### f. Transformación de columnas y demás información\n",
    "\n",
    "Con el fin de faciliar en adelante la redacción del código, se procede a renombrar las columnas, crear una nueva columna llamada Edad, convertir valores a minúsculas, quitar tildes, entre otros."
   ]
  },
  {
   "cell_type": "markdown",
   "metadata": {},
   "source": [
    "- renombrar columnas:"
   ]
  },
  {
   "cell_type": "code",
   "execution_count": 15,
   "metadata": {},
   "outputs": [],
   "source": [
    "saber = saber.rename(columns = {\"ESTU_FECHANACIMIENTO\": \"Nacimiento\", \"PERIODO\": \"Periodo\", \"ESTU_CONSECUTIVO\":\"Id\",\n",
    "                                \"ESTU_DEPTO_RESIDE\": \"Departamento\",\"FAMI_ESTRATOVIVIENDA\":\"Estrato\", \n",
    "                                \"FAMI_TIENEINTERNET\":\"Internet\",\"FAMI_TIENECOMPUTADOR\":\"Computador\",\n",
    "                                \"FAMI_TIENECONSOLAVIDEOJUEGOS\":\"Videojuegos\", \"FAMI_NUMLIBROS\":\"Libros\", \n",
    "                                \"FAMI_SITUACIONECONOMICA\":\"Economia\",\"ESTU_DEDICACIONLECTURADIARIA\":\"DLectura\",\n",
    "                                \"ESTU_DEDICACIONINTERNET\":\"DInternet\", \"COLE_NATURALEZA\":\"Tipo\",\n",
    "                                \"COLE_CARACTER\":\"Enfasis\", \"COLE_AREA_UBICACION\":\"Ubicacion\", \"PUNT_GLOBAL\":\"Puntaje\"})"
   ]
  },
  {
   "cell_type": "code",
   "execution_count": 16,
   "metadata": {},
   "outputs": [],
   "source": [
    "saber = saber.set_index(\"Id\")"
   ]
  },
  {
   "cell_type": "markdown",
   "metadata": {},
   "source": [
    "* Incluir una columna que sea Edad, según la fecha de nacimiento y el día actual:"
   ]
  },
  {
   "cell_type": "code",
   "execution_count": 17,
   "metadata": {},
   "outputs": [],
   "source": [
    "saber[\"Nacimiento\"] = pd.to_datetime(saber[\"Nacimiento\"], errors = 'coerce')"
   ]
  },
  {
   "cell_type": "code",
   "execution_count": 18,
   "metadata": {},
   "outputs": [
    {
     "name": "stderr",
     "output_type": "stream",
     "text": [
      "/Users/anamariaaramendiz/opt/anaconda3/lib/python3.7/site-packages/ipykernel_launcher.py:1: FutureWarning: The pandas.datetime class is deprecated and will be removed from pandas in a future version. Import from datetime module instead.\n",
      "  \"\"\"Entry point for launching an IPython kernel.\n"
     ]
    }
   ],
   "source": [
    "saber[\"Edad\"] = saber[\"Nacimiento\"].apply(lambda x : (pd.datetime.now().year - x.year))\n",
    "saber = saber.drop(\"Nacimiento\", 1)"
   ]
  },
  {
   "cell_type": "markdown",
   "metadata": {},
   "source": [
    "   - Como algunos datos pueden ser 0, se procede a verificar:"
   ]
  },
  {
   "cell_type": "code",
   "execution_count": 19,
   "metadata": {
    "scrolled": true
   },
   "outputs": [
    {
     "name": "stdout",
     "output_type": "stream",
     "text": [
      "Archivo base final  : 1 columnas con NA's equivalente al 6.67% del total de columnas. El total de faltantes es: 3,221 es decir, el 0.02% del total de datos\n"
     ]
    }
   ],
   "source": [
    "info_faltantes(saber, \"base final\")"
   ]
  },
  {
   "cell_type": "markdown",
   "metadata": {},
   "source": [
    "   - Se depura nuevamente la base, con esos 0.02% de registros en Nan"
   ]
  },
  {
   "cell_type": "code",
   "execution_count": 20,
   "metadata": {},
   "outputs": [],
   "source": [
    "def remover(base):\n",
    "    return base.dropna()\n",
    "\n",
    "saber = remover(saber)"
   ]
  },
  {
   "cell_type": "code",
   "execution_count": 21,
   "metadata": {},
   "outputs": [
    {
     "name": "stdout",
     "output_type": "stream",
     "text": [
      "Archivo base final : 954,437 filas y 15 columnas\n"
     ]
    }
   ],
   "source": [
    "dimension(saber,\"base final\")"
   ]
  },
  {
   "cell_type": "markdown",
   "metadata": {},
   "source": [
    "- Como hay datos que son outliers, procedentes de la fecha de registro de nacimiento, que pudo ser un error en la base de datos, se verifica con estadísticos:"
   ]
  },
  {
   "cell_type": "code",
   "execution_count": 22,
   "metadata": {},
   "outputs": [
    {
     "name": "stdout",
     "output_type": "stream",
     "text": [
      "Media: 19.30  Mediana: 19.00  Máx.: 121.00  Mín.: 1.00 \n"
     ]
    }
   ],
   "source": [
    "def estadisticos(columna):\n",
    "    media = np.mean(saber[columna])\n",
    "    mediana = np.median(saber[columna])\n",
    "    maximo = max(saber[columna])\n",
    "    minimo = min(saber[columna])\n",
    "    return print(\"Media: {:,.2f} \".format(media),\"Mediana: {:,.2f} \".format(mediana),\"Máx.: {:,.2f} \".format(maximo),\n",
    "                \"Mín.: {:,.2f} \".format(minimo))\n",
    "\n",
    "estadisticos(\"Edad\")"
   ]
  },
  {
   "cell_type": "markdown",
   "metadata": {},
   "source": [
    "   - Teniendo en cuenta que el valor máximo de edad es 121, y el mínimo es 1, se procede a revisar los cuantiles, dejando un rango de edad de 15 a 42 años, los que no pertenezcan a ese rango, serán imputados con la media."
   ]
  },
  {
   "cell_type": "code",
   "execution_count": 23,
   "metadata": {},
   "outputs": [
    {
     "data": {
      "text/plain": [
       "0.0009    15.0\n",
       "0.9950    42.0\n",
       "Name: Edad, dtype: float64"
      ]
     },
     "execution_count": 23,
     "metadata": {},
     "output_type": "execute_result"
    }
   ],
   "source": [
    "saber.Edad.dropna().quantile([0.0009, 0.995])"
   ]
  },
  {
   "cell_type": "markdown",
   "metadata": {},
   "source": [
    "- Imputación con la media para la columna edad:"
   ]
  },
  {
   "cell_type": "code",
   "execution_count": 24,
   "metadata": {},
   "outputs": [],
   "source": [
    "saber[\"Edad\"] = saber[\"Edad\"].astype(\"int\")"
   ]
  },
  {
   "cell_type": "code",
   "execution_count": 25,
   "metadata": {},
   "outputs": [],
   "source": [
    "# Rango de 0 a 14 años\n",
    "saber[\"Edad\"] = saber[\"Edad\"].mask(saber[\"Edad\"].between(0, 14))\n",
    "saber[\"Edad\"] = saber[\"Edad\"].fillna(np.mean(saber[\"Edad\"]))\n",
    "# Rango de +42 años\n",
    "saber[\"Edad\"] = saber[\"Edad\"].mask(saber[\"Edad\"].between(43, 121))\n",
    "saber[\"Edad\"] = saber[\"Edad\"].fillna(np.mean(saber[\"Edad\"]))\n",
    "saber[\"Edad\"] = saber[\"Edad\"].astype(\"int\")"
   ]
  },
  {
   "cell_type": "markdown",
   "metadata": {},
   "source": [
    "- Convertir los datos a minúsculas:"
   ]
  },
  {
   "cell_type": "code",
   "execution_count": 26,
   "metadata": {},
   "outputs": [],
   "source": [
    "saber = saber.applymap(lambda s:s.lower() if type(s) == str else s)"
   ]
  },
  {
   "cell_type": "markdown",
   "metadata": {},
   "source": [
    "- Quitarle a los datos de la columna Estrato, la configuración ej. \"estrato 4\", para dejarla en valor numérico ej. \"4\"; como hay faltantes, se imputan estos con el promedio de estrato (2):"
   ]
  },
  {
   "cell_type": "code",
   "execution_count": 27,
   "metadata": {},
   "outputs": [],
   "source": [
    "saber[\"Estrato\"] = saber.Estrato.str.extract('(\\d+)')\n",
    "saber[\"Estrato\"] = saber[\"Estrato\"].dropna().astype(\"int\")"
   ]
  },
  {
   "cell_type": "code",
   "execution_count": 28,
   "metadata": {},
   "outputs": [
    {
     "name": "stdout",
     "output_type": "stream",
     "text": [
      "Media: 2.12  Mediana: nan  Máx.: 6.00  Mín.: 1.00 \n"
     ]
    }
   ],
   "source": [
    "estadisticos(\"Estrato\")"
   ]
  },
  {
   "cell_type": "code",
   "execution_count": 29,
   "metadata": {},
   "outputs": [],
   "source": [
    "saber[\"Estrato\"] = saber[\"Estrato\"].fillna(2)"
   ]
  },
  {
   "cell_type": "markdown",
   "metadata": {},
   "source": [
    "- Quitar tildes de todos los registros de departamento:"
   ]
  },
  {
   "cell_type": "code",
   "execution_count": 30,
   "metadata": {},
   "outputs": [],
   "source": [
    "saber[\"Departamento\"] = saber[\"Departamento\"].str.normalize('NFKD')\\\n",
    "       .str.encode('ascii', errors='ignore')\\\n",
    "       .str.decode('utf-8')"
   ]
  },
  {
   "cell_type": "markdown",
   "metadata": {},
   "source": [
    "#### g. Conversión a variables dummies\n",
    "\n",
    "Para poder aplicar los modelos y correlación entre variables, se genera una nueva base de datos con variables dummy, según las categorías de cada columna."
   ]
  },
  {
   "cell_type": "code",
   "execution_count": 31,
   "metadata": {},
   "outputs": [],
   "source": [
    "columnas_transform = [\"Periodo\",\"Departamento\", \"Internet\", \"Computador\", \"Videojuegos\", \"Libros\", \"Economia\", \"DLectura\", \"DInternet\", \"Tipo\", \"Enfasis\",\n",
    "                     \"Ubicacion\"]\n",
    "\n",
    "def transforma_dummy(listado,base):\n",
    "    saber_modif = pd.DataFrame()\n",
    "    for i in listado:\n",
    "        saber_modif[i] = base[i].astype('category')\n",
    "        saber_modif[i] = saber_modif[i].cat.codes\n",
    "    \n",
    "    return saber_modif\n"
   ]
  },
  {
   "cell_type": "code",
   "execution_count": 32,
   "metadata": {},
   "outputs": [],
   "source": [
    "saber_d = transforma_dummy(columnas_transform,saber)"
   ]
  },
  {
   "cell_type": "code",
   "execution_count": 33,
   "metadata": {},
   "outputs": [],
   "source": [
    "column_add = [\"Estrato\", \"Puntaje\", \"Edad\"]\n",
    "\n",
    "def add_columns(listado, base_nueva, base_anterior):\n",
    "    for i in listado:\n",
    "        base_nueva[i] = base_anterior[i] \n",
    "    return base_nueva"
   ]
  },
  {
   "cell_type": "code",
   "execution_count": 34,
   "metadata": {},
   "outputs": [
    {
     "data": {
      "text/html": [
       "<div>\n",
       "<style scoped>\n",
       "    .dataframe tbody tr th:only-of-type {\n",
       "        vertical-align: middle;\n",
       "    }\n",
       "\n",
       "    .dataframe tbody tr th {\n",
       "        vertical-align: top;\n",
       "    }\n",
       "\n",
       "    .dataframe thead th {\n",
       "        text-align: right;\n",
       "    }\n",
       "</style>\n",
       "<table border=\"1\" class=\"dataframe\">\n",
       "  <thead>\n",
       "    <tr style=\"text-align: right;\">\n",
       "      <th></th>\n",
       "      <th>Periodo</th>\n",
       "      <th>Departamento</th>\n",
       "      <th>Internet</th>\n",
       "      <th>Computador</th>\n",
       "      <th>Videojuegos</th>\n",
       "      <th>Libros</th>\n",
       "      <th>Economia</th>\n",
       "      <th>DLectura</th>\n",
       "      <th>DInternet</th>\n",
       "      <th>Tipo</th>\n",
       "      <th>Enfasis</th>\n",
       "      <th>Ubicacion</th>\n",
       "      <th>Estrato</th>\n",
       "      <th>Puntaje</th>\n",
       "      <th>Edad</th>\n",
       "    </tr>\n",
       "  </thead>\n",
       "  <tbody>\n",
       "    <tr>\n",
       "      <th>SB11201910008548</th>\n",
       "      <td>0</td>\n",
       "      <td>31</td>\n",
       "      <td>1</td>\n",
       "      <td>1</td>\n",
       "      <td>0</td>\n",
       "      <td>0</td>\n",
       "      <td>1</td>\n",
       "      <td>1</td>\n",
       "      <td>1</td>\n",
       "      <td>1</td>\n",
       "      <td>3</td>\n",
       "      <td>1</td>\n",
       "      <td>4.0</td>\n",
       "      <td>235</td>\n",
       "      <td>21</td>\n",
       "    </tr>\n",
       "    <tr>\n",
       "      <th>SB11201910004475</th>\n",
       "      <td>0</td>\n",
       "      <td>31</td>\n",
       "      <td>1</td>\n",
       "      <td>0</td>\n",
       "      <td>0</td>\n",
       "      <td>1</td>\n",
       "      <td>1</td>\n",
       "      <td>4</td>\n",
       "      <td>1</td>\n",
       "      <td>1</td>\n",
       "      <td>3</td>\n",
       "      <td>1</td>\n",
       "      <td>3.0</td>\n",
       "      <td>217</td>\n",
       "      <td>23</td>\n",
       "    </tr>\n",
       "    <tr>\n",
       "      <th>SB11201910011427</th>\n",
       "      <td>0</td>\n",
       "      <td>31</td>\n",
       "      <td>1</td>\n",
       "      <td>0</td>\n",
       "      <td>1</td>\n",
       "      <td>0</td>\n",
       "      <td>0</td>\n",
       "      <td>4</td>\n",
       "      <td>0</td>\n",
       "      <td>1</td>\n",
       "      <td>3</td>\n",
       "      <td>1</td>\n",
       "      <td>2.0</td>\n",
       "      <td>246</td>\n",
       "      <td>20</td>\n",
       "    </tr>\n",
       "    <tr>\n",
       "      <th>SB11201910041975</th>\n",
       "      <td>0</td>\n",
       "      <td>31</td>\n",
       "      <td>1</td>\n",
       "      <td>1</td>\n",
       "      <td>0</td>\n",
       "      <td>0</td>\n",
       "      <td>0</td>\n",
       "      <td>4</td>\n",
       "      <td>3</td>\n",
       "      <td>1</td>\n",
       "      <td>3</td>\n",
       "      <td>1</td>\n",
       "      <td>2.0</td>\n",
       "      <td>255</td>\n",
       "      <td>27</td>\n",
       "    </tr>\n",
       "    <tr>\n",
       "      <th>SB11201910014490</th>\n",
       "      <td>0</td>\n",
       "      <td>4</td>\n",
       "      <td>1</td>\n",
       "      <td>1</td>\n",
       "      <td>1</td>\n",
       "      <td>3</td>\n",
       "      <td>0</td>\n",
       "      <td>1</td>\n",
       "      <td>1</td>\n",
       "      <td>0</td>\n",
       "      <td>0</td>\n",
       "      <td>1</td>\n",
       "      <td>6.0</td>\n",
       "      <td>280</td>\n",
       "      <td>21</td>\n",
       "    </tr>\n",
       "    <tr>\n",
       "      <th>...</th>\n",
       "      <td>...</td>\n",
       "      <td>...</td>\n",
       "      <td>...</td>\n",
       "      <td>...</td>\n",
       "      <td>...</td>\n",
       "      <td>...</td>\n",
       "      <td>...</td>\n",
       "      <td>...</td>\n",
       "      <td>...</td>\n",
       "      <td>...</td>\n",
       "      <td>...</td>\n",
       "      <td>...</td>\n",
       "      <td>...</td>\n",
       "      <td>...</td>\n",
       "      <td>...</td>\n",
       "    </tr>\n",
       "    <tr>\n",
       "      <th>SB11202040573583</th>\n",
       "      <td>3</td>\n",
       "      <td>14</td>\n",
       "      <td>1</td>\n",
       "      <td>1</td>\n",
       "      <td>0</td>\n",
       "      <td>0</td>\n",
       "      <td>0</td>\n",
       "      <td>4</td>\n",
       "      <td>2</td>\n",
       "      <td>1</td>\n",
       "      <td>3</td>\n",
       "      <td>1</td>\n",
       "      <td>2.0</td>\n",
       "      <td>269</td>\n",
       "      <td>19</td>\n",
       "    </tr>\n",
       "    <tr>\n",
       "      <th>SB11202040573626</th>\n",
       "      <td>3</td>\n",
       "      <td>9</td>\n",
       "      <td>1</td>\n",
       "      <td>1</td>\n",
       "      <td>0</td>\n",
       "      <td>0</td>\n",
       "      <td>0</td>\n",
       "      <td>4</td>\n",
       "      <td>3</td>\n",
       "      <td>1</td>\n",
       "      <td>0</td>\n",
       "      <td>1</td>\n",
       "      <td>2.0</td>\n",
       "      <td>262</td>\n",
       "      <td>19</td>\n",
       "    </tr>\n",
       "    <tr>\n",
       "      <th>SB11202040573636</th>\n",
       "      <td>3</td>\n",
       "      <td>9</td>\n",
       "      <td>0</td>\n",
       "      <td>0</td>\n",
       "      <td>0</td>\n",
       "      <td>0</td>\n",
       "      <td>0</td>\n",
       "      <td>4</td>\n",
       "      <td>4</td>\n",
       "      <td>1</td>\n",
       "      <td>0</td>\n",
       "      <td>1</td>\n",
       "      <td>1.0</td>\n",
       "      <td>198</td>\n",
       "      <td>20</td>\n",
       "    </tr>\n",
       "    <tr>\n",
       "      <th>SB11202040573651</th>\n",
       "      <td>3</td>\n",
       "      <td>9</td>\n",
       "      <td>0</td>\n",
       "      <td>0</td>\n",
       "      <td>1</td>\n",
       "      <td>0</td>\n",
       "      <td>2</td>\n",
       "      <td>0</td>\n",
       "      <td>0</td>\n",
       "      <td>1</td>\n",
       "      <td>0</td>\n",
       "      <td>1</td>\n",
       "      <td>1.0</td>\n",
       "      <td>164</td>\n",
       "      <td>19</td>\n",
       "    </tr>\n",
       "    <tr>\n",
       "      <th>SB11202040573664</th>\n",
       "      <td>3</td>\n",
       "      <td>9</td>\n",
       "      <td>1</td>\n",
       "      <td>0</td>\n",
       "      <td>0</td>\n",
       "      <td>0</td>\n",
       "      <td>0</td>\n",
       "      <td>0</td>\n",
       "      <td>1</td>\n",
       "      <td>1</td>\n",
       "      <td>0</td>\n",
       "      <td>1</td>\n",
       "      <td>1.0</td>\n",
       "      <td>250</td>\n",
       "      <td>27</td>\n",
       "    </tr>\n",
       "  </tbody>\n",
       "</table>\n",
       "<p>954437 rows × 15 columns</p>\n",
       "</div>"
      ],
      "text/plain": [
       "                  Periodo  Departamento  Internet  Computador  Videojuegos  \\\n",
       "SB11201910008548        0            31         1           1            0   \n",
       "SB11201910004475        0            31         1           0            0   \n",
       "SB11201910011427        0            31         1           0            1   \n",
       "SB11201910041975        0            31         1           1            0   \n",
       "SB11201910014490        0             4         1           1            1   \n",
       "...                   ...           ...       ...         ...          ...   \n",
       "SB11202040573583        3            14         1           1            0   \n",
       "SB11202040573626        3             9         1           1            0   \n",
       "SB11202040573636        3             9         0           0            0   \n",
       "SB11202040573651        3             9         0           0            1   \n",
       "SB11202040573664        3             9         1           0            0   \n",
       "\n",
       "                  Libros  Economia  DLectura  DInternet  Tipo  Enfasis  \\\n",
       "SB11201910008548       0         1         1          1     1        3   \n",
       "SB11201910004475       1         1         4          1     1        3   \n",
       "SB11201910011427       0         0         4          0     1        3   \n",
       "SB11201910041975       0         0         4          3     1        3   \n",
       "SB11201910014490       3         0         1          1     0        0   \n",
       "...                  ...       ...       ...        ...   ...      ...   \n",
       "SB11202040573583       0         0         4          2     1        3   \n",
       "SB11202040573626       0         0         4          3     1        0   \n",
       "SB11202040573636       0         0         4          4     1        0   \n",
       "SB11202040573651       0         2         0          0     1        0   \n",
       "SB11202040573664       0         0         0          1     1        0   \n",
       "\n",
       "                  Ubicacion  Estrato  Puntaje  Edad  \n",
       "SB11201910008548          1      4.0      235    21  \n",
       "SB11201910004475          1      3.0      217    23  \n",
       "SB11201910011427          1      2.0      246    20  \n",
       "SB11201910041975          1      2.0      255    27  \n",
       "SB11201910014490          1      6.0      280    21  \n",
       "...                     ...      ...      ...   ...  \n",
       "SB11202040573583          1      2.0      269    19  \n",
       "SB11202040573626          1      2.0      262    19  \n",
       "SB11202040573636          1      1.0      198    20  \n",
       "SB11202040573651          1      1.0      164    19  \n",
       "SB11202040573664          1      1.0      250    27  \n",
       "\n",
       "[954437 rows x 15 columns]"
      ]
     },
     "execution_count": 34,
     "metadata": {},
     "output_type": "execute_result"
    }
   ],
   "source": [
    "saber_d = add_columns(column_add,saber_d,saber)\n",
    "saber_d"
   ]
  },
  {
   "cell_type": "code",
   "execution_count": 35,
   "metadata": {},
   "outputs": [
    {
     "name": "stdout",
     "output_type": "stream",
     "text": [
      "Archivo base final : 954,437 filas y 15 columnas\n"
     ]
    }
   ],
   "source": [
    "dimension(saber_d,\"base final\")"
   ]
  },
  {
   "cell_type": "code",
   "execution_count": 36,
   "metadata": {},
   "outputs": [
    {
     "data": {
      "text/plain": [
       "Periodo         int64\n",
       "Departamento    int64\n",
       "Internet        int64\n",
       "Computador      int64\n",
       "Videojuegos     int64\n",
       "Libros          int64\n",
       "Economia        int64\n",
       "DLectura        int64\n",
       "DInternet       int64\n",
       "Tipo            int64\n",
       "Enfasis         int64\n",
       "Ubicacion       int64\n",
       "Estrato         int64\n",
       "Puntaje         int64\n",
       "Edad            int64\n",
       "dtype: object"
      ]
     },
     "execution_count": 36,
     "metadata": {},
     "output_type": "execute_result"
    }
   ],
   "source": [
    "saber_d = saber_d.astype(int)\n",
    "saber_d.dtypes"
   ]
  },
  {
   "cell_type": "markdown",
   "metadata": {},
   "source": [
    "### Generalidades\n",
    "\n",
    "Se trabajará con una base de datos que contiene 16 columnas, 1 de las cuales se asignó al índice, dejando 15 disponibles para el análisis, con un total de 954.437 registros.\n",
    "\n",
    "Se verificaron los duplicados a partir de la columna \"Id\", encontrando 0 registros, por lo que no se tiene en cuenta el código."
   ]
  },
  {
   "cell_type": "code",
   "execution_count": 37,
   "metadata": {},
   "outputs": [
    {
     "name": "stdout",
     "output_type": "stream",
     "text": [
      "Archivo base final : 954,437 filas y 15 columnas\n"
     ]
    }
   ],
   "source": [
    "dimension(saber,\"base final\")"
   ]
  },
  {
   "cell_type": "code",
   "execution_count": 38,
   "metadata": {},
   "outputs": [
    {
     "data": {
      "text/html": [
       "<div>\n",
       "<style scoped>\n",
       "    .dataframe tbody tr th:only-of-type {\n",
       "        vertical-align: middle;\n",
       "    }\n",
       "\n",
       "    .dataframe tbody tr th {\n",
       "        vertical-align: top;\n",
       "    }\n",
       "\n",
       "    .dataframe thead th {\n",
       "        text-align: right;\n",
       "    }\n",
       "</style>\n",
       "<table border=\"1\" class=\"dataframe\">\n",
       "  <thead>\n",
       "    <tr style=\"text-align: right;\">\n",
       "      <th></th>\n",
       "      <th>Periodo</th>\n",
       "      <th>Departamento</th>\n",
       "      <th>Estrato</th>\n",
       "      <th>Internet</th>\n",
       "      <th>Computador</th>\n",
       "      <th>Videojuegos</th>\n",
       "      <th>Libros</th>\n",
       "      <th>Economia</th>\n",
       "      <th>DLectura</th>\n",
       "      <th>DInternet</th>\n",
       "      <th>Tipo</th>\n",
       "      <th>Enfasis</th>\n",
       "      <th>Ubicacion</th>\n",
       "      <th>Puntaje</th>\n",
       "      <th>Edad</th>\n",
       "    </tr>\n",
       "    <tr>\n",
       "      <th>Id</th>\n",
       "      <th></th>\n",
       "      <th></th>\n",
       "      <th></th>\n",
       "      <th></th>\n",
       "      <th></th>\n",
       "      <th></th>\n",
       "      <th></th>\n",
       "      <th></th>\n",
       "      <th></th>\n",
       "      <th></th>\n",
       "      <th></th>\n",
       "      <th></th>\n",
       "      <th></th>\n",
       "      <th></th>\n",
       "      <th></th>\n",
       "    </tr>\n",
       "  </thead>\n",
       "  <tbody>\n",
       "    <tr>\n",
       "      <th>SB11201910008548</th>\n",
       "      <td>20191</td>\n",
       "      <td>valle</td>\n",
       "      <td>4.0</td>\n",
       "      <td>si</td>\n",
       "      <td>si</td>\n",
       "      <td>no</td>\n",
       "      <td>0 a 10 libros</td>\n",
       "      <td>mejor</td>\n",
       "      <td>entre 1 y 2 horas</td>\n",
       "      <td>entre 1 y 3 horas</td>\n",
       "      <td>oficial</td>\n",
       "      <td>técnico/académico</td>\n",
       "      <td>urbano</td>\n",
       "      <td>235</td>\n",
       "      <td>21</td>\n",
       "    </tr>\n",
       "    <tr>\n",
       "      <th>SB11201910004475</th>\n",
       "      <td>20191</td>\n",
       "      <td>valle</td>\n",
       "      <td>3.0</td>\n",
       "      <td>si</td>\n",
       "      <td>no</td>\n",
       "      <td>no</td>\n",
       "      <td>11 a 25 libros</td>\n",
       "      <td>mejor</td>\n",
       "      <td>no leo por entretenimiento</td>\n",
       "      <td>entre 1 y 3 horas</td>\n",
       "      <td>oficial</td>\n",
       "      <td>técnico/académico</td>\n",
       "      <td>urbano</td>\n",
       "      <td>217</td>\n",
       "      <td>23</td>\n",
       "    </tr>\n",
       "    <tr>\n",
       "      <th>SB11201910011427</th>\n",
       "      <td>20191</td>\n",
       "      <td>valle</td>\n",
       "      <td>2.0</td>\n",
       "      <td>si</td>\n",
       "      <td>no</td>\n",
       "      <td>si</td>\n",
       "      <td>0 a 10 libros</td>\n",
       "      <td>igual</td>\n",
       "      <td>no leo por entretenimiento</td>\n",
       "      <td>30 minutos o menos</td>\n",
       "      <td>oficial</td>\n",
       "      <td>técnico/académico</td>\n",
       "      <td>urbano</td>\n",
       "      <td>246</td>\n",
       "      <td>20</td>\n",
       "    </tr>\n",
       "    <tr>\n",
       "      <th>SB11201910041975</th>\n",
       "      <td>20191</td>\n",
       "      <td>valle</td>\n",
       "      <td>2.0</td>\n",
       "      <td>si</td>\n",
       "      <td>si</td>\n",
       "      <td>no</td>\n",
       "      <td>0 a 10 libros</td>\n",
       "      <td>igual</td>\n",
       "      <td>no leo por entretenimiento</td>\n",
       "      <td>más de 3 horas</td>\n",
       "      <td>oficial</td>\n",
       "      <td>técnico/académico</td>\n",
       "      <td>urbano</td>\n",
       "      <td>255</td>\n",
       "      <td>27</td>\n",
       "    </tr>\n",
       "    <tr>\n",
       "      <th>SB11201910014490</th>\n",
       "      <td>20191</td>\n",
       "      <td>bogota</td>\n",
       "      <td>6.0</td>\n",
       "      <td>si</td>\n",
       "      <td>si</td>\n",
       "      <td>si</td>\n",
       "      <td>más de 100 libros</td>\n",
       "      <td>igual</td>\n",
       "      <td>entre 1 y 2 horas</td>\n",
       "      <td>entre 1 y 3 horas</td>\n",
       "      <td>no oficial</td>\n",
       "      <td>académico</td>\n",
       "      <td>urbano</td>\n",
       "      <td>280</td>\n",
       "      <td>21</td>\n",
       "    </tr>\n",
       "  </tbody>\n",
       "</table>\n",
       "</div>"
      ],
      "text/plain": [
       "                  Periodo Departamento  Estrato Internet Computador  \\\n",
       "Id                                                                    \n",
       "SB11201910008548    20191        valle      4.0       si         si   \n",
       "SB11201910004475    20191        valle      3.0       si         no   \n",
       "SB11201910011427    20191        valle      2.0       si         no   \n",
       "SB11201910041975    20191        valle      2.0       si         si   \n",
       "SB11201910014490    20191       bogota      6.0       si         si   \n",
       "\n",
       "                 Videojuegos             Libros Economia  \\\n",
       "Id                                                         \n",
       "SB11201910008548          no      0 a 10 libros    mejor   \n",
       "SB11201910004475          no     11 a 25 libros    mejor   \n",
       "SB11201910011427          si      0 a 10 libros    igual   \n",
       "SB11201910041975          no      0 a 10 libros    igual   \n",
       "SB11201910014490          si  más de 100 libros    igual   \n",
       "\n",
       "                                    DLectura           DInternet        Tipo  \\\n",
       "Id                                                                             \n",
       "SB11201910008548           entre 1 y 2 horas   entre 1 y 3 horas     oficial   \n",
       "SB11201910004475  no leo por entretenimiento   entre 1 y 3 horas     oficial   \n",
       "SB11201910011427  no leo por entretenimiento  30 minutos o menos     oficial   \n",
       "SB11201910041975  no leo por entretenimiento      más de 3 horas     oficial   \n",
       "SB11201910014490           entre 1 y 2 horas   entre 1 y 3 horas  no oficial   \n",
       "\n",
       "                            Enfasis Ubicacion  Puntaje  Edad  \n",
       "Id                                                            \n",
       "SB11201910008548  técnico/académico    urbano      235    21  \n",
       "SB11201910004475  técnico/académico    urbano      217    23  \n",
       "SB11201910011427  técnico/académico    urbano      246    20  \n",
       "SB11201910041975  técnico/académico    urbano      255    27  \n",
       "SB11201910014490          académico    urbano      280    21  "
      ]
     },
     "execution_count": 38,
     "metadata": {},
     "output_type": "execute_result"
    }
   ],
   "source": [
    "saber.head()"
   ]
  },
  {
   "cell_type": "markdown",
   "metadata": {},
   "source": [
    "# 2. Identificar características y relaciones en las variables\n",
    "\n",
    "Esta misión consiste en utilizar análisis descriptivos para explorar patrones o relaciones en las variables de interés para la problemática planteada.\n",
    "\n",
    "Pautas generales:\n",
    "* Utilizar Matplotlib y/o Seaborn para inspeccionar visualmente variables de interés; los métodos `distplot`, `pairplot`, `boxplot`, o `violinplot`, entre otros, pueden ser de utilidad.\n",
    "* Utilizar el método `groupby` de Pandas, en conjunto con la visualización, para proveer evidencia sobre el impacto de variables socio-demográficas de interés sobre el desempeño de los estudiantes en la prueba.\n",
    "\n",
    "Preguntas guía:\n",
    "* ¿Hay patrones de interés en las distribuciones de las variables, o en las relaciones entre ellas?\n",
    "* ¿Existe algún impacto significativo de variables socio-demográficas en los puntajes globales o por área?\n",
    "* ¿Sobre cuáles variables vale la pena hacer un análisis más profundo?\n",
    "\n",
    "El entregable de esta misión es un reporte (p.ej., un conjunto de visualizaciones) que de cuenta de los comportamientos más interesantes que se observen en las variables de interés para el contexto propuesto. El propósito de esta exploración es generar hipótesis o preguntas que guíen análisis más profundos. En ese sentido, con base en lo aprendido en esta sección, identifique las tres preguntas analíticas que plantearía con mayor prioridad, teniendo en cuenta el contexto y los datos disponibles; estas preguntas NO se deben abordar en términos de código para el laboratorio (únicamente formularse)."
   ]
  },
  {
   "cell_type": "markdown",
   "metadata": {},
   "source": [
    "#### a. Visualización de datos por cada variable considerada"
   ]
  },
  {
   "cell_type": "markdown",
   "metadata": {},
   "source": [
    "- Datos de tipo numérico:\n",
    "    - Distribución: La edad evidentemente se centra en los 19 años. En cuanto al puntaje, parece tener una distribución normal, con una media en 250 puntos, un máximo de 500 (puntaje perfecto) a 0 (quizás inscrito sin responder). En cuanto al estrato, el más representativo es el estrato 2."
   ]
  },
  {
   "cell_type": "code",
   "execution_count": 39,
   "metadata": {},
   "outputs": [
    {
     "name": "stdout",
     "output_type": "stream",
     "text": [
      "Media: 19.02  Mediana: 19.00  Máx.: 42.00  Mín.: 15.00 \n",
      "Media: 250.85  Mediana: 247.00  Máx.: 500.00  Mín.: 0.00 \n",
      "Media: 2.11  Mediana: 2.00  Máx.: 6.00  Mín.: 1.00 \n"
     ]
    }
   ],
   "source": [
    "estadisticos(\"Edad\")\n",
    "estadisticos(\"Puntaje\")\n",
    "estadisticos(\"Estrato\")"
   ]
  },
  {
   "cell_type": "code",
   "execution_count": 40,
   "metadata": {
    "scrolled": true
   },
   "outputs": [
    {
     "data": {
      "image/png": "[encoded data removed]",
      "text/plain": [
       "<Figure size 1080x360 with 3 Axes>"
      ]
     },
     "metadata": {
      "needs_background": "light"
     },
     "output_type": "display_data"
    }
   ],
   "source": [
    "plt.figure(figsize=(15, 5))\n",
    "plt.subplot(131)\n",
    "distr1 = sns.boxplot(saber[\"Edad\"])\n",
    "plt.subplot(132)\n",
    "distr2 = sns.distplot(saber[\"Puntaje\"])\n",
    "plt.subplot(133)\n",
    "distr3 = sns.boxplot(saber[\"Estrato\"])"
   ]
  },
  {
   "cell_type": "markdown",
   "metadata": {},
   "source": [
    "- Datos de tipo categórico, relacionados con el puntaje:\n",
    "\n",
    "Internet en casa: se puede ver que del total de personas consideradas en este análisis, un 30.8% no cuenta con internet en su lugar de residencia.\n",
    "\n",
    "Computador en casa: similar que el internet, 37% de las personas analizadas, no cuentan con un computador en casa.\n",
    "\n",
    "Consola de videojuegos: la gran mayoría no cuenta con este tipo de dispositivos, por lo que puede ser un factor que no influencie el resultado de la prueba."
   ]
  },
  {
   "cell_type": "code",
   "execution_count": 41,
   "metadata": {},
   "outputs": [
    {
     "name": "stderr",
     "output_type": "stream",
     "text": [
      "/Users/anamariaaramendiz/opt/anaconda3/lib/python3.7/site-packages/ipykernel_launcher.py:5: MatplotlibDeprecationWarning: Adding an axes using the same arguments as a previous axes currently reuses the earlier instance.  In a future version, a new instance will always be created and returned.  Meanwhile, this warning can be suppressed, and the future behavior ensured, by passing a unique label to each axes instance.\n",
      "  \"\"\"\n"
     ]
    },
    {
     "data": {
      "image/png": "[encoded data removed]",
      "text/plain": [
       "<Figure size 1080x360 with 3 Axes>"
      ]
     },
     "metadata": {},
     "output_type": "display_data"
    }
   ],
   "source": [
    "plt.figure(figsize=(15, 5))\n",
    "plt.subplot(131)\n",
    "colors = [\"lightblue\",\"sandybrown\"]\n",
    "\n",
    "plt.subplot(131)\n",
    "Inter = saber.groupby(\"Internet\")[\"Puntaje\"].sum()\n",
    "distr4 = Inter.plot.pie(autopct=\"%.1f%%\", colors = colors)\n",
    "plt.title(\"Internet en casa\")\n",
    "\n",
    "plt.subplot(132)\n",
    "Compu = saber.groupby(\"Computador\")[\"Puntaje\"].sum()\n",
    "distr5 = Compu.plot.pie(autopct=\"%.1f%%\", colors = colors)\n",
    "plt.title(\"Computador en casa\")\n",
    "\n",
    "plt.subplot(133)\n",
    "Video = saber.groupby(\"Videojuegos\")[\"Puntaje\"].sum()\n",
    "distr5 = Video.plot.pie(autopct=\"%.1f%%\", colors = colors)\n",
    "plt.title(\"Consola videojuegos en casa\")\n",
    "\n",
    "plt.show()"
   ]
  },
  {
   "cell_type": "markdown",
   "metadata": {},
   "source": [
    "#### b. Visualización de datos vs. puntaje"
   ]
  },
  {
   "cell_type": "code",
   "execution_count": 42,
   "metadata": {
    "scrolled": true
   },
   "outputs": [],
   "source": [
    "def grafico(columna,base):\n",
    "    labels = list(base[columna])\n",
    "    datos = list(base[\"Puntaje\"])\n",
    "    return sns.boxplot(x = labels , y = datos)"
   ]
  },
  {
   "cell_type": "markdown",
   "metadata": {},
   "source": [
    "##### Variables relacionadas con posibles accesos a recursos"
   ]
  },
  {
   "cell_type": "markdown",
   "metadata": {},
   "source": [
    " - Se encuentra que quienes tienen internet, computador, y consola de videojuegos en casa, tienen un promedio de puntaje obtenido en la prueba más alto que quienes no, siendo entonces la consola de videojuegos probablemente más relacionada con el estrato y nivel de acceso a recursos que pueden posibilitar acceder a una mejor calidad, que el impacto sobre la dedicación en el estudio."
   ]
  },
  {
   "cell_type": "markdown",
   "metadata": {},
   "source": [
    "##### Acceso a recursos tecnológicos"
   ]
  },
  {
   "cell_type": "code",
   "execution_count": 43,
   "metadata": {},
   "outputs": [
    {
     "data": {
      "image/png": "[encoded data removed]",
      "text/plain": [
       "<Figure size 1080x360 with 3 Axes>"
      ]
     },
     "metadata": {
      "needs_background": "light"
     },
     "output_type": "display_data"
    }
   ],
   "source": [
    "plt.figure(figsize=(15, 5))\n",
    "\n",
    "plt.subplot(131)\n",
    "distr6 = grafico(\"Internet\",saber)\n",
    "plt.title(\"Internet en casa\")\n",
    "\n",
    "plt.subplot(132)\n",
    "distr7 = grafico(\"Computador\",saber)\n",
    "plt.title(\"Computador en casa\")\n",
    "\n",
    "plt.subplot(133)\n",
    "distr8 = grafico(\"Videojuegos\",saber)\n",
    "plt.title(\"Videojuegos en casa\")\n",
    "\n",
    "plt.show()"
   ]
  },
  {
   "cell_type": "markdown",
   "metadata": {},
   "source": [
    "##### Aprovechamiento de recursos y disponibilidad (relacionados con lo académico)"
   ]
  },
  {
   "cell_type": "markdown",
   "metadata": {},
   "source": [
    "Tener en la casa mayor cantidad de libros, al parecer si afecta el rendimiento, con una media más alta en promedio del puntaje de los que tienen más de 100 libros.\n",
    "\n",
    "En cuanto a dedicación a la lectura, quienes leen más de 30 minutos en adelante, presentan un promedio más alto que quienes leen menos, y aparentemente una media de calificación similar.\n",
    "\n",
    "Para la dedicación en internet, quienes navegan más de 30 minutos si presentan un promedio en el puntaje más alto, que quienes no tienen acceso a internet o lo hace en menor medida."
   ]
  },
  {
   "cell_type": "code",
   "execution_count": 44,
   "metadata": {},
   "outputs": [
    {
     "data": {
      "image/png": "[encoded data removed]",
      "text/plain": [
       "<Figure size 2880x504 with 3 Axes>"
      ]
     },
     "metadata": {
      "needs_background": "light"
     },
     "output_type": "display_data"
    }
   ],
   "source": [
    "plt.figure(figsize=(40, 7))\n",
    "\n",
    "plt.subplot(131)\n",
    "distr6 = grafico(\"Libros\",saber)\n",
    "plt.title(\"Cantidad de libros en casa\")\n",
    "\n",
    "plt.subplot(132)\n",
    "distr7 = grafico(\"DLectura\",saber)\n",
    "plt.title(\"Dedicación a la lectura\")\n",
    "\n",
    "plt.subplot(133)\n",
    "distr7 = grafico(\"DInternet\",saber)\n",
    "plt.title(\"Dedicación al internet\")\n",
    "\n",
    "\n",
    "plt.show()"
   ]
  },
  {
   "cell_type": "markdown",
   "metadata": {},
   "source": [
    "##### Características de la institución académica"
   ]
  },
  {
   "cell_type": "markdown",
   "metadata": {},
   "source": [
    "En cuanto a las instituciones que son privadas, se evidencia que la media de la puntuación obtenida es más alta respecto a las oficiales\n",
    "\n",
    "En un enfoque académico por encima del técnico, tiene mejor media en el puntaje.\n",
    "\n",
    "Y las instituciones que están en el casco urbano, tienen mejor promedio de puntaje que las instituciones rurales."
   ]
  },
  {
   "cell_type": "code",
   "execution_count": 45,
   "metadata": {},
   "outputs": [
    {
     "data": {
      "image/png": "[encoded data removed]",
      "text/plain": [
       "<Figure size 1440x360 with 3 Axes>"
      ]
     },
     "metadata": {
      "needs_background": "light"
     },
     "output_type": "display_data"
    }
   ],
   "source": [
    "plt.figure(figsize=(20, 5))\n",
    "\n",
    "plt.subplot(131)\n",
    "distr6 = grafico(\"Tipo\",saber)\n",
    "plt.title(\"Tipo de institución pública ó privada\")\n",
    "\n",
    "plt.subplot(132)\n",
    "distr7 = grafico(\"Enfasis\",saber)\n",
    "plt.title(\"Enfoque académico de la institución\")\n",
    "\n",
    "plt.subplot(133)\n",
    "distr8 = grafico(\"Ubicacion\",saber)\n",
    "plt.title(\"Ubicación de la institución\")\n",
    "\n",
    "plt.show()"
   ]
  },
  {
   "cell_type": "markdown",
   "metadata": {},
   "source": [
    "##### Localización geográfica en Colombia"
   ]
  },
  {
   "cell_type": "markdown",
   "metadata": {},
   "source": [
    "Los estudiantes que presentaron la prueba en Bogotá, Santander y Norte de Santander aparentan sobresalir en el promedio del puntaje obtenido, por otro lado, los departamentos de Chocó, Vaupés, Amazonas se observan con un promedio bajo respecto al resto de departamentos."
   ]
  },
  {
   "cell_type": "code",
   "execution_count": 46,
   "metadata": {},
   "outputs": [
    {
     "data": {
      "image/png": "[encoded data removed]",
      "text/plain": [
       "<Figure size 8640x360 with 1 Axes>"
      ]
     },
     "metadata": {
      "needs_background": "light"
     },
     "output_type": "display_data"
    }
   ],
   "source": [
    "plt.figure(figsize =(120, 5))\n",
    "\n",
    "plt.subplot(131)\n",
    "distr6 = grafico(\"Departamento\",saber)\n",
    "plt.title(\"Distribución promedio por departamento\")\n",
    "plt.show()"
   ]
  },
  {
   "cell_type": "markdown",
   "metadata": {},
   "source": [
    "##### Características Económicas"
   ]
  },
  {
   "cell_type": "markdown",
   "metadata": {},
   "source": [
    " - La calificación de nivel económico puede ser influenciada por una percepción no acotada en características específicas, también por la entrada de la pandemia que generalizó la situación de desmejora a muchos hogares, con lo que se encuentra que ha pesar de tener \"peor condición\", la media del puntaje es ligeramente mejor que los que consideran que su condición económica es igual o mejor. Frente a esto, el estrato si evidencia un mejor comportamiento y aparentemente una diferencia entre medias y cuartiles."
   ]
  },
  {
   "cell_type": "code",
   "execution_count": 47,
   "metadata": {},
   "outputs": [
    {
     "data": {
      "image/png": "[encoded data removed]",
      "text/plain": [
       "<Figure size 1080x360 with 2 Axes>"
      ]
     },
     "metadata": {
      "needs_background": "light"
     },
     "output_type": "display_data"
    }
   ],
   "source": [
    "plt.figure(figsize=(15, 5))\n",
    "\n",
    "plt.subplot(131)\n",
    "distr6 = grafico(\"Estrato\",saber)\n",
    "plt.title(\"Estrato\")\n",
    "\n",
    "plt.subplot(132)\n",
    "distr7 = grafico(\"Economia\",saber)\n",
    "plt.title(\"Nivel Económico\")\n",
    "\n",
    "plt.show()"
   ]
  },
  {
   "cell_type": "markdown",
   "metadata": {},
   "source": [
    "##### Características del estudiante"
   ]
  },
  {
   "cell_type": "markdown",
   "metadata": {},
   "source": [
    "- Si bien la mayor parte de las personas que presentaron el examen oscilan los 17 años, entre más edad tenga la persona, aparenta tener un puntaje menor en la prueba, siendo que quienes tienen entre 16 a 18 años, tienen el promedio de puntaje más alto.\n",
    "\n",
    "- En cuanto al periodo de presentación de la prueba, quienes lo presentan en el primer periodo aparentan tener mejor puntaje que quienes lo hacen en el segundo."
   ]
  },
  {
   "cell_type": "code",
   "execution_count": 48,
   "metadata": {},
   "outputs": [
    {
     "data": {
      "image/png": "[encoded data removed]",
      "text/plain": [
       "<Figure size 8640x360 with 1 Axes>"
      ]
     },
     "metadata": {
      "needs_background": "light"
     },
     "output_type": "display_data"
    }
   ],
   "source": [
    "plt.figure(figsize =(120, 5))\n",
    "\n",
    "plt.subplot(131)\n",
    "distr6 = grafico(\"Edad\",saber)\n",
    "plt.title(\"Distribución promedio por edad\")\n",
    "plt.show()"
   ]
  },
  {
   "cell_type": "code",
   "execution_count": 49,
   "metadata": {},
   "outputs": [
    {
     "data": {
      "image/png": "[encoded data removed]",
      "text/plain": [
       "<Figure size 720x360 with 1 Axes>"
      ]
     },
     "metadata": {
      "needs_background": "light"
     },
     "output_type": "display_data"
    }
   ],
   "source": [
    "plt.figure(figsize =(10, 5))\n",
    "\n",
    "plt.subplot(131)\n",
    "distr6 = grafico(\"Periodo\",saber)\n",
    "plt.title(\"Distribución promedio por periodo de presentación de la prueba\")\n",
    "plt.show()"
   ]
  },
  {
   "cell_type": "markdown",
   "metadata": {},
   "source": [
    "#### c. Gráfico de correlación entre variables"
   ]
  },
  {
   "cell_type": "markdown",
   "metadata": {},
   "source": [
    "Según lo que se puede ver en la matriz de correlación, así como en el diagrama, tener computador se relaciona altamente con internet, y siendo que la dedicación a internet incluye una columna que indica que no se tiene internet, se pueden dejar de considerar las variables computador y dedicación a internet, para dejar internet que tiene ligeramente menor correlación respecto al puntaje que computador, pero consolida las variables de recursos tecnológicos.\n",
    "\n",
    "Nivel económico (percepción), es mejor explicada por el estrato, por lo que se dejará sólo el estrato; de igual forma, videojuegos tiene la correlación de pearson más alta respecto al estrato, entonces también se descarta, siendo que puede ser explicada por el estrato.\n",
    "\n",
    "Por el lado de los libros y la cantidad de libros en casa, entre estas variables no se aprecia que estén fuertemente correlacionadas, esto quiere decir que tener libros no es garantía que haya una dedicación a ellos, sin embargo libros tiene más correlación respecto al puntaje que la dedicación, por lo que se decide dejar la variable libros.\n",
    "\n",
    "Por último, el periodo tiene una alta correlación con la edad, por lo que se descarta esta variable."
   ]
  },
  {
   "cell_type": "code",
   "execution_count": 50,
   "metadata": {},
   "outputs": [
    {
     "data": {
      "image/png": "[encoded data removed]",
      "text/plain": [
       "<Figure size 720x720 with 4 Axes>"
      ]
     },
     "metadata": {
      "needs_background": "light"
     },
     "output_type": "display_data"
    }
   ],
   "source": [
    "cmap = sns.diverging_palette(h_neg=210, h_pos=350, s=90, l=30, as_cmap=True, center=\"light\")\n",
    "sns.clustermap(saber_d.corr(), figsize=(10, 10), cmap=cmap)\n",
    "plt.title(\"Correlograma entre variables consideradas\")\n",
    "plt.show()"
   ]
  },
  {
   "cell_type": "markdown",
   "metadata": {},
   "source": [
    "- Matriz de correlación de pearson de las variables seleccionadas:"
   ]
  },
  {
   "cell_type": "code",
   "execution_count": 51,
   "metadata": {},
   "outputs": [
    {
     "data": {
      "text/html": [
       "<div>\n",
       "<style scoped>\n",
       "    .dataframe tbody tr th:only-of-type {\n",
       "        vertical-align: middle;\n",
       "    }\n",
       "\n",
       "    .dataframe tbody tr th {\n",
       "        vertical-align: top;\n",
       "    }\n",
       "\n",
       "    .dataframe thead th {\n",
       "        text-align: right;\n",
       "    }\n",
       "</style>\n",
       "<table border=\"1\" class=\"dataframe\">\n",
       "  <thead>\n",
       "    <tr style=\"text-align: right;\">\n",
       "      <th></th>\n",
       "      <th>Periodo</th>\n",
       "      <th>Departamento</th>\n",
       "      <th>Internet</th>\n",
       "      <th>Computador</th>\n",
       "      <th>Videojuegos</th>\n",
       "      <th>Libros</th>\n",
       "      <th>Economia</th>\n",
       "      <th>DLectura</th>\n",
       "      <th>DInternet</th>\n",
       "      <th>Tipo</th>\n",
       "      <th>Enfasis</th>\n",
       "      <th>Ubicacion</th>\n",
       "      <th>Estrato</th>\n",
       "      <th>Puntaje</th>\n",
       "      <th>Edad</th>\n",
       "    </tr>\n",
       "  </thead>\n",
       "  <tbody>\n",
       "    <tr>\n",
       "      <th>Periodo</th>\n",
       "      <td>1.000000</td>\n",
       "      <td>-0.012409</td>\n",
       "      <td>0.070147</td>\n",
       "      <td>0.020473</td>\n",
       "      <td>-0.040237</td>\n",
       "      <td>-0.034318</td>\n",
       "      <td>0.064974</td>\n",
       "      <td>0.014741</td>\n",
       "      <td>0.062929</td>\n",
       "      <td>0.073713</td>\n",
       "      <td>0.025733</td>\n",
       "      <td>-0.016671</td>\n",
       "      <td>-0.054836</td>\n",
       "      <td>-0.025210</td>\n",
       "      <td>-0.274620</td>\n",
       "    </tr>\n",
       "    <tr>\n",
       "      <th>Departamento</th>\n",
       "      <td>-0.012409</td>\n",
       "      <td>1.000000</td>\n",
       "      <td>-0.076674</td>\n",
       "      <td>-0.071358</td>\n",
       "      <td>-0.078326</td>\n",
       "      <td>-0.073838</td>\n",
       "      <td>-0.011002</td>\n",
       "      <td>-0.012106</td>\n",
       "      <td>-0.015989</td>\n",
       "      <td>0.083441</td>\n",
       "      <td>0.183857</td>\n",
       "      <td>-0.074686</td>\n",
       "      <td>-0.086284</td>\n",
       "      <td>-0.018592</td>\n",
       "      <td>-0.014387</td>\n",
       "    </tr>\n",
       "    <tr>\n",
       "      <th>Internet</th>\n",
       "      <td>0.070147</td>\n",
       "      <td>-0.076674</td>\n",
       "      <td>1.000000</td>\n",
       "      <td>0.559935</td>\n",
       "      <td>0.274495</td>\n",
       "      <td>0.246376</td>\n",
       "      <td>0.001598</td>\n",
       "      <td>0.061649</td>\n",
       "      <td>0.059731</td>\n",
       "      <td>-0.268907</td>\n",
       "      <td>-0.062840</td>\n",
       "      <td>0.290392</td>\n",
       "      <td>0.330467</td>\n",
       "      <td>0.302116</td>\n",
       "      <td>-0.123468</td>\n",
       "    </tr>\n",
       "    <tr>\n",
       "      <th>Computador</th>\n",
       "      <td>0.020473</td>\n",
       "      <td>-0.071358</td>\n",
       "      <td>0.559935</td>\n",
       "      <td>1.000000</td>\n",
       "      <td>0.296217</td>\n",
       "      <td>0.291621</td>\n",
       "      <td>-0.010196</td>\n",
       "      <td>0.050860</td>\n",
       "      <td>0.054933</td>\n",
       "      <td>-0.267470</td>\n",
       "      <td>-0.065597</td>\n",
       "      <td>0.216228</td>\n",
       "      <td>0.328112</td>\n",
       "      <td>0.312164</td>\n",
       "      <td>-0.132085</td>\n",
       "    </tr>\n",
       "    <tr>\n",
       "      <th>Videojuegos</th>\n",
       "      <td>-0.040237</td>\n",
       "      <td>-0.078326</td>\n",
       "      <td>0.274495</td>\n",
       "      <td>0.296217</td>\n",
       "      <td>1.000000</td>\n",
       "      <td>0.198442</td>\n",
       "      <td>-0.003364</td>\n",
       "      <td>0.053248</td>\n",
       "      <td>0.059949</td>\n",
       "      <td>-0.266288</td>\n",
       "      <td>-0.108585</td>\n",
       "      <td>0.099780</td>\n",
       "      <td>0.328688</td>\n",
       "      <td>0.184059</td>\n",
       "      <td>-0.043177</td>\n",
       "    </tr>\n",
       "    <tr>\n",
       "      <th>Libros</th>\n",
       "      <td>-0.034318</td>\n",
       "      <td>-0.073838</td>\n",
       "      <td>0.246376</td>\n",
       "      <td>0.291621</td>\n",
       "      <td>0.198442</td>\n",
       "      <td>1.000000</td>\n",
       "      <td>0.017440</td>\n",
       "      <td>0.017720</td>\n",
       "      <td>0.040005</td>\n",
       "      <td>-0.232019</td>\n",
       "      <td>-0.092735</td>\n",
       "      <td>0.088924</td>\n",
       "      <td>0.276728</td>\n",
       "      <td>0.330724</td>\n",
       "      <td>-0.100443</td>\n",
       "    </tr>\n",
       "    <tr>\n",
       "      <th>Economia</th>\n",
       "      <td>0.064974</td>\n",
       "      <td>-0.011002</td>\n",
       "      <td>0.001598</td>\n",
       "      <td>-0.010196</td>\n",
       "      <td>-0.003364</td>\n",
       "      <td>0.017440</td>\n",
       "      <td>1.000000</td>\n",
       "      <td>0.017741</td>\n",
       "      <td>0.031111</td>\n",
       "      <td>-0.023512</td>\n",
       "      <td>-0.006808</td>\n",
       "      <td>0.033416</td>\n",
       "      <td>0.005823</td>\n",
       "      <td>0.035250</td>\n",
       "      <td>-0.005592</td>\n",
       "    </tr>\n",
       "    <tr>\n",
       "      <th>DLectura</th>\n",
       "      <td>0.014741</td>\n",
       "      <td>-0.012106</td>\n",
       "      <td>0.061649</td>\n",
       "      <td>0.050860</td>\n",
       "      <td>0.053248</td>\n",
       "      <td>0.017720</td>\n",
       "      <td>0.017741</td>\n",
       "      <td>1.000000</td>\n",
       "      <td>0.042582</td>\n",
       "      <td>-0.046610</td>\n",
       "      <td>-0.007879</td>\n",
       "      <td>0.039882</td>\n",
       "      <td>0.050626</td>\n",
       "      <td>0.019989</td>\n",
       "      <td>-0.001957</td>\n",
       "    </tr>\n",
       "    <tr>\n",
       "      <th>DInternet</th>\n",
       "      <td>0.062929</td>\n",
       "      <td>-0.015989</td>\n",
       "      <td>0.059731</td>\n",
       "      <td>0.054933</td>\n",
       "      <td>0.059949</td>\n",
       "      <td>0.040005</td>\n",
       "      <td>0.031111</td>\n",
       "      <td>0.042582</td>\n",
       "      <td>1.000000</td>\n",
       "      <td>-0.046448</td>\n",
       "      <td>-0.013321</td>\n",
       "      <td>0.023217</td>\n",
       "      <td>0.061178</td>\n",
       "      <td>0.032896</td>\n",
       "      <td>-0.017913</td>\n",
       "    </tr>\n",
       "    <tr>\n",
       "      <th>Tipo</th>\n",
       "      <td>0.073713</td>\n",
       "      <td>0.083441</td>\n",
       "      <td>-0.268907</td>\n",
       "      <td>-0.267470</td>\n",
       "      <td>-0.266288</td>\n",
       "      <td>-0.232019</td>\n",
       "      <td>-0.023512</td>\n",
       "      <td>-0.046610</td>\n",
       "      <td>-0.046448</td>\n",
       "      <td>1.000000</td>\n",
       "      <td>0.333500</td>\n",
       "      <td>-0.168530</td>\n",
       "      <td>-0.374788</td>\n",
       "      <td>-0.270300</td>\n",
       "      <td>-0.011269</td>\n",
       "    </tr>\n",
       "    <tr>\n",
       "      <th>Enfasis</th>\n",
       "      <td>0.025733</td>\n",
       "      <td>0.183857</td>\n",
       "      <td>-0.062840</td>\n",
       "      <td>-0.065597</td>\n",
       "      <td>-0.108585</td>\n",
       "      <td>-0.092735</td>\n",
       "      <td>-0.006808</td>\n",
       "      <td>-0.007879</td>\n",
       "      <td>-0.013321</td>\n",
       "      <td>0.333500</td>\n",
       "      <td>1.000000</td>\n",
       "      <td>0.044164</td>\n",
       "      <td>-0.149111</td>\n",
       "      <td>-0.065824</td>\n",
       "      <td>-0.017351</td>\n",
       "    </tr>\n",
       "    <tr>\n",
       "      <th>Ubicacion</th>\n",
       "      <td>-0.016671</td>\n",
       "      <td>-0.074686</td>\n",
       "      <td>0.290392</td>\n",
       "      <td>0.216228</td>\n",
       "      <td>0.099780</td>\n",
       "      <td>0.088924</td>\n",
       "      <td>0.033416</td>\n",
       "      <td>0.039882</td>\n",
       "      <td>0.023217</td>\n",
       "      <td>-0.168530</td>\n",
       "      <td>0.044164</td>\n",
       "      <td>1.000000</td>\n",
       "      <td>0.102628</td>\n",
       "      <td>0.171520</td>\n",
       "      <td>-0.017031</td>\n",
       "    </tr>\n",
       "    <tr>\n",
       "      <th>Estrato</th>\n",
       "      <td>-0.054836</td>\n",
       "      <td>-0.086284</td>\n",
       "      <td>0.330467</td>\n",
       "      <td>0.328112</td>\n",
       "      <td>0.328688</td>\n",
       "      <td>0.276728</td>\n",
       "      <td>0.005823</td>\n",
       "      <td>0.050626</td>\n",
       "      <td>0.061178</td>\n",
       "      <td>-0.374788</td>\n",
       "      <td>-0.149111</td>\n",
       "      <td>0.102628</td>\n",
       "      <td>1.000000</td>\n",
       "      <td>0.253499</td>\n",
       "      <td>-0.042445</td>\n",
       "    </tr>\n",
       "    <tr>\n",
       "      <th>Puntaje</th>\n",
       "      <td>-0.025210</td>\n",
       "      <td>-0.018592</td>\n",
       "      <td>0.302116</td>\n",
       "      <td>0.312164</td>\n",
       "      <td>0.184059</td>\n",
       "      <td>0.330724</td>\n",
       "      <td>0.035250</td>\n",
       "      <td>0.019989</td>\n",
       "      <td>0.032896</td>\n",
       "      <td>-0.270300</td>\n",
       "      <td>-0.065824</td>\n",
       "      <td>0.171520</td>\n",
       "      <td>0.253499</td>\n",
       "      <td>1.000000</td>\n",
       "      <td>-0.233769</td>\n",
       "    </tr>\n",
       "    <tr>\n",
       "      <th>Edad</th>\n",
       "      <td>-0.274620</td>\n",
       "      <td>-0.014387</td>\n",
       "      <td>-0.123468</td>\n",
       "      <td>-0.132085</td>\n",
       "      <td>-0.043177</td>\n",
       "      <td>-0.100443</td>\n",
       "      <td>-0.005592</td>\n",
       "      <td>-0.001957</td>\n",
       "      <td>-0.017913</td>\n",
       "      <td>-0.011269</td>\n",
       "      <td>-0.017351</td>\n",
       "      <td>-0.017031</td>\n",
       "      <td>-0.042445</td>\n",
       "      <td>-0.233769</td>\n",
       "      <td>1.000000</td>\n",
       "    </tr>\n",
       "  </tbody>\n",
       "</table>\n",
       "</div>"
      ],
      "text/plain": [
       "               Periodo  Departamento  Internet  Computador  Videojuegos  \\\n",
       "Periodo       1.000000     -0.012409  0.070147    0.020473    -0.040237   \n",
       "Departamento -0.012409      1.000000 -0.076674   -0.071358    -0.078326   \n",
       "Internet      0.070147     -0.076674  1.000000    0.559935     0.274495   \n",
       "Computador    0.020473     -0.071358  0.559935    1.000000     0.296217   \n",
       "Videojuegos  -0.040237     -0.078326  0.274495    0.296217     1.000000   \n",
       "Libros       -0.034318     -0.073838  0.246376    0.291621     0.198442   \n",
       "Economia      0.064974     -0.011002  0.001598   -0.010196    -0.003364   \n",
       "DLectura      0.014741     -0.012106  0.061649    0.050860     0.053248   \n",
       "DInternet     0.062929     -0.015989  0.059731    0.054933     0.059949   \n",
       "Tipo          0.073713      0.083441 -0.268907   -0.267470    -0.266288   \n",
       "Enfasis       0.025733      0.183857 -0.062840   -0.065597    -0.108585   \n",
       "Ubicacion    -0.016671     -0.074686  0.290392    0.216228     0.099780   \n",
       "Estrato      -0.054836     -0.086284  0.330467    0.328112     0.328688   \n",
       "Puntaje      -0.025210     -0.018592  0.302116    0.312164     0.184059   \n",
       "Edad         -0.274620     -0.014387 -0.123468   -0.132085    -0.043177   \n",
       "\n",
       "                Libros  Economia  DLectura  DInternet      Tipo   Enfasis  \\\n",
       "Periodo      -0.034318  0.064974  0.014741   0.062929  0.073713  0.025733   \n",
       "Departamento -0.073838 -0.011002 -0.012106  -0.015989  0.083441  0.183857   \n",
       "Internet      0.246376  0.001598  0.061649   0.059731 -0.268907 -0.062840   \n",
       "Computador    0.291621 -0.010196  0.050860   0.054933 -0.267470 -0.065597   \n",
       "Videojuegos   0.198442 -0.003364  0.053248   0.059949 -0.266288 -0.108585   \n",
       "Libros        1.000000  0.017440  0.017720   0.040005 -0.232019 -0.092735   \n",
       "Economia      0.017440  1.000000  0.017741   0.031111 -0.023512 -0.006808   \n",
       "DLectura      0.017720  0.017741  1.000000   0.042582 -0.046610 -0.007879   \n",
       "DInternet     0.040005  0.031111  0.042582   1.000000 -0.046448 -0.013321   \n",
       "Tipo         -0.232019 -0.023512 -0.046610  -0.046448  1.000000  0.333500   \n",
       "Enfasis      -0.092735 -0.006808 -0.007879  -0.013321  0.333500  1.000000   \n",
       "Ubicacion     0.088924  0.033416  0.039882   0.023217 -0.168530  0.044164   \n",
       "Estrato       0.276728  0.005823  0.050626   0.061178 -0.374788 -0.149111   \n",
       "Puntaje       0.330724  0.035250  0.019989   0.032896 -0.270300 -0.065824   \n",
       "Edad         -0.100443 -0.005592 -0.001957  -0.017913 -0.011269 -0.017351   \n",
       "\n",
       "              Ubicacion   Estrato   Puntaje      Edad  \n",
       "Periodo       -0.016671 -0.054836 -0.025210 -0.274620  \n",
       "Departamento  -0.074686 -0.086284 -0.018592 -0.014387  \n",
       "Internet       0.290392  0.330467  0.302116 -0.123468  \n",
       "Computador     0.216228  0.328112  0.312164 -0.132085  \n",
       "Videojuegos    0.099780  0.328688  0.184059 -0.043177  \n",
       "Libros         0.088924  0.276728  0.330724 -0.100443  \n",
       "Economia       0.033416  0.005823  0.035250 -0.005592  \n",
       "DLectura       0.039882  0.050626  0.019989 -0.001957  \n",
       "DInternet      0.023217  0.061178  0.032896 -0.017913  \n",
       "Tipo          -0.168530 -0.374788 -0.270300 -0.011269  \n",
       "Enfasis        0.044164 -0.149111 -0.065824 -0.017351  \n",
       "Ubicacion      1.000000  0.102628  0.171520 -0.017031  \n",
       "Estrato        0.102628  1.000000  0.253499 -0.042445  \n",
       "Puntaje        0.171520  0.253499  1.000000 -0.233769  \n",
       "Edad          -0.017031 -0.042445 -0.233769  1.000000  "
      ]
     },
     "execution_count": 51,
     "metadata": {},
     "output_type": "execute_result"
    }
   ],
   "source": [
    "corr_matrix = saber_d.corr(method='pearson')\n",
    "corr_matrix"
   ]
  },
  {
   "cell_type": "markdown",
   "metadata": {},
   "source": [
    "### Generalidades"
   ]
  },
  {
   "cell_type": "markdown",
   "metadata": {},
   "source": [
    "Para proceder con los modelos, se sugiere tener en cuenta las siguientes variables: puntaje, edad, estrato, departamento, internet, libros, ubicación, tipo, enfasis"
   ]
  },
  {
   "cell_type": "code",
   "execution_count": 52,
   "metadata": {},
   "outputs": [
    {
     "data": {
      "text/html": [
       "<div>\n",
       "<style scoped>\n",
       "    .dataframe tbody tr th:only-of-type {\n",
       "        vertical-align: middle;\n",
       "    }\n",
       "\n",
       "    .dataframe tbody tr th {\n",
       "        vertical-align: top;\n",
       "    }\n",
       "\n",
       "    .dataframe thead th {\n",
       "        text-align: right;\n",
       "    }\n",
       "</style>\n",
       "<table border=\"1\" class=\"dataframe\">\n",
       "  <thead>\n",
       "    <tr style=\"text-align: right;\">\n",
       "      <th></th>\n",
       "      <th>Puntaje</th>\n",
       "      <th>Edad</th>\n",
       "      <th>Estrato</th>\n",
       "      <th>Departamento</th>\n",
       "      <th>Internet</th>\n",
       "      <th>Libros</th>\n",
       "      <th>Ubicacion</th>\n",
       "      <th>Tipo</th>\n",
       "      <th>Enfasis</th>\n",
       "    </tr>\n",
       "  </thead>\n",
       "  <tbody>\n",
       "    <tr>\n",
       "      <th>SB11201910008548</th>\n",
       "      <td>235</td>\n",
       "      <td>21</td>\n",
       "      <td>4</td>\n",
       "      <td>31</td>\n",
       "      <td>1</td>\n",
       "      <td>0</td>\n",
       "      <td>1</td>\n",
       "      <td>1</td>\n",
       "      <td>3</td>\n",
       "    </tr>\n",
       "    <tr>\n",
       "      <th>SB11201910004475</th>\n",
       "      <td>217</td>\n",
       "      <td>23</td>\n",
       "      <td>3</td>\n",
       "      <td>31</td>\n",
       "      <td>1</td>\n",
       "      <td>1</td>\n",
       "      <td>1</td>\n",
       "      <td>1</td>\n",
       "      <td>3</td>\n",
       "    </tr>\n",
       "    <tr>\n",
       "      <th>SB11201910011427</th>\n",
       "      <td>246</td>\n",
       "      <td>20</td>\n",
       "      <td>2</td>\n",
       "      <td>31</td>\n",
       "      <td>1</td>\n",
       "      <td>0</td>\n",
       "      <td>1</td>\n",
       "      <td>1</td>\n",
       "      <td>3</td>\n",
       "    </tr>\n",
       "    <tr>\n",
       "      <th>SB11201910041975</th>\n",
       "      <td>255</td>\n",
       "      <td>27</td>\n",
       "      <td>2</td>\n",
       "      <td>31</td>\n",
       "      <td>1</td>\n",
       "      <td>0</td>\n",
       "      <td>1</td>\n",
       "      <td>1</td>\n",
       "      <td>3</td>\n",
       "    </tr>\n",
       "    <tr>\n",
       "      <th>SB11201910014490</th>\n",
       "      <td>280</td>\n",
       "      <td>21</td>\n",
       "      <td>6</td>\n",
       "      <td>4</td>\n",
       "      <td>1</td>\n",
       "      <td>3</td>\n",
       "      <td>1</td>\n",
       "      <td>0</td>\n",
       "      <td>0</td>\n",
       "    </tr>\n",
       "  </tbody>\n",
       "</table>\n",
       "</div>"
      ],
      "text/plain": [
       "                  Puntaje  Edad  Estrato  Departamento  Internet  Libros  \\\n",
       "SB11201910008548      235    21        4            31         1       0   \n",
       "SB11201910004475      217    23        3            31         1       1   \n",
       "SB11201910011427      246    20        2            31         1       0   \n",
       "SB11201910041975      255    27        2            31         1       0   \n",
       "SB11201910014490      280    21        6             4         1       3   \n",
       "\n",
       "                  Ubicacion  Tipo  Enfasis  \n",
       "SB11201910008548          1     1        3  \n",
       "SB11201910004475          1     1        3  \n",
       "SB11201910011427          1     1        3  \n",
       "SB11201910041975          1     1        3  \n",
       "SB11201910014490          1     0        0  "
      ]
     },
     "execution_count": 52,
     "metadata": {},
     "output_type": "execute_result"
    }
   ],
   "source": [
    "saber_final = saber_d[[\"Puntaje\", \"Edad\", \"Estrato\", \"Departamento\", \"Internet\", \"Libros\", \"Ubicacion\", \"Tipo\", \"Enfasis\"]]\n",
    "saber_final.head()"
   ]
  },
  {
   "cell_type": "markdown",
   "metadata": {},
   "source": [
    "Se decide trabajar con 9 variables, de las cuales 8 son predictoras y/o independientes."
   ]
  },
  {
   "cell_type": "code",
   "execution_count": 53,
   "metadata": {},
   "outputs": [
    {
     "name": "stdout",
     "output_type": "stream",
     "text": [
      "Archivo base con variables seleccionadas : 954,437 filas y 9 columnas\n"
     ]
    }
   ],
   "source": [
    "dimension(saber_final,\"base con variables seleccionadas\")"
   ]
  },
  {
   "cell_type": "markdown",
   "metadata": {},
   "source": [
    "- preguntas de analíticas:\n",
    "\n",
    "a. ¿ Tener internet influye en el proceso de educación de un estudiante, al punto de afectar su rendimiento en las pruebas saber?: esta pregunta surge dado que hace apenas menos de 20 años, el modelo de educación no contaba con estos avances tecnológicos, sin embargo, las estrategias de enseñanza se adaptaban a los recursos disponibles.\n",
    "\n",
    "b. ¿ La edad, que naturalmente se puede considerar como un grado de madurez multinivel, especialmente mental, puede influir en los resultados de la prueba?.\n",
    "\n",
    "c. ¿Es el departamento el factor clave frente al nivel educativo en las instituciones, ó por el contrario esto se determina más por el estrato y las facilidades de acceso a la educación?.\n",
    "\n",
    "d. ¿Tener libros en casa, como creencia de influencia positiva para la persona ante el aprendizaje, realmente afecta el rendimiento de un estudiante ante una prueba?.\n",
    "\n",
    "e. ¿El tipo de enfoque en la educación que ofrece una institución, determina el éxito en los parámetros de la prueba?, ¿Es la prueba significativa para aquellas personas que tienen formación técnica pero están siendo preparados para el mundo laboral en la practicidad?.\n",
    "\n",
    "f. ¿Los problemas sociales derivados de insatisfacciones colectivas, principalmente el apoyo del gobierno al docente y las instituciones mediante recursos, puede afectar el resultado de la prueba de los estudiantes de planteles supeditados a la educación pública?."
   ]
  },
  {
   "cell_type": "markdown",
   "metadata": {},
   "source": [
    "# 3. Abordar preguntas de negocio planteadas\n",
    "\n",
    "Esta misión consiste en proponer, implementar y evaluar el desempeño modelo(s) que busque(n) explicar las relaciones entre factores socio-demográficos y desempeño en la prueba.\n",
    "\n",
    "Pautas generales:\n",
    "* Seleccionar variables y proponer modelos acordes a dichas variables y al contexto del problema.\n",
    "* Utilizar los paquetes StatsModels y Scikit Learn para indagar sobre los aspectos que contribuyen al éxito de los estudiantes. Particularmente, las clases correspondientes a regresión lineal y regresión logística, entre otras, pueden ser útiles.\n",
    "* Utilizar las métricas de evaluación de desempeño (disponibles en los paquetes mencionados), para concluir sobre la validez de los modelos propuestos.\n",
    "\n",
    "Preguntas guía:\n",
    "* ¿Existe algún sub-conjunto de variables socio-demográficas que explique razonablemente bien el desempeño de los estudiantes en la prueba?\n",
    "* Definiendo como \"estudiante en riesgo\" a quien tenga un puntaje por debajo del percentil $\\alpha$ en más de la mitad de las áreas de la prueba, ¿cuáles variables socio-demográficas permitirían \"predecir\" si un estudiante pertenecerá a dicho grupo?\n",
    "\n",
    "El entregable de esta misión es un reporte sobre el desempeño de los modelos propuestos para abordar al menos una de las preguntas guía planteadas, acompañado de una conclusión sobre los resultados del modelo (si son válidos) en el contexto de la problemática planteada."
   ]
  },
  {
   "cell_type": "markdown",
   "metadata": {},
   "source": [
    "#### a. Definición de la función de regresión:"
   ]
  },
  {
   "cell_type": "markdown",
   "metadata": {},
   "source": [
    "- Función que ejecuta la regresión dependiendo de si es lineal o logit:"
   ]
  },
  {
   "cell_type": "code",
   "execution_count": 54,
   "metadata": {},
   "outputs": [],
   "source": [
    "def regresion(base,tipo_regresion, dependiente):\n",
    "    \n",
    "    # Variables independientes\n",
    "    X = base.drop([dependiente], axis = 1).values\n",
    "    # Variables dependientes\n",
    "    y = base[dependiente].values\n",
    "    #Dividir la base de datos en entrenamiento y test: se deja el test en 30%:\n",
    "    x_train, x_test, y_train, y_test = train_test_split(X,y, test_size = 0.3)\n",
    "    #Entrenamiento del modelo:\n",
    "    if tipo_regresion == \"lineal\":\n",
    "        lm_saber = linear_model.LinearRegression()\n",
    "    elif tipo_regresion == \"logistica\":\n",
    "        lm_saber = LogisticRegression()\n",
    "    \n",
    "    else:\n",
    "        print(\"Sólo se acepta por parámetro lineal o logistica\")\n",
    "     \n",
    "    lm_saber.fit(x_train, y_train)\n",
    "    \n",
    "    # Predicción de los resultados del los datos test:\n",
    "    y_pred = lm_saber.predict(x_test)\n",
    "    eva = lm_saber.score(x_test, y_test)\n",
    "    \n",
    "    return [eva, x_train, y_train, x_test]"
   ]
  },
  {
   "cell_type": "markdown",
   "metadata": {
    "collapsed": true
   },
   "source": [
    "#### a. Implementación de un modelo de regresión lineal múltiple con todas las variables inicialmente seleccionadas:"
   ]
  },
  {
   "cell_type": "markdown",
   "metadata": {},
   "source": [
    "- Regresión con 15 variables independientes."
   ]
  },
  {
   "cell_type": "code",
   "execution_count": 55,
   "metadata": {},
   "outputs": [
    {
     "data": {
      "text/plain": [
       "0.2411428808190339"
      ]
     },
     "execution_count": 55,
     "metadata": {},
     "output_type": "execute_result"
    }
   ],
   "source": [
    "base = saber_d\n",
    "regresion(base,\"lineal\", \"Puntaje\")[0]"
   ]
  },
  {
   "cell_type": "markdown",
   "metadata": {},
   "source": [
    "#### Conclusión del modelo"
   ]
  },
  {
   "cell_type": "markdown",
   "metadata": {},
   "source": [
    "De acuerdo con el R2 que arroja el modelo con todas las variables escogidas inicialmente, el puntaje sólo es explicado en un 24.21%, por lo que se deben realizar otros modelos, descartando variables que no aportan significancia. "
   ]
  },
  {
   "cell_type": "markdown",
   "metadata": {},
   "source": [
    "#### b. Selección de variables por correlación:\n",
    "\n",
    "Código fuente: https://machinelearningmastery.com/feature-selection-for-regression-data/"
   ]
  },
  {
   "cell_type": "code",
   "execution_count": 56,
   "metadata": {},
   "outputs": [],
   "source": [
    "x_train = regresion(base,\"lineal\",\"Puntaje\")[1]\n",
    "y_train = regresion(base,\"lineal\",\"Puntaje\")[2]\n",
    "x_test = regresion(base,\"lineal\",\"Puntaje\")[3]\n",
    "\n",
    "fs = SelectKBest(score_func = feature_selection.f_regression, k = \"all\")\n",
    "fs.fit(x_train, y_train)\n",
    "x_train_fs = fs.transform(x_train)\n",
    "x_test_fs = fs.transform(x_test)"
   ]
  },
  {
   "cell_type": "markdown",
   "metadata": {},
   "source": [
    "- La gráfica muestra, que las variables: periodo, departamento, economía, dedicación a lectura e internet y énfasis, no ofrecen significancia para explicar el puntaje, por lo que se retiran para volver a correr el modelo."
   ]
  },
  {
   "cell_type": "code",
   "execution_count": 57,
   "metadata": {
    "scrolled": true
   },
   "outputs": [
    {
     "name": "stdout",
     "output_type": "stream",
     "text": [
      "Feature 0: 0.002349\n",
      "Feature 1: 0.415943\n",
      "Feature 2: 0.016683\n",
      "Feature 3: 1.806181\n",
      "Feature 4: 1.140558\n",
      "Feature 5: 2.685248\n",
      "Feature 6: 0.007891\n",
      "Feature 7: 0.295930\n",
      "Feature 8: 0.375500\n",
      "Feature 9: 0.107482\n",
      "Feature 10: 2.421825\n",
      "Feature 11: 0.018741\n",
      "Feature 12: 0.349123\n",
      "Feature 13: 0.395372\n"
     ]
    },
    {
     "data": {
      "image/png": "[encoded data removed]",
      "text/plain": [
       "<Figure size 432x288 with 1 Axes>"
      ]
     },
     "metadata": {
      "needs_background": "light"
     },
     "output_type": "display_data"
    }
   ],
   "source": [
    "for i in range(len(fs.scores_)):\n",
    "    print('Feature %d: %f' % (i, fs.scores_[i]))\n",
    "\n",
    "# Gráfica de los scores:    \n",
    "plt.bar([i for i in range(len(fs.scores_))], fs.scores_)\n",
    "plt.show()"
   ]
  },
  {
   "cell_type": "markdown",
   "metadata": {},
   "source": [
    "#### c. Implementación de un modelo de regresión lineal múltiple con las variables correlacionadas:"
   ]
  },
  {
   "cell_type": "code",
   "execution_count": 58,
   "metadata": {},
   "outputs": [
    {
     "data": {
      "text/plain": [
       "0.23735165952250972"
      ]
     },
     "execution_count": 58,
     "metadata": {},
     "output_type": "execute_result"
    }
   ],
   "source": [
    "saber_final = saber_d[[\"Puntaje\", \"Edad\", \"Estrato\",\"Internet\", \"Computador\", \"Videojuegos\", \"Libros\", \"Ubicacion\", \"Tipo\"]]\n",
    "\n",
    "regresion(saber_final,\"lineal\", \"Puntaje\")[0]"
   ]
  },
  {
   "cell_type": "markdown",
   "metadata": {},
   "source": [
    "#### Conclusión del modelo"
   ]
  },
  {
   "cell_type": "markdown",
   "metadata": {},
   "source": [
    "De acuerdo con el R2 que arroja el modelo con todas las variables seleccionadas por correlación, el puntaje sólo es explicado en un 23.71%, por lo que se deben realizar otros modelos."
   ]
  },
  {
   "cell_type": "markdown",
   "metadata": {},
   "source": [
    "#### d. Implementación de un modelo de regresión logística con todas las variables:"
   ]
  },
  {
   "cell_type": "markdown",
   "metadata": {},
   "source": [
    "- Crear variable puntaje a 0 y 1, en donde 1 es si el estudiante tiene un puntaje por encima del quantil (0.7) = 277, y 0 de lo contrario:"
   ]
  },
  {
   "cell_type": "code",
   "execution_count": 59,
   "metadata": {},
   "outputs": [
    {
     "data": {
      "text/plain": [
       "0.5    247.0\n",
       "0.7    277.0\n",
       "Name: Puntaje, dtype: float64"
      ]
     },
     "execution_count": 59,
     "metadata": {},
     "output_type": "execute_result"
    }
   ],
   "source": [
    "saber.Puntaje.dropna().quantile([0.5, 0.7])"
   ]
  },
  {
   "cell_type": "code",
   "execution_count": 60,
   "metadata": {},
   "outputs": [
    {
     "data": {
      "text/html": [
       "<div>\n",
       "<style scoped>\n",
       "    .dataframe tbody tr th:only-of-type {\n",
       "        vertical-align: middle;\n",
       "    }\n",
       "\n",
       "    .dataframe tbody tr th {\n",
       "        vertical-align: top;\n",
       "    }\n",
       "\n",
       "    .dataframe thead th {\n",
       "        text-align: right;\n",
       "    }\n",
       "</style>\n",
       "<table border=\"1\" class=\"dataframe\">\n",
       "  <thead>\n",
       "    <tr style=\"text-align: right;\">\n",
       "      <th></th>\n",
       "      <th>Periodo</th>\n",
       "      <th>Departamento</th>\n",
       "      <th>Internet</th>\n",
       "      <th>Computador</th>\n",
       "      <th>Videojuegos</th>\n",
       "      <th>Libros</th>\n",
       "      <th>Economia</th>\n",
       "      <th>DLectura</th>\n",
       "      <th>DInternet</th>\n",
       "      <th>Tipo</th>\n",
       "      <th>Enfasis</th>\n",
       "      <th>Ubicacion</th>\n",
       "      <th>Estrato</th>\n",
       "      <th>Edad</th>\n",
       "      <th>Puntaje_bin</th>\n",
       "    </tr>\n",
       "  </thead>\n",
       "  <tbody>\n",
       "    <tr>\n",
       "      <th>SB11201910008548</th>\n",
       "      <td>0</td>\n",
       "      <td>31</td>\n",
       "      <td>1</td>\n",
       "      <td>1</td>\n",
       "      <td>0</td>\n",
       "      <td>0</td>\n",
       "      <td>1</td>\n",
       "      <td>1</td>\n",
       "      <td>1</td>\n",
       "      <td>1</td>\n",
       "      <td>3</td>\n",
       "      <td>1</td>\n",
       "      <td>4</td>\n",
       "      <td>21</td>\n",
       "      <td>0</td>\n",
       "    </tr>\n",
       "    <tr>\n",
       "      <th>SB11201910004475</th>\n",
       "      <td>0</td>\n",
       "      <td>31</td>\n",
       "      <td>1</td>\n",
       "      <td>0</td>\n",
       "      <td>0</td>\n",
       "      <td>1</td>\n",
       "      <td>1</td>\n",
       "      <td>4</td>\n",
       "      <td>1</td>\n",
       "      <td>1</td>\n",
       "      <td>3</td>\n",
       "      <td>1</td>\n",
       "      <td>3</td>\n",
       "      <td>23</td>\n",
       "      <td>0</td>\n",
       "    </tr>\n",
       "    <tr>\n",
       "      <th>SB11201910011427</th>\n",
       "      <td>0</td>\n",
       "      <td>31</td>\n",
       "      <td>1</td>\n",
       "      <td>0</td>\n",
       "      <td>1</td>\n",
       "      <td>0</td>\n",
       "      <td>0</td>\n",
       "      <td>4</td>\n",
       "      <td>0</td>\n",
       "      <td>1</td>\n",
       "      <td>3</td>\n",
       "      <td>1</td>\n",
       "      <td>2</td>\n",
       "      <td>20</td>\n",
       "      <td>0</td>\n",
       "    </tr>\n",
       "    <tr>\n",
       "      <th>SB11201910041975</th>\n",
       "      <td>0</td>\n",
       "      <td>31</td>\n",
       "      <td>1</td>\n",
       "      <td>1</td>\n",
       "      <td>0</td>\n",
       "      <td>0</td>\n",
       "      <td>0</td>\n",
       "      <td>4</td>\n",
       "      <td>3</td>\n",
       "      <td>1</td>\n",
       "      <td>3</td>\n",
       "      <td>1</td>\n",
       "      <td>2</td>\n",
       "      <td>27</td>\n",
       "      <td>0</td>\n",
       "    </tr>\n",
       "    <tr>\n",
       "      <th>SB11201910014490</th>\n",
       "      <td>0</td>\n",
       "      <td>4</td>\n",
       "      <td>1</td>\n",
       "      <td>1</td>\n",
       "      <td>1</td>\n",
       "      <td>3</td>\n",
       "      <td>0</td>\n",
       "      <td>1</td>\n",
       "      <td>1</td>\n",
       "      <td>0</td>\n",
       "      <td>0</td>\n",
       "      <td>1</td>\n",
       "      <td>6</td>\n",
       "      <td>21</td>\n",
       "      <td>1</td>\n",
       "    </tr>\n",
       "  </tbody>\n",
       "</table>\n",
       "</div>"
      ],
      "text/plain": [
       "                  Periodo  Departamento  Internet  Computador  Videojuegos  \\\n",
       "SB11201910008548        0            31         1           1            0   \n",
       "SB11201910004475        0            31         1           0            0   \n",
       "SB11201910011427        0            31         1           0            1   \n",
       "SB11201910041975        0            31         1           1            0   \n",
       "SB11201910014490        0             4         1           1            1   \n",
       "\n",
       "                  Libros  Economia  DLectura  DInternet  Tipo  Enfasis  \\\n",
       "SB11201910008548       0         1         1          1     1        3   \n",
       "SB11201910004475       1         1         4          1     1        3   \n",
       "SB11201910011427       0         0         4          0     1        3   \n",
       "SB11201910041975       0         0         4          3     1        3   \n",
       "SB11201910014490       3         0         1          1     0        0   \n",
       "\n",
       "                  Ubicacion  Estrato  Edad  Puntaje_bin  \n",
       "SB11201910008548          1        4    21            0  \n",
       "SB11201910004475          1        3    23            0  \n",
       "SB11201910011427          1        2    20            0  \n",
       "SB11201910041975          1        2    27            0  \n",
       "SB11201910014490          1        6    21            1  "
      ]
     },
     "execution_count": 60,
     "metadata": {},
     "output_type": "execute_result"
    }
   ],
   "source": [
    "base_2 = saber_d\n",
    "\n",
    "base_2[\"Puntaje_bin\"] = np.where(base_2[\"Puntaje\"] >= 277, 1, 0)\n",
    "base_2 = base_2.drop([\"Puntaje\"],axis=1)\n",
    "base_2.head()"
   ]
  },
  {
   "cell_type": "code",
   "execution_count": 61,
   "metadata": {},
   "outputs": [
    {
     "name": "stderr",
     "output_type": "stream",
     "text": [
      "/Users/anamariaaramendiz/opt/anaconda3/lib/python3.7/site-packages/sklearn/linear_model/logistic.py:432: FutureWarning: Default solver will be changed to 'lbfgs' in 0.22. Specify a solver to silence this warning.\n",
      "  FutureWarning)\n"
     ]
    },
    {
     "data": {
      "text/plain": [
       "0.74487657684087"
      ]
     },
     "execution_count": 61,
     "metadata": {},
     "output_type": "execute_result"
    }
   ],
   "source": [
    "regresion(base_2,\"logistica\", \"Puntaje_bin\")[0]"
   ]
  },
  {
   "cell_type": "markdown",
   "metadata": {},
   "source": [
    "#### Conclusión del modelo"
   ]
  },
  {
   "cell_type": "markdown",
   "metadata": {},
   "source": [
    "De acuerdo con el R2 que arroja el modelo con todas las variables iniciales, el puntaje sólo es explicado en un 74.51%, para cuando un estudiante está por encima/debajo de 250 puntos, por lo que el modelo con regresión logística es mejor que el lineal. Con el fin de mejorarlo, se procede a realizar un último modelo con selección de variables por correlación."
   ]
  },
  {
   "cell_type": "code",
   "execution_count": 62,
   "metadata": {},
   "outputs": [
    {
     "name": "stderr",
     "output_type": "stream",
     "text": [
      "/Users/anamariaaramendiz/opt/anaconda3/lib/python3.7/site-packages/sklearn/linear_model/logistic.py:432: FutureWarning: Default solver will be changed to 'lbfgs' in 0.22. Specify a solver to silence this warning.\n",
      "  FutureWarning)\n",
      "/Users/anamariaaramendiz/opt/anaconda3/lib/python3.7/site-packages/sklearn/linear_model/logistic.py:432: FutureWarning: Default solver will be changed to 'lbfgs' in 0.22. Specify a solver to silence this warning.\n",
      "  FutureWarning)\n",
      "/Users/anamariaaramendiz/opt/anaconda3/lib/python3.7/site-packages/sklearn/linear_model/logistic.py:432: FutureWarning: Default solver will be changed to 'lbfgs' in 0.22. Specify a solver to silence this warning.\n",
      "  FutureWarning)\n"
     ]
    }
   ],
   "source": [
    "x_train = regresion(base_2,\"logistica\", \"Puntaje_bin\")[1]\n",
    "y_train = regresion(base_2,\"logistica\", \"Puntaje_bin\")[2]\n",
    "x_test = regresion(base_2,\"logistica\", \"Puntaje_bin\")[3]\n",
    "\n",
    "\n",
    "fs = SelectKBest(score_func = feature_selection.f_regression, k = \"all\")\n",
    "fs.fit(x_train, y_train)\n",
    "x_train_fs = fs.transform(x_train)\n",
    "x_test_fs = fs.transform(x_test)"
   ]
  },
  {
   "cell_type": "code",
   "execution_count": 63,
   "metadata": {},
   "outputs": [
    {
     "name": "stdout",
     "output_type": "stream",
     "text": [
      "Feature 0: 3.694643\n",
      "Feature 1: 1.727679\n",
      "Feature 2: 2.241974\n",
      "Feature 3: 1.564380\n",
      "Feature 4: 2.059161\n",
      "Feature 5: 1.173730\n",
      "Feature 6: 0.007964\n",
      "Feature 7: 3.585838\n",
      "Feature 8: 0.593596\n",
      "Feature 9: 4.005870\n",
      "Feature 10: 0.077988\n",
      "Feature 11: 0.070640\n",
      "Feature 12: 2.457916\n",
      "Feature 13: 2.039789\n"
     ]
    },
    {
     "data": {
      "image/png": "[encoded data removed]",
      "text/plain": [
       "<Figure size 432x288 with 1 Axes>"
      ]
     },
     "metadata": {
      "needs_background": "light"
     },
     "output_type": "display_data"
    }
   ],
   "source": [
    "for i in range(len(fs.scores_)):\n",
    "    print('Feature %d: %f' % (i, fs.scores_[i]))\n",
    "\n",
    "# Gráfica de los scores:    \n",
    "plt.bar([i for i in range(len(fs.scores_))], fs.scores_)\n",
    "plt.show()"
   ]
  },
  {
   "cell_type": "markdown",
   "metadata": {},
   "source": [
    "#### e. Implementación de un modelo de regresión logística con todas variables seleccionadas por correlación:"
   ]
  },
  {
   "cell_type": "markdown",
   "metadata": {},
   "source": [
    "De forma similar a la regresión lineal, se evidenció estadísticamente que las variables: periodo, departamento, situación económica, dedicación a la lectura e internet, y énfasis de la institución, no aportan mayor significancia al modelo, por lo que se retiran para nuevamente volver a correr la regresión."
   ]
  },
  {
   "cell_type": "code",
   "execution_count": 64,
   "metadata": {},
   "outputs": [
    {
     "data": {
      "text/html": [
       "<div>\n",
       "<style scoped>\n",
       "    .dataframe tbody tr th:only-of-type {\n",
       "        vertical-align: middle;\n",
       "    }\n",
       "\n",
       "    .dataframe tbody tr th {\n",
       "        vertical-align: top;\n",
       "    }\n",
       "\n",
       "    .dataframe thead th {\n",
       "        text-align: right;\n",
       "    }\n",
       "</style>\n",
       "<table border=\"1\" class=\"dataframe\">\n",
       "  <thead>\n",
       "    <tr style=\"text-align: right;\">\n",
       "      <th></th>\n",
       "      <th>Internet</th>\n",
       "      <th>Computador</th>\n",
       "      <th>Videojuegos</th>\n",
       "      <th>Libros</th>\n",
       "      <th>Tipo</th>\n",
       "      <th>Ubicacion</th>\n",
       "      <th>Estrato</th>\n",
       "      <th>Edad</th>\n",
       "      <th>Puntaje_bin</th>\n",
       "    </tr>\n",
       "  </thead>\n",
       "  <tbody>\n",
       "    <tr>\n",
       "      <th>SB11201910008548</th>\n",
       "      <td>1</td>\n",
       "      <td>1</td>\n",
       "      <td>0</td>\n",
       "      <td>0</td>\n",
       "      <td>1</td>\n",
       "      <td>1</td>\n",
       "      <td>4</td>\n",
       "      <td>21</td>\n",
       "      <td>0</td>\n",
       "    </tr>\n",
       "    <tr>\n",
       "      <th>SB11201910004475</th>\n",
       "      <td>1</td>\n",
       "      <td>0</td>\n",
       "      <td>0</td>\n",
       "      <td>1</td>\n",
       "      <td>1</td>\n",
       "      <td>1</td>\n",
       "      <td>3</td>\n",
       "      <td>23</td>\n",
       "      <td>0</td>\n",
       "    </tr>\n",
       "    <tr>\n",
       "      <th>SB11201910011427</th>\n",
       "      <td>1</td>\n",
       "      <td>0</td>\n",
       "      <td>1</td>\n",
       "      <td>0</td>\n",
       "      <td>1</td>\n",
       "      <td>1</td>\n",
       "      <td>2</td>\n",
       "      <td>20</td>\n",
       "      <td>0</td>\n",
       "    </tr>\n",
       "    <tr>\n",
       "      <th>SB11201910041975</th>\n",
       "      <td>1</td>\n",
       "      <td>1</td>\n",
       "      <td>0</td>\n",
       "      <td>0</td>\n",
       "      <td>1</td>\n",
       "      <td>1</td>\n",
       "      <td>2</td>\n",
       "      <td>27</td>\n",
       "      <td>0</td>\n",
       "    </tr>\n",
       "    <tr>\n",
       "      <th>SB11201910014490</th>\n",
       "      <td>1</td>\n",
       "      <td>1</td>\n",
       "      <td>1</td>\n",
       "      <td>3</td>\n",
       "      <td>0</td>\n",
       "      <td>1</td>\n",
       "      <td>6</td>\n",
       "      <td>21</td>\n",
       "      <td>1</td>\n",
       "    </tr>\n",
       "  </tbody>\n",
       "</table>\n",
       "</div>"
      ],
      "text/plain": [
       "                  Internet  Computador  Videojuegos  Libros  Tipo  Ubicacion  \\\n",
       "SB11201910008548         1           1            0       0     1          1   \n",
       "SB11201910004475         1           0            0       1     1          1   \n",
       "SB11201910011427         1           0            1       0     1          1   \n",
       "SB11201910041975         1           1            0       0     1          1   \n",
       "SB11201910014490         1           1            1       3     0          1   \n",
       "\n",
       "                  Estrato  Edad  Puntaje_bin  \n",
       "SB11201910008548        4    21            0  \n",
       "SB11201910004475        3    23            0  \n",
       "SB11201910011427        2    20            0  \n",
       "SB11201910041975        2    27            0  \n",
       "SB11201910014490        6    21            1  "
      ]
     },
     "execution_count": 64,
     "metadata": {},
     "output_type": "execute_result"
    }
   ],
   "source": [
    "saber_final_1 = saber_d[[\"Internet\", \"Computador\", \"Videojuegos\", \"Libros\", \"Tipo\", \"Ubicacion\", \"Estrato\", \"Edad\", \"Puntaje_bin\"]]\n",
    "saber_final_1.head()"
   ]
  },
  {
   "cell_type": "code",
   "execution_count": 65,
   "metadata": {},
   "outputs": [
    {
     "name": "stderr",
     "output_type": "stream",
     "text": [
      "/Users/anamariaaramendiz/opt/anaconda3/lib/python3.7/site-packages/sklearn/linear_model/logistic.py:432: FutureWarning: Default solver will be changed to 'lbfgs' in 0.22. Specify a solver to silence this warning.\n",
      "  FutureWarning)\n"
     ]
    },
    {
     "data": {
      "text/plain": [
       "0.7429976391042566"
      ]
     },
     "execution_count": 65,
     "metadata": {},
     "output_type": "execute_result"
    }
   ],
   "source": [
    "regresion(saber_final_1,\"logistica\", \"Puntaje_bin\")[0]"
   ]
  },
  {
   "cell_type": "markdown",
   "metadata": {},
   "source": [
    "#### Conclusión del modelo"
   ]
  },
  {
   "cell_type": "markdown",
   "metadata": {},
   "source": [
    "De acuerdo con el score que arroja el modelo retirando las variables poco significativas, el puntaje sólo es explicado en un 74.22%, para cuando un estudiante está por encima/debajo de 250 puntos, por lo que el modelo con regresión logística con todas las variables iniciales es ligeramente mejor que este modelo reducido, por lo que estas variables estarían influyendo en el modelo."
   ]
  },
  {
   "cell_type": "markdown",
   "metadata": {},
   "source": [
    "#### f. Implementación de un modelo de probabilidad lineal con todas variables:"
   ]
  },
  {
   "cell_type": "code",
   "execution_count": 66,
   "metadata": {},
   "outputs": [
    {
     "data": {
      "text/html": [
       "<div>\n",
       "<style scoped>\n",
       "    .dataframe tbody tr th:only-of-type {\n",
       "        vertical-align: middle;\n",
       "    }\n",
       "\n",
       "    .dataframe tbody tr th {\n",
       "        vertical-align: top;\n",
       "    }\n",
       "\n",
       "    .dataframe thead th {\n",
       "        text-align: right;\n",
       "    }\n",
       "</style>\n",
       "<table border=\"1\" class=\"dataframe\">\n",
       "  <thead>\n",
       "    <tr style=\"text-align: right;\">\n",
       "      <th></th>\n",
       "      <th>Periodo</th>\n",
       "      <th>Departamento</th>\n",
       "      <th>Internet</th>\n",
       "      <th>Computador</th>\n",
       "      <th>Videojuegos</th>\n",
       "      <th>Libros</th>\n",
       "      <th>Economia</th>\n",
       "      <th>DLectura</th>\n",
       "      <th>DInternet</th>\n",
       "      <th>Tipo</th>\n",
       "      <th>Enfasis</th>\n",
       "      <th>Ubicacion</th>\n",
       "      <th>Estrato</th>\n",
       "      <th>Edad</th>\n",
       "      <th>Puntaje_bin</th>\n",
       "    </tr>\n",
       "  </thead>\n",
       "  <tbody>\n",
       "    <tr>\n",
       "      <th>SB11201910008548</th>\n",
       "      <td>0</td>\n",
       "      <td>31</td>\n",
       "      <td>1</td>\n",
       "      <td>1</td>\n",
       "      <td>0</td>\n",
       "      <td>0</td>\n",
       "      <td>1</td>\n",
       "      <td>1</td>\n",
       "      <td>1</td>\n",
       "      <td>1</td>\n",
       "      <td>3</td>\n",
       "      <td>1</td>\n",
       "      <td>4</td>\n",
       "      <td>21</td>\n",
       "      <td>0</td>\n",
       "    </tr>\n",
       "    <tr>\n",
       "      <th>SB11201910004475</th>\n",
       "      <td>0</td>\n",
       "      <td>31</td>\n",
       "      <td>1</td>\n",
       "      <td>0</td>\n",
       "      <td>0</td>\n",
       "      <td>1</td>\n",
       "      <td>1</td>\n",
       "      <td>4</td>\n",
       "      <td>1</td>\n",
       "      <td>1</td>\n",
       "      <td>3</td>\n",
       "      <td>1</td>\n",
       "      <td>3</td>\n",
       "      <td>23</td>\n",
       "      <td>0</td>\n",
       "    </tr>\n",
       "    <tr>\n",
       "      <th>SB11201910011427</th>\n",
       "      <td>0</td>\n",
       "      <td>31</td>\n",
       "      <td>1</td>\n",
       "      <td>0</td>\n",
       "      <td>1</td>\n",
       "      <td>0</td>\n",
       "      <td>0</td>\n",
       "      <td>4</td>\n",
       "      <td>0</td>\n",
       "      <td>1</td>\n",
       "      <td>3</td>\n",
       "      <td>1</td>\n",
       "      <td>2</td>\n",
       "      <td>20</td>\n",
       "      <td>0</td>\n",
       "    </tr>\n",
       "    <tr>\n",
       "      <th>SB11201910041975</th>\n",
       "      <td>0</td>\n",
       "      <td>31</td>\n",
       "      <td>1</td>\n",
       "      <td>1</td>\n",
       "      <td>0</td>\n",
       "      <td>0</td>\n",
       "      <td>0</td>\n",
       "      <td>4</td>\n",
       "      <td>3</td>\n",
       "      <td>1</td>\n",
       "      <td>3</td>\n",
       "      <td>1</td>\n",
       "      <td>2</td>\n",
       "      <td>27</td>\n",
       "      <td>0</td>\n",
       "    </tr>\n",
       "    <tr>\n",
       "      <th>SB11201910014490</th>\n",
       "      <td>0</td>\n",
       "      <td>4</td>\n",
       "      <td>1</td>\n",
       "      <td>1</td>\n",
       "      <td>1</td>\n",
       "      <td>3</td>\n",
       "      <td>0</td>\n",
       "      <td>1</td>\n",
       "      <td>1</td>\n",
       "      <td>0</td>\n",
       "      <td>0</td>\n",
       "      <td>1</td>\n",
       "      <td>6</td>\n",
       "      <td>21</td>\n",
       "      <td>1</td>\n",
       "    </tr>\n",
       "  </tbody>\n",
       "</table>\n",
       "</div>"
      ],
      "text/plain": [
       "                  Periodo  Departamento  Internet  Computador  Videojuegos  \\\n",
       "SB11201910008548        0            31         1           1            0   \n",
       "SB11201910004475        0            31         1           0            0   \n",
       "SB11201910011427        0            31         1           0            1   \n",
       "SB11201910041975        0            31         1           1            0   \n",
       "SB11201910014490        0             4         1           1            1   \n",
       "\n",
       "                  Libros  Economia  DLectura  DInternet  Tipo  Enfasis  \\\n",
       "SB11201910008548       0         1         1          1     1        3   \n",
       "SB11201910004475       1         1         4          1     1        3   \n",
       "SB11201910011427       0         0         4          0     1        3   \n",
       "SB11201910041975       0         0         4          3     1        3   \n",
       "SB11201910014490       3         0         1          1     0        0   \n",
       "\n",
       "                  Ubicacion  Estrato  Edad  Puntaje_bin  \n",
       "SB11201910008548          1        4    21            0  \n",
       "SB11201910004475          1        3    23            0  \n",
       "SB11201910011427          1        2    20            0  \n",
       "SB11201910041975          1        2    27            0  \n",
       "SB11201910014490          1        6    21            1  "
      ]
     },
     "execution_count": 66,
     "metadata": {},
     "output_type": "execute_result"
    }
   ],
   "source": [
    "base_3 = saber_d\n",
    "\n",
    "base_3[\"Puntaje_bin\"] = np.where(base_3[\"Puntaje\"] >= 277, 1, 0)\n",
    "base_3 = base_3.drop([\"Puntaje\"],axis=1)\n",
    "base_3.head()"
   ]
  },
  {
   "cell_type": "code",
   "execution_count": 67,
   "metadata": {},
   "outputs": [
    {
     "data": {
      "text/plain": [
       "0.16341829528480734"
      ]
     },
     "execution_count": 67,
     "metadata": {},
     "output_type": "execute_result"
    }
   ],
   "source": [
    "regresion(base_3,\"lineal\", \"Puntaje_bin\")[0]"
   ]
  },
  {
   "cell_type": "markdown",
   "metadata": {},
   "source": [
    "#### Conclusión del modelo"
   ]
  },
  {
   "cell_type": "markdown",
   "metadata": {},
   "source": [
    "De acuerdo al R2 del modelo probit (16.56%), en definitiva un modelo de regresión lineal, incluso probit, no aporta una significancia global aceptable."
   ]
  },
  {
   "cell_type": "markdown",
   "metadata": {},
   "source": [
    "### Generalidades\n",
    "\n",
    "- Para este caso de estudio, el modelo de regresión logística ofrece mejor explicación de las características socio-demográficas escogidas para predecir si éstas impactan en el desemepeño del puntaje global.\n",
    "\n",
    "- Clasificar el puntaje binario donde 1 esté relacionado a un cuantil, entre más alto sea el cuantil, más alto es el score que arroja el modelo de regresión logística.\n",
    "\n",
    "- Las variables periodo de presentación de la prueba, departamento, situación económica, dedicación a la lectura e internet, y énfasis de la institución académica (ej. técnico, académico, etc.), no representan mayor significancia para explicar el rendimiento de un estudiante en la prueba, incluso la ubicación (rural/urbana) y tener consola de videojuegos, tampoco alcanzan una significancia elevada en el modelo; éstas últimas dos variables, junto con tener internet, tener computador (puede que el estudiante tenga internet pero use el celular u otros dispositivos para conexión), tener libros en la casa, el tipo de institución (pública/privada), el estrato y la edad del estudiante, aparentan explicar el rendimiento de un estudiante en la prueba."
   ]
  },
  {
   "cell_type": "markdown",
   "metadata": {},
   "source": [
    "# 4. Desarrollar una herramienta interactiva de análisis\n",
    "\n",
    "Esta misión consiste en desarrollar una herramienta interactiva sencilla (que sea relevante en el contexto del problema) a partir de alguno de los análisis realizados en las secciones 2 o 3.\n",
    "\n",
    "Pautas generales:\n",
    "* Seleccionar uno de los análisis previos que pueda verse enriquecido con alguna característica de interactividad.\n",
    "* Seleccionar los parámetros que el usuario podrá cambiar.\n",
    "* Desarrollar las funciones que se deben ejecutar con cada acción del usuario.\n",
    "* Utilizar los paquetes `ipywidgets` o `panel` para implementar la herramienta.\n",
    "\n",
    "Pregunta guía:\n",
    "* ¿Cuál(es) es la pregunta que el usuario podrá hacerle a la herramienta, y cómo aporta al análisis?\n",
    "* ¿Qué aprendizajes clave puede explorar u obtener el usuario con esta herramienta basada en los datos?\n",
    "\n",
    "El entregable de esta misión es la herramienta implementada, acompañada de las instrucciones necesarias para que un usuario la pueda utilizar."
   ]
  },
  {
   "cell_type": "markdown",
   "metadata": {},
   "source": [
    "#### a. Herramienta interactiva para correr modelos de regresión, cambiando el cuantil de medición del puntaje y seleccionando modelo lineal o logit:\n",
    "\n",
    "Esta herramienta generará un modelo de regresión lineal ó logística, con datos elegidos por el usuario como:\n",
    "- Cuantil de medición de probabilidad de éxito (1), siendo el valor un umbral de calificación como una prueba buena o mala.\n",
    "- Tipo de modelo de regresión: lineal ó logística."
   ]
  },
  {
   "cell_type": "code",
   "execution_count": 68,
   "metadata": {},
   "outputs": [],
   "source": [
    "titulo = '# Desempeño del modelo de regresión'\n",
    "\n",
    "seleccion_c = widgets.FloatSlider(min = 0.0,max = 1.0, step = 0.1, description = \"Cuantil:\", disabled = False)\n",
    "\n",
    "seleccion_lm = widgets.Dropdown(options=[\"Lineal\", \"Logistica\"],value = \"Lineal\",description = \"Tipo regresión\", disabled = False,)"
   ]
  },
  {
   "cell_type": "markdown",
   "metadata": {},
   "source": [
    "- Función que se encarga de la interactividad del tablero:"
   ]
  },
  {
   "cell_type": "code",
   "execution_count": 69,
   "metadata": {},
   "outputs": [],
   "source": [
    "@pn.depends(seleccion_c, seleccion_lm)\n",
    "\n",
    "def interactividad(seleccion_c, seleccion_lm): \n",
    "    \n",
    "    base_panel = saber_d[[\"Puntaje\", \"Edad\", \"Estrato\",\"Internet\", \"Computador\", \"Videojuegos\", \"Libros\", \"Ubicacion\", \"Tipo\"]]\n",
    "    Cuantiles = int(saber_d.Puntaje.dropna().quantile([seleccion_c]).values)\n",
    "    \n",
    "    if seleccion_lm == \"Lineal\": \n",
    "        resultado = regresion(base_panel,\"lineal\", \"Puntaje\")[0]\n",
    "    \n",
    "    elif seleccion_lm == \"Logistica\":\n",
    "        \n",
    "        base_panel[\"Puntaje_bin\"] = np.where(base_panel[\"Puntaje\"] >= Cuantiles, 1, 0)\n",
    "        base_logit = base_panel.drop([\"Puntaje\"],axis=1)  \n",
    "        \n",
    "        resultado = regresion(base_logit,\"logistica\", \"Puntaje_bin\")[0]\n",
    "    \n",
    "    return resultado"
   ]
  },
  {
   "cell_type": "code",
   "execution_count": 70,
   "metadata": {
    "scrolled": false
   },
   "outputs": [],
   "source": [
    "tablero_control = pn.Row(pn.Column(titulo, seleccion_c,seleccion_lm), pn.Column(interactividad))"
   ]
  },
  {
   "cell_type": "markdown",
   "metadata": {},
   "source": [
    "#### b. Tablero control: "
   ]
  },
  {
   "cell_type": "code",
   "execution_count": 72,
   "metadata": {
    "scrolled": true
   },
   "outputs": [
    {
     "data": {
      "application/vnd.holoviews_exec.v0+json": "",
      "text/html": [
       "<div id='1023'>\n",
       "\n",
       "\n",
       "\n",
       "\n",
       "\n",
       "  <div class=\"bk-root\" id=\"1a393f5d-fb59-4cb2-9173-b322a1950636\" data-root-id=\"1023\"></div>\n",
       "</div>\n",
       "<script type=\"application/javascript\">(function(root) {\n",
       "  function embed_document(root) {\n",
       "    var docs_json = {\"efb78775-3472-4414-85f7-35b71babc918\":{\"defs\":[{\"extends\":null,\"module\":null,\"name\":\"ReactiveHTML1\",\"overrides\":[],\"properties\":[]},{\"extends\":null,\"module\":null,\"name\":\"FlexBox1\",\"overrides\":[],\"properties\":[{\"default\":\"flex-start\",\"kind\":null,\"name\":\"align_content\"},{\"default\":\"flex-start\",\"kind\":null,\"name\":\"align_items\"},{\"default\":\"row\",\"kind\":null,\"name\":\"flex_direction\"},{\"default\":\"wrap\",\"kind\":null,\"name\":\"flex_wrap\"},{\"default\":\"flex-start\",\"kind\":null,\"name\":\"justify_content\"}]},{\"extends\":null,\"module\":null,\"name\":\"TemplateActions1\",\"overrides\":[],\"properties\":[{\"default\":0,\"kind\":null,\"name\":\"open_modal\"},{\"default\":0,\"kind\":null,\"name\":\"close_modal\"}]},{\"extends\":null,\"module\":null,\"name\":\"MaterialTemplateActions1\",\"overrides\":[],\"properties\":[{\"default\":0,\"kind\":null,\"name\":\"open_modal\"},{\"default\":0,\"kind\":null,\"name\":\"close_modal\"}]}],\"roots\":{\"references\":[{\"attributes\":{\"children\":[{\"id\":\"1025\"},{\"id\":\"1026\"},{\"id\":\"1027\"}],\"margin\":[0,0,0,0],\"name\":\"Column00109\"},\"id\":\"1024\",\"type\":\"Column\"},{\"attributes\":{\"margin\":[5,5,5,5],\"name\":\"Str00112\",\"text\":\"&lt;pre&gt;0.6937680734252546&lt;/pre&gt;\"},\"id\":\"1030\",\"type\":\"panel.models.markup.HTML\"},{\"attributes\":{\"bundle\":{\"spec\":{\"model_id\":\"4344041a2c3c44439c08e5be96b2c799\",\"version_major\":2,\"version_minor\":0},\"state\":{\"state\":{\"0f9dbb8fcb2440c6862d98d64bde57c8\":{\"model_module\":\"@jupyter-widgets/controls\",\"model_module_version\":\"1.5.0\",\"model_name\":\"DescriptionStyleModel\",\"state\":{}},\"1c0d376f60794100851a1624b6fa5c2f\":{\"model_module\":\"@jupyter-widgets/base\",\"model_module_version\":\"1.2.0\",\"model_name\":\"LayoutModel\",\"state\":{}},\"4344041a2c3c44439c08e5be96b2c799\":{\"model_module\":\"@jupyter-widgets/controls\",\"model_module_version\":\"1.5.0\",\"model_name\":\"DropdownModel\",\"state\":{\"_dom_classes\":[],\"_options_labels\":[\"Lineal\",\"Logistica\"],\"description\":\"Tipo regresi\\u00f3n\",\"index\":1,\"layout\":\"IPY_MODEL_1c0d376f60794100851a1624b6fa5c2f\",\"style\":\"IPY_MODEL_0f9dbb8fcb2440c6862d98d64bde57c8\"}}},\"version_major\":2,\"version_minor\":0}},\"margin\":[5,5,5,5]},\"id\":\"1027\",\"type\":\"panel.models.ipywidget.IPyWidget\"},{\"attributes\":{\"bundle\":{\"spec\":{\"model_id\":\"4d4ba945a75340c399b3ad8ee8a76282\",\"version_major\":2,\"version_minor\":0},\"state\":{\"state\":{\"4d4ba945a75340c399b3ad8ee8a76282\":{\"model_module\":\"@jupyter-widgets/controls\",\"model_module_version\":\"1.5.0\",\"model_name\":\"FloatSliderModel\",\"state\":{\"_dom_classes\":[],\"description\":\"Cuantil:\",\"layout\":\"IPY_MODEL_e929e753edaa44dea1180ac6c3d98609\",\"max\":1.0,\"style\":\"IPY_MODEL_8cb619ad1f1249a893d1aaaaad8bf74b\",\"value\":0.6}},\"8cb619ad1f1249a893d1aaaaad8bf74b\":{\"model_module\":\"@jupyter-widgets/controls\",\"model_module_version\":\"1.5.0\",\"model_name\":\"SliderStyleModel\",\"state\":{}},\"e929e753edaa44dea1180ac6c3d98609\":{\"model_module\":\"@jupyter-widgets/base\",\"model_module_version\":\"1.2.0\",\"model_name\":\"LayoutModel\",\"state\":{}}},\"version_major\":2,\"version_minor\":0}},\"margin\":[5,5,5,5]},\"id\":\"1026\",\"type\":\"panel.models.ipywidget.IPyWidget\"},{\"attributes\":{\"children\":[{\"id\":\"1030\"}],\"margin\":[0,0,0,0],\"name\":\"Row00114\"},\"id\":\"1029\",\"type\":\"Row\"},{\"attributes\":{\"client_comm_id\":\"602f21c1a3ea4b198c1fab1a0e5da985\",\"comm_id\":\"26c3711f72904dd391f11c84ddb3f85f\",\"plot_id\":\"1023\"},\"id\":\"1031\",\"type\":\"panel.models.comm_manager.CommManager\"},{\"attributes\":{\"css_classes\":[\"markdown\"],\"margin\":[5,5,5,5],\"name\":\"Markdown00103\",\"text\":\"&lt;h1&gt;Desempe\\u00f1o del modelo de regresi\\u00f3n&lt;/h1&gt;\"},\"id\":\"1025\",\"type\":\"panel.models.markup.HTML\"},{\"attributes\":{\"children\":[{\"id\":\"1024\"},{\"id\":\"1028\"}],\"margin\":[0,0,0,0],\"name\":\"Row00116\"},\"id\":\"1023\",\"type\":\"Row\"},{\"attributes\":{\"children\":[{\"id\":\"1029\"}],\"margin\":[0,0,0,0],\"name\":\"Column00115\"},\"id\":\"1028\",\"type\":\"Column\"}],\"root_ids\":[\"1023\",\"1031\"]},\"title\":\"Bokeh Application\",\"version\":\"2.4.2\"}};\n",
       "    var render_items = [{\"docid\":\"efb78775-3472-4414-85f7-35b71babc918\",\"root_ids\":[\"1023\"],\"roots\":{\"1023\":\"1a393f5d-fb59-4cb2-9173-b322a1950636\"}}];\n",
       "    root.Bokeh.embed.embed_items_notebook(docs_json, render_items);\n",
       "  }\n",
       "  if (root.Bokeh !== undefined && root.Bokeh.Panel !== undefined && ( root['Plotly'] !== undefined)) {\n",
       "    embed_document(root);\n",
       "  } else {\n",
       "    var attempts = 0;\n",
       "    var timer = setInterval(function(root) {\n",
       "      if (root.Bokeh !== undefined && root.Bokeh.Panel !== undefined && (root['Plotly'] !== undefined)) {\n",
       "        clearInterval(timer);\n",
       "        embed_document(root);\n",
       "      } else if (document.readyState == \"complete\") {\n",
       "        attempts++;\n",
       "        if (attempts > 200) {\n",
       "          clearInterval(timer);\n",
       "          console.log(\"Bokeh: ERROR: Unable to run BokehJS code because BokehJS library is missing\");\n",
       "        }\n",
       "      }\n",
       "    }, 25, root)\n",
       "  }\n",
       "})(window);</script>"
      ],
      "text/plain": [
       "Row\n",
       "    [0] Column\n",
       "        [0] Markdown(str)\n",
       "        [1] IPyWidget(FloatSlider)\n",
       "        [2] IPyWidget(Dropdown)\n",
       "    [1] Column\n",
       "        [0] ParamFunction(function)"
      ]
     },
     "execution_count": 72,
     "metadata": {
      "application/vnd.holoviews_exec.v0+json": {
       "id": "1023"
      }
     },
     "output_type": "execute_result"
    }
   ],
   "source": [
    "tablero_control.servable()"
   ]
  },
  {
   "cell_type": "markdown",
   "metadata": {},
   "source": [
    "### Generalidades\n",
    "\n",
    "- En definitiva, una buena selección de las variables en la regresión lineal, garantiza un mejor ajuste y que estas variables ayuden a explicar el puntaje para aportar en su predicción, por lo que aunque se cambie el cuantil para el probit, el desempeño de la regresión es de 23%.\n",
    "\n",
    "- En cuanto al modelo logit, cambiar el cuantil si genera diferentes comportamientos del desempeño del modelo, por lo que la medida de éxito, es decir, el punto de corte que define un buen puntaje versus uno malo, si influencia el ajuste y en los extremos, estará desfasado.\n",
    "\n",
    "- Con el ejercicio realizado, se puede volver a cargar toda la base completa, es decir, con todas las variables para hacer el descarte por correlación de forma matemática y no visual, y en adelante volverlo a correr para validar si hay algunas variables importantes que no se hayan tenido en cuenta."
   ]
  }
 ],
 "metadata": {
  "kernelspec": {
   "display_name": "Python 3",
   "language": "python",
   "name": "python3"
  },
  "language_info": {
   "codemirror_mode": {
    "name": "ipython",
    "version": 3
   },
   "file_extension": ".py",
   "mimetype": "text/x-python",
   "name": "python",
   "nbconvert_exporter": "python",
   "pygments_lexer": "ipython3",
   "version": "3.7.4"
  }
 },
 "nbformat": 4,
 "nbformat_minor": 2
}
